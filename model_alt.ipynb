{
 "cells": [
  {
   "cell_type": "code",
   "execution_count": 1,
   "metadata": {},
   "outputs": [
    {
     "name": "stdout",
     "output_type": "stream",
     "text": [
      "WARNING:tensorflow:From C:\\Users\\akane\\AppData\\Roaming\\Python\\Python310\\site-packages\\keras\\src\\losses.py:2976: The name tf.losses.sparse_softmax_cross_entropy is deprecated. Please use tf.compat.v1.losses.sparse_softmax_cross_entropy instead.\n",
      "\n"
     ]
    }
   ],
   "source": [
    "#Import library\n",
    "import numpy as np\n",
    "import tensorflow as tf\n",
    "from sklearn.model_selection import train_test_split\n",
    "from sklearn.preprocessing import StandardScaler\n",
    "from tensorflow import feature_column\n",
    "import pandas as pd\n",
    "import joblib\n",
    "from tensorflow.keras.models import save_model\n",
    "from sklearn.compose import make_column_transformer\n",
    "from sklearn.preprocessing import OneHotEncoder\n"
   ]
  },
  {
   "cell_type": "code",
   "execution_count": 2,
   "metadata": {},
   "outputs": [],
   "source": [
    "# Dataset load\n",
    "df = pd.read_csv('Dataset/dataset_cleaned1.csv')"
   ]
  },
  {
   "cell_type": "code",
   "execution_count": 3,
   "metadata": {},
   "outputs": [
    {
     "name": "stdout",
     "output_type": "stream",
     "text": [
      "<class 'pandas.core.frame.DataFrame'>\n",
      "RangeIndex: 18595 entries, 0 to 18594\n",
      "Data columns (total 14 columns):\n",
      " #   Column                               Non-Null Count  Dtype  \n",
      "---  ------                               --------------  -----  \n",
      " 0   Maker                                18595 non-null  object \n",
      " 1   Model                                18595 non-null  object \n",
      " 2   Number_of_Cylinders                  18595 non-null  int64  \n",
      " 3   Engine_Type                          18595 non-null  int64  \n",
      " 4   Engine_Horse_Power                   18595 non-null  float64\n",
      " 5   Engine_Horse_Power_RPM               18595 non-null  int64  \n",
      " 6   Transmission                         18595 non-null  int64  \n",
      " 7   Mixed_Fuel_Consumption_per_100_km_l  18595 non-null  float64\n",
      " 8   Fuel_Tank_Capacity                   18595 non-null  int64  \n",
      " 9   Acceleration_0_to_100_Km             18595 non-null  float64\n",
      " 10  Max_Speed_Km_per_Hour                18595 non-null  int64  \n",
      " 11  Fuel_Grade                           18595 non-null  int64  \n",
      " 12  Year                                 18595 non-null  int64  \n",
      " 13  Type_of_Car                          18595 non-null  int64  \n",
      "dtypes: float64(3), int64(9), object(2)\n",
      "memory usage: 2.0+ MB\n"
     ]
    }
   ],
   "source": [
    "df.info()"
   ]
  },
  {
   "cell_type": "code",
   "execution_count": 4,
   "metadata": {},
   "outputs": [],
   "source": [
    "#Required features for training ? (tentative)\n",
    "req_feat = ['Number_of_Cylinders',\n",
    "            'Engine_Type',\n",
    "            'Engine_Horse_Power',\n",
    "            'Engine_Horse_Power_RPM',\n",
    "            'Transmission',\n",
    "            'Acceleration_0_to_100_Km',\n",
    "            'Fuel_Grade',\n",
    "            'Mixed_Fuel_Consumption_per_100_km_l']\n",
    "\n",
    "target = 'Mixed_Fuel_Consumption_per_100_km_l'\n",
    "\n",
    "#Data for train\n",
    "data = df[req_feat]"
   ]
  },
  {
   "cell_type": "code",
   "execution_count": 5,
   "metadata": {},
   "outputs": [
    {
     "name": "stdout",
     "output_type": "stream",
     "text": [
      "<class 'pandas.core.frame.DataFrame'>\n",
      "RangeIndex: 18595 entries, 0 to 18594\n",
      "Data columns (total 8 columns):\n",
      " #   Column                               Non-Null Count  Dtype  \n",
      "---  ------                               --------------  -----  \n",
      " 0   Number_of_Cylinders                  18595 non-null  int64  \n",
      " 1   Engine_Type                          18595 non-null  int64  \n",
      " 2   Engine_Horse_Power                   18595 non-null  float64\n",
      " 3   Engine_Horse_Power_RPM               18595 non-null  int64  \n",
      " 4   Transmission                         18595 non-null  int64  \n",
      " 5   Acceleration_0_to_100_Km             18595 non-null  float64\n",
      " 6   Fuel_Grade                           18595 non-null  int64  \n",
      " 7   Mixed_Fuel_Consumption_per_100_km_l  18595 non-null  float64\n",
      "dtypes: float64(3), int64(5)\n",
      "memory usage: 1.1 MB\n"
     ]
    }
   ],
   "source": [
    "data.info()"
   ]
  },
  {
   "cell_type": "code",
   "execution_count": 6,
   "metadata": {},
   "outputs": [
    {
     "name": "stdout",
     "output_type": "stream",
     "text": [
      "Number of training datasets: 16735\n",
      "Number of validation datasets: 1860\n"
     ]
    }
   ],
   "source": [
    "#Data split into val and train set\n",
    "train_df, val_df = train_test_split(data, test_size=0.1)\n",
    "train_label = train_df.pop('Mixed_Fuel_Consumption_per_100_km_l')\n",
    "val_label = val_df.pop('Mixed_Fuel_Consumption_per_100_km_l')\n",
    "print(f'Number of training datasets: {len(train_df)}')\n",
    "print(f'Number of validation datasets: {len(val_df)}')"
   ]
  },
  {
   "cell_type": "code",
   "execution_count": 7,
   "metadata": {},
   "outputs": [
    {
     "name": "stdout",
     "output_type": "stream",
     "text": [
      "<class 'pandas.core.frame.DataFrame'>\n",
      "Index: 16735 entries, 12602 to 15564\n",
      "Data columns (total 7 columns):\n",
      " #   Column                    Non-Null Count  Dtype  \n",
      "---  ------                    --------------  -----  \n",
      " 0   Number_of_Cylinders       16735 non-null  int64  \n",
      " 1   Engine_Type               16735 non-null  int64  \n",
      " 2   Engine_Horse_Power        16735 non-null  float64\n",
      " 3   Engine_Horse_Power_RPM    16735 non-null  int64  \n",
      " 4   Transmission              16735 non-null  int64  \n",
      " 5   Acceleration_0_to_100_Km  16735 non-null  float64\n",
      " 6   Fuel_Grade                16735 non-null  int64  \n",
      "dtypes: float64(2), int64(5)\n",
      "memory usage: 1.0 MB\n"
     ]
    }
   ],
   "source": [
    "train_df.info()"
   ]
  },
  {
   "cell_type": "code",
   "execution_count": 8,
   "metadata": {},
   "outputs": [],
   "source": [
    "# Standardize the data\n",
    "columns_to_standardize = ['Engine_Horse_Power',\n",
    "                          'Engine_Horse_Power_RPM',\n",
    "                          'Acceleration_0_to_100_Km']\n",
    "scaler = StandardScaler()\n",
    "train_df[columns_to_standardize] = scaler.fit_transform(train_df[columns_to_standardize])\n",
    "val_df[columns_to_standardize] = scaler.transform(val_df[columns_to_standardize])"
   ]
  },
  {
   "cell_type": "code",
   "execution_count": 9,
   "metadata": {},
   "outputs": [],
   "source": [
    "# One Hot Encode\n",
    "categorical_columns = ['Number_of_Cylinders',\n",
    "            'Engine_Type',\n",
    "            'Transmission',\n",
    "            'Fuel_Grade']\n",
    "transformer = make_column_transformer(\n",
    "    (OneHotEncoder(), categorical_columns),\n",
    "    remainder='passthrough')\n",
    "train_data = transformer.fit_transform(train_df)\n",
    "train_df = pd.DataFrame(\n",
    "    train_data, \n",
    "    columns=transformer.get_feature_names_out())\n",
    "val_data = transformer.transform(val_df)\n",
    "val_df = pd.DataFrame(\n",
    "    val_data, \n",
    "    columns=transformer.get_feature_names_out())\n"
   ]
  },
  {
   "cell_type": "code",
   "execution_count": 12,
   "metadata": {},
   "outputs": [],
   "source": [
    "# Convert dataframe to tensorflow datasets\n",
    "train_data = tf.data.Dataset.from_tensor_slices((train_df.values, train_label.values))\n",
    "val_data = tf.data.Dataset.from_tensor_slices((val_df.values, val_label.values))"
   ]
  },
  {
   "cell_type": "code",
   "execution_count": 13,
   "metadata": {},
   "outputs": [],
   "source": [
    "#Batches and shuffles (for train only) the data\n",
    "train_data = train_data.shuffle(10).batch(32)\n",
    "val_data = val_data.batch(32)"
   ]
  },
  {
   "cell_type": "code",
   "execution_count": 15,
   "metadata": {},
   "outputs": [
    {
     "name": "stdout",
     "output_type": "stream",
     "text": [
      "WARNING:tensorflow:From C:\\Users\\akane\\AppData\\Roaming\\Python\\Python310\\site-packages\\keras\\src\\backend.py:873: The name tf.get_default_graph is deprecated. Please use tf.compat.v1.get_default_graph instead.\n",
      "\n",
      "Epoch 1/50\n",
      "WARNING:tensorflow:From C:\\Users\\akane\\AppData\\Roaming\\Python\\Python310\\site-packages\\keras\\src\\utils\\tf_utils.py:492: The name tf.ragged.RaggedTensorValue is deprecated. Please use tf.compat.v1.ragged.RaggedTensorValue instead.\n",
      "\n",
      "WARNING:tensorflow:From C:\\Users\\akane\\AppData\\Roaming\\Python\\Python310\\site-packages\\keras\\src\\engine\\base_layer_utils.py:384: The name tf.executing_eagerly_outside_functions is deprecated. Please use tf.compat.v1.executing_eagerly_outside_functions instead.\n",
      "\n",
      "523/523 [==============================] - 2s 2ms/step - loss: 6.8092 - mae: 1.7284 - val_loss: 1.9826 - val_mae: 1.0431\n",
      "Epoch 2/50\n",
      "523/523 [==============================] - 1s 2ms/step - loss: 1.6824 - mae: 0.9527 - val_loss: 1.4532 - val_mae: 0.8993\n",
      "Epoch 3/50\n",
      "523/523 [==============================] - 1s 2ms/step - loss: 1.4378 - mae: 0.8849 - val_loss: 1.3422 - val_mae: 0.8674\n",
      "Epoch 4/50\n",
      "523/523 [==============================] - 1s 2ms/step - loss: 1.3690 - mae: 0.8651 - val_loss: 1.2884 - val_mae: 0.8497\n",
      "Epoch 5/50\n",
      "523/523 [==============================] - 1s 2ms/step - loss: 1.3330 - mae: 0.8526 - val_loss: 1.2533 - val_mae: 0.8369\n",
      "Epoch 6/50\n",
      "523/523 [==============================] - 1s 2ms/step - loss: 1.3103 - mae: 0.8443 - val_loss: 1.2245 - val_mae: 0.8264\n",
      "Epoch 7/50\n",
      "523/523 [==============================] - 1s 2ms/step - loss: 1.2944 - mae: 0.8386 - val_loss: 1.2149 - val_mae: 0.8241\n",
      "Epoch 8/50\n",
      "523/523 [==============================] - 1s 2ms/step - loss: 1.2847 - mae: 0.8348 - val_loss: 1.2024 - val_mae: 0.8194\n",
      "Epoch 9/50\n",
      "523/523 [==============================] - 1s 2ms/step - loss: 1.2741 - mae: 0.8312 - val_loss: 1.1895 - val_mae: 0.8158\n",
      "Epoch 10/50\n",
      "523/523 [==============================] - 1s 1ms/step - loss: 1.2665 - mae: 0.8285 - val_loss: 1.1799 - val_mae: 0.8126\n",
      "Epoch 11/50\n",
      "523/523 [==============================] - 1s 2ms/step - loss: 1.2607 - mae: 0.8266 - val_loss: 1.1704 - val_mae: 0.8091\n",
      "Epoch 12/50\n",
      "523/523 [==============================] - 1s 2ms/step - loss: 1.2536 - mae: 0.8242 - val_loss: 1.1678 - val_mae: 0.8098\n",
      "Epoch 13/50\n",
      "523/523 [==============================] - 1s 2ms/step - loss: 1.2483 - mae: 0.8224 - val_loss: 1.1595 - val_mae: 0.8066\n",
      "Epoch 14/50\n",
      "523/523 [==============================] - 1s 2ms/step - loss: 1.2433 - mae: 0.8208 - val_loss: 1.1525 - val_mae: 0.8042\n",
      "Epoch 15/50\n",
      "523/523 [==============================] - 1s 2ms/step - loss: 1.2385 - mae: 0.8194 - val_loss: 1.1460 - val_mae: 0.8014\n",
      "Epoch 16/50\n",
      "523/523 [==============================] - 1s 2ms/step - loss: 1.2326 - mae: 0.8173 - val_loss: 1.1372 - val_mae: 0.7972\n",
      "Epoch 17/50\n",
      "523/523 [==============================] - 1s 2ms/step - loss: 1.2275 - mae: 0.8155 - val_loss: 1.1320 - val_mae: 0.7951\n",
      "Epoch 18/50\n",
      "523/523 [==============================] - 1s 2ms/step - loss: 1.2228 - mae: 0.8139 - val_loss: 1.1287 - val_mae: 0.7949\n",
      "Epoch 19/50\n",
      "523/523 [==============================] - 1s 2ms/step - loss: 1.2192 - mae: 0.8127 - val_loss: 1.1224 - val_mae: 0.7928\n",
      "Epoch 20/50\n",
      "523/523 [==============================] - 1s 2ms/step - loss: 1.2152 - mae: 0.8111 - val_loss: 1.1202 - val_mae: 0.7919\n",
      "Epoch 21/50\n",
      "523/523 [==============================] - 1s 2ms/step - loss: 1.2112 - mae: 0.8097 - val_loss: 1.1140 - val_mae: 0.7893\n",
      "Epoch 22/50\n",
      "523/523 [==============================] - 1s 2ms/step - loss: 1.2080 - mae: 0.8087 - val_loss: 1.1116 - val_mae: 0.7889\n",
      "Epoch 23/50\n",
      "523/523 [==============================] - 1s 2ms/step - loss: 1.2045 - mae: 0.8073 - val_loss: 1.1037 - val_mae: 0.7851\n",
      "Epoch 24/50\n",
      "523/523 [==============================] - 1s 2ms/step - loss: 1.2008 - mae: 0.8057 - val_loss: 1.1013 - val_mae: 0.7853\n",
      "Epoch 25/50\n",
      "523/523 [==============================] - 1s 2ms/step - loss: 1.1979 - mae: 0.8048 - val_loss: 1.0959 - val_mae: 0.7826\n",
      "Epoch 26/50\n",
      "523/523 [==============================] - 1s 2ms/step - loss: 1.1949 - mae: 0.8036 - val_loss: 1.0932 - val_mae: 0.7816\n",
      "Epoch 27/50\n",
      "523/523 [==============================] - 1s 2ms/step - loss: 1.1932 - mae: 0.8030 - val_loss: 1.0917 - val_mae: 0.7814\n",
      "Epoch 28/50\n",
      "523/523 [==============================] - 1s 2ms/step - loss: 1.1898 - mae: 0.8018 - val_loss: 1.0862 - val_mae: 0.7789\n",
      "Epoch 29/50\n",
      "523/523 [==============================] - 1s 2ms/step - loss: 1.1869 - mae: 0.8006 - val_loss: 1.0846 - val_mae: 0.7781\n",
      "Epoch 30/50\n",
      "523/523 [==============================] - 1s 2ms/step - loss: 1.1844 - mae: 0.7999 - val_loss: 1.0848 - val_mae: 0.7789\n",
      "Epoch 31/50\n",
      "523/523 [==============================] - 1s 2ms/step - loss: 1.1817 - mae: 0.7990 - val_loss: 1.0807 - val_mae: 0.7772\n",
      "Epoch 32/50\n",
      "523/523 [==============================] - 1s 2ms/step - loss: 1.1798 - mae: 0.7983 - val_loss: 1.0795 - val_mae: 0.7766\n",
      "Epoch 33/50\n",
      "523/523 [==============================] - 1s 2ms/step - loss: 1.1777 - mae: 0.7976 - val_loss: 1.0770 - val_mae: 0.7760\n",
      "Epoch 34/50\n",
      "523/523 [==============================] - 1s 2ms/step - loss: 1.1742 - mae: 0.7961 - val_loss: 1.0754 - val_mae: 0.7756\n",
      "Epoch 35/50\n",
      "523/523 [==============================] - 1s 2ms/step - loss: 1.1731 - mae: 0.7957 - val_loss: 1.0719 - val_mae: 0.7735\n",
      "Epoch 36/50\n",
      "523/523 [==============================] - 1s 2ms/step - loss: 1.1707 - mae: 0.7950 - val_loss: 1.0688 - val_mae: 0.7721\n",
      "Epoch 37/50\n",
      "523/523 [==============================] - 1s 2ms/step - loss: 1.1682 - mae: 0.7941 - val_loss: 1.0690 - val_mae: 0.7732\n",
      "Epoch 38/50\n",
      "523/523 [==============================] - 1s 2ms/step - loss: 1.1654 - mae: 0.7933 - val_loss: 1.0638 - val_mae: 0.7694\n",
      "Epoch 39/50\n",
      "523/523 [==============================] - 1s 2ms/step - loss: 1.1639 - mae: 0.7927 - val_loss: 1.0668 - val_mae: 0.7727\n",
      "Epoch 40/50\n",
      "523/523 [==============================] - 1s 2ms/step - loss: 1.1624 - mae: 0.7922 - val_loss: 1.0611 - val_mae: 0.7690\n",
      "Epoch 41/50\n",
      "523/523 [==============================] - 1s 2ms/step - loss: 1.1599 - mae: 0.7913 - val_loss: 1.0591 - val_mae: 0.7684\n",
      "Epoch 42/50\n",
      "523/523 [==============================] - 1s 2ms/step - loss: 1.1592 - mae: 0.7909 - val_loss: 1.0575 - val_mae: 0.7677\n",
      "Epoch 43/50\n",
      "523/523 [==============================] - 1s 2ms/step - loss: 1.1586 - mae: 0.7909 - val_loss: 1.0568 - val_mae: 0.7681\n",
      "Epoch 44/50\n",
      "523/523 [==============================] - 1s 2ms/step - loss: 1.1562 - mae: 0.7900 - val_loss: 1.0521 - val_mae: 0.7653\n",
      "Epoch 45/50\n",
      "523/523 [==============================] - 1s 2ms/step - loss: 1.1545 - mae: 0.7894 - val_loss: 1.0518 - val_mae: 0.7652\n",
      "Epoch 46/50\n",
      "523/523 [==============================] - 1s 2ms/step - loss: 1.1523 - mae: 0.7888 - val_loss: 1.0507 - val_mae: 0.7649\n",
      "Epoch 47/50\n",
      "523/523 [==============================] - 1s 2ms/step - loss: 1.1514 - mae: 0.7882 - val_loss: 1.0503 - val_mae: 0.7652\n",
      "Epoch 48/50\n",
      "523/523 [==============================] - 1s 2ms/step - loss: 1.1502 - mae: 0.7877 - val_loss: 1.0511 - val_mae: 0.7666\n",
      "Epoch 49/50\n",
      "523/523 [==============================] - 1s 2ms/step - loss: 1.1497 - mae: 0.7876 - val_loss: 1.0487 - val_mae: 0.7654\n",
      "Epoch 50/50\n",
      "523/523 [==============================] - 1s 2ms/step - loss: 1.1472 - mae: 0.7869 - val_loss: 1.0467 - val_mae: 0.7641\n"
     ]
    },
    {
     "data": {
      "text/plain": [
       "<keras.src.callbacks.History at 0x1f427f7c8e0>"
      ]
     },
     "execution_count": 15,
     "metadata": {},
     "output_type": "execute_result"
    }
   ],
   "source": [
    "#Create model and train\n",
    "\n",
    "stop_early = tf.keras.callbacks.EarlyStopping(monitor='val_loss', patience=5)\n",
    "\n",
    "model = tf.keras.Sequential([\n",
    "  tf.keras.layers.Dense(160, activation='relu', input_shape=(19,)),\n",
    "  tf.keras.layers.Dense(1)\n",
    "])\n",
    "\n",
    "model.compile(optimizer=tf.keras.optimizers.Adam(learning_rate=0.001),\n",
    "              loss='mse',\n",
    "              metrics=['mae'])\n",
    "\n",
    "model.fit(train_data,\n",
    "          validation_data=val_data,\n",
    "          epochs=50,\n",
    "          callbacks=[stop_early])"
   ]
  },
  {
   "cell_type": "code",
   "execution_count": 17,
   "metadata": {},
   "outputs": [
    {
     "name": "stderr",
     "output_type": "stream",
     "text": [
      "C:\\Users\\akane\\AppData\\Local\\Temp\\ipykernel_6604\\3562494085.py:2: UserWarning: You are saving your model as an HDF5 file via `model.save()`. This file format is considered legacy. We recommend using instead the native Keras format, e.g. `model.save('my_model.keras')`.\n",
      "  save_model(model, \"car_regress.h5\")\n"
     ]
    },
    {
     "data": {
      "text/plain": [
       "['transformer.joblib']"
      ]
     },
     "execution_count": 17,
     "metadata": {},
     "output_type": "execute_result"
    }
   ],
   "source": [
    "# Save model in a h5 file\n",
    "save_model(model, \"car_regress.h5\")\n",
    "\n",
    "# Save scaler in a joblib file\n",
    "joblib.dump(scaler, 'scaler.joblib')\n",
    "\n",
    "# Save transformer in a joblib file\n",
    "joblib.dump(transformer, 'transformer.joblib')"
   ]
  },
  {
   "cell_type": "code",
   "execution_count": 21,
   "metadata": {},
   "outputs": [
    {
     "name": "stdout",
     "output_type": "stream",
     "text": [
      "<class 'pandas.core.frame.DataFrame'>\n",
      "RangeIndex: 1 entries, 0 to 0\n",
      "Data columns (total 7 columns):\n",
      " #   Column                    Non-Null Count  Dtype  \n",
      "---  ------                    --------------  -----  \n",
      " 0   Number_of_Cylinders       1 non-null      int64  \n",
      " 1   Engine_Type               1 non-null      int64  \n",
      " 2   Transmission              1 non-null      int64  \n",
      " 3   Fuel_Grade                1 non-null      int64  \n",
      " 4   Engine_Horse_Power        1 non-null      float64\n",
      " 5   Engine_Horse_Power_RPM    1 non-null      float64\n",
      " 6   Acceleration_0_to_100_Km  1 non-null      float64\n",
      "dtypes: float64(3), int64(4)\n",
      "memory usage: 184.0 bytes\n",
      "1/1 [==============================] - 0s 717us/step\n"
     ]
    },
    {
     "name": "stdout",
     "output_type": "stream",
     "text": [
      "[[15.88987]]\n"
     ]
    }
   ],
   "source": [
    "data_test = [[8, 0, 0, 2, 500, 5600, 6.7]] #Toyota Sequioa\n",
    "data_test = pd.DataFrame(data_test, columns=['Number_of_Cylinders', \n",
    "                                                            'Engine_Type',\n",
    "                                                            'Transmission',\n",
    "                                                            'Fuel_Grade',\n",
    "                                                            'Engine_Horse_Power',\n",
    "                                                            'Engine_Horse_Power_RPM',\n",
    "                                                            'Acceleration_0_to_100_Km'])\n",
    "data_test[columns_to_standardize] = scaler.transform(data_test[columns_to_standardize])\n",
    "data_test.info()\n",
    "data_test = transformer.transform(data_test)\n",
    "data_test= tf.data.Dataset.from_tensor_slices(data_test)\n",
    "data_test = data_test.batch(1)\n",
    "hasil = model.predict(data_test)\n",
    "print(hasil)"
   ]
  }
 ],
 "metadata": {
  "kernelspec": {
   "display_name": "Python 3",
   "language": "python",
   "name": "python3"
  },
  "language_info": {
   "codemirror_mode": {
    "name": "ipython",
    "version": 3
   },
   "file_extension": ".py",
   "mimetype": "text/x-python",
   "name": "python",
   "nbconvert_exporter": "python",
   "pygments_lexer": "ipython3",
   "version": "3.10.10"
  }
 },
 "nbformat": 4,
 "nbformat_minor": 2
}
