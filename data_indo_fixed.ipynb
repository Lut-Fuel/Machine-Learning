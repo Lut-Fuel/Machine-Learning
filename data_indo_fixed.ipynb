{
 "cells": [
  {
   "cell_type": "code",
   "execution_count": 1,
   "metadata": {},
   "outputs": [
    {
     "name": "stderr",
     "output_type": "stream",
     "text": [
      "c:\\Users\\ziyad\\AppData\\Local\\Programs\\Python\\Python310\\lib\\site-packages\\numpy\\_distributor_init.py:30: UserWarning: loaded more than 1 DLL from .libs:\n",
      "c:\\Users\\ziyad\\AppData\\Local\\Programs\\Python\\Python310\\lib\\site-packages\\numpy\\.libs\\libopenblas.FB5AE2TYXYH2IJRDKGDGQ3XBKLKTF43H.gfortran-win_amd64.dll\n",
      "c:\\Users\\ziyad\\AppData\\Local\\Programs\\Python\\Python310\\lib\\site-packages\\numpy\\.libs\\libopenblas64__v0.3.21-gcc_10_3_0.dll\n",
      "  warnings.warn(\"loaded more than 1 DLL from .libs:\"\n"
     ]
    }
   ],
   "source": [
    "import pandas as pd\n",
    "import numpy as np"
   ]
  },
  {
   "cell_type": "code",
   "execution_count": 2,
   "metadata": {},
   "outputs": [],
   "source": [
    "#Read the data file\n",
    "df = pd.read_csv('Dataset/Mobil Indonesia.csv')\n",
    "\n",
    "#Dropping Null and unused data\n",
    "df.dropna(inplace=True)\n",
    "df = df[~df['Model'].str.contains('Hybrid')]"
   ]
  },
  {
   "cell_type": "code",
   "execution_count": 3,
   "metadata": {},
   "outputs": [],
   "source": [
    "#Processing engine type data\n",
    "engine_to_remove = ['Battery Electric', 'Electric', 'Hybrid', 'Fuel Cell']\n",
    "df = df[~df['Engine Type'].isin(engine_to_remove)]\n",
    "df['Engine Type'] = df['Engine Type'].replace({\n",
    "    'Turbocharged Gasoline Direct Injection' : 0,\n",
    "    'Gasoline Direct Injection' : 0,\n",
    "    'Petrol' : 0,\n",
    "    'Dual Variable Valve Timing-intelligent' : 0,\n",
    "    'Multi Point Injection' : 0,\n",
    "    'Turbocharged Diesel' : 1,\n",
    "    'Diesel/Petrol/Plug-in Hybrid' : 1,\n",
    "    'Diesel/Petrol/Mild Hybrid' : 1,\n",
    "    'Diesel' : 1,\n",
    "    'Direct Injection' : 0\n",
    "})"
   ]
  },
  {
   "cell_type": "code",
   "execution_count": 4,
   "metadata": {},
   "outputs": [],
   "source": [
    "#Processing transmission type data\n",
    "df['Transmission'] = df['Transmission'].replace({\n",
    "    '7-speed dual clutch': 1,\n",
    "    '8-speed dual clutch': 1,\n",
    "    '8-speed automatic': 0,\n",
    "    '6-speed automatic': 0,\n",
    "    '9-speed automatic': 0,\n",
    "    'Automatic': 0,\n",
    "    '4-speed automatic': 0,\n",
    "    'Continuously Variable Transmission': 0,\n",
    "    '10-speed automatic': 0,\n",
    "    '5-speed manual': 1,\n",
    "    '6-speed manual': 1,\n",
    "    '6-speed dual clutch': 1,\n",
    "    '8-speed Automatic': 0,\n",
    "    '1-speed direct drive': 0,\n",
    "    'Manual': 1\n",
    "})"
   ]
  },
  {
   "cell_type": "code",
   "execution_count": 5,
   "metadata": {},
   "outputs": [],
   "source": [
    "#Processing car type data\n",
    "df['Type of Car'] = df['Type of Car'].replace({\n",
    "    'Sedan': 0,\n",
    "    'Saloon': 0,\n",
    "    'Coupe': 0,\n",
    "    'Convertible': 0,\n",
    "    'Coupe/Convertible': 0,\n",
    "    'SUV': 1,\n",
    "    'Hatchback': 1,\n",
    "    'MPV': 2,\n",
    "    'Minivan': 2,\n",
    "    'Van': 2,\n",
    "    'Estate': 2,\n",
    "    'Pickup': 3\n",
    "})\n",
    "df['Type of Car'] = df['Type of Car'].astype(int)"
   ]
  },
  {
   "cell_type": "code",
   "execution_count": 6,
   "metadata": {},
   "outputs": [],
   "source": [
    "#Processing fuel tank capacity data\n",
    "df['Fuel Tank Capacity'] = df['Fuel Tank Capacity'].str.replace(' L', '')\n",
    "df['Fuel Tank Capacity'] = df['Fuel Tank Capacity'].replace({\n",
    "    '56-69': np.mean([56, 69]),\n",
    "    '60-82': np.mean([60, 82]),\n",
    "    '63-70': np.mean([63, 70]),\n",
    "    '56-63': np.mean([56, 63])\n",
    "})\n",
    "df['Fuel Tank Capacity'] = df['Fuel Tank Capacity'].astype(int)"
   ]
  },
  {
   "cell_type": "code",
   "execution_count": 7,
   "metadata": {},
   "outputs": [],
   "source": [
    "#Processing acceleration data\n",
    "df['Acceleration 0 to 100 Km'] = df['Acceleration 0 to 100 Km'].str.replace(' s', '')"
   ]
  },
  {
   "cell_type": "code",
   "execution_count": 8,
   "metadata": {},
   "outputs": [],
   "source": [
    "#Processing fuel grade data\n",
    "df['Fuel Grade (in Octane)'] = df['Fuel Grade (in Octane)'].replace({\n",
    "    '95': 3,\n",
    "    '98': 3,\n",
    "    '91': 1,\n",
    "    '87': 0,\n",
    "    '93': 2,\n",
    "    '95.0': 3,\n",
    "    '98.0': 3,\n",
    "    '95-98': 3,\n",
    "    '87.0': 0,\n",
    "    '93.0': 2,\n",
    "    '91.0': 1\n",
    "})\n",
    "df['Fuel Grade (in Octane)'] = df['Fuel Grade (in Octane)'].astype(int)"
   ]
  },
  {
   "cell_type": "code",
   "execution_count": 9,
   "metadata": {},
   "outputs": [],
   "source": [
    "#Processing engine hp data\n",
    "def kW_to_hp(power):\n",
    "    horse_power = 1.3596216173*power\n",
    "    horse_power = np.floor(horse_power)\n",
    "    return horse_power\n",
    "\n",
    "df['Engine Horse Power'] = df['Engine Horse Power'].replace({\n",
    "    '140 kW': kW_to_hp(140),\n",
    "    '74 kW': kW_to_hp(74),\n",
    "    '126 kW': kW_to_hp(126),\n",
    "    '77 kW': kW_to_hp(77),\n",
    "    '110 kW': kW_to_hp(110),\n",
    "    '81 kW': kW_to_hp(81),\n",
    "    '96 kW': kW_to_hp(96),\n",
    "    '133 kW': kW_to_hp(133)\n",
    "})\n",
    "\n",
    "df['Engine Horse Power'] = df['Engine Horse Power'].replace({\n",
    "    '163-300': np.mean([163, 300]),\n",
    "    '300-575': np.mean([300, 575]),\n",
    "    '163-550': np.mean([163, 550])\n",
    "})\n",
    "\n",
    "df['Engine Horse Power'] = df['Engine Horse Power'].astype(float)"
   ]
  },
  {
   "cell_type": "code",
   "execution_count": 10,
   "metadata": {},
   "outputs": [],
   "source": [
    "#Processing cylinder data\n",
    "df['Number of Cylinders'] = df['Number of Cylinders'].replace({\n",
    "    '4.0': 4,\n",
    "    '6.0': 6,\n",
    "    '8.0': 8,\n",
    "    '10.0': 10,\n",
    "    '3.0': 3,\n",
    "    '4-8': 4\n",
    "})\n",
    "df['Number of Cylinders'] = df['Number of Cylinders'].astype(int)"
   ]
  },
  {
   "cell_type": "code",
   "execution_count": 11,
   "metadata": {},
   "outputs": [],
   "source": [
    "#Processing engine hp rpm data\n",
    "df['Engine Horse Power RPM'] = df['Engine Horse Power RPM'].replace({\n",
    "    '3500-6500': np.mean([3500, 6500]),\n",
    "    '5500-6500': np.mean([5500-6500]),\n",
    "    '3500-5500': np.mean([3500, 5500])\n",
    "})\n",
    "df['Engine Horse Power RPM'] = df['Engine Horse Power RPM'].astype(float)\n",
    "df['Engine Horse Power RPM'] = df['Engine Horse Power RPM'].astype(int)"
   ]
  },
  {
   "cell_type": "code",
   "execution_count": 12,
   "metadata": {},
   "outputs": [],
   "source": [
    "#Processing max speed data\n",
    "df['Max Speed Km per Hour'] = df['Max Speed Km per Hour'].replace({\n",
    "    '180-243 km/h': np.mean([180, 243]),\n",
    "    '180-286 km/h': np.mean([180, 286]),\n",
    "    '250-300 km/h': np.mean([250, 300]),\n",
    "    '230-250 km/h': np.mean([230, 250]),\n",
    "})\n",
    "df['Max Speed Km per Hour'] = df['Max Speed Km per Hour'].astype(float)\n",
    "df['Max Speed Km per Hour'] = df['Max Speed Km per Hour'].astype(int)"
   ]
  },
  {
   "cell_type": "code",
   "execution_count": 13,
   "metadata": {},
   "outputs": [],
   "source": [
    "#Renaming columns by adding '_'\n",
    "df.columns = df.columns.str.replace(' ', '_')\n",
    "df.rename(columns={'Fuel_Grade_(in_Octane)': 'Fuel_Grade'}, inplace=True)\n",
    "df.rename(columns={'Mixed_Fuel_Consumption_per_Km': 'Mixed_Fuel_Consumption_per_100_km_l'}, inplace=True)"
   ]
  },
  {
   "cell_type": "code",
   "execution_count": 14,
   "metadata": {},
   "outputs": [],
   "source": [
    "#Processing the mixed fuel consumption, which is the target\n",
    "df['Mixed_Fuel_Consumption_per_100_km_l'] = df['Mixed_Fuel_Consumption_per_100_km_l'].str.replace('L/', '')\n",
    "df['Mixed_Fuel_Consumption_per_100_km_l'] = df['Mixed_Fuel_Consumption_per_100_km_l'].str.replace('km', '')\n",
    "df[['Consumption_L_per_100_km', 'Distance_km']] = df['Mixed_Fuel_Consumption_per_100_km_l'].str.split(expand=True)\n",
    "df['Consumption_L_per_100_km'] = pd.to_numeric(df['Consumption_L_per_100_km'], errors='coerce')\n",
    "df['Distance_km'] = pd.to_numeric(df['Distance_km'], errors='coerce')\n",
    "df['Consumption_km_per_L'] = df['Distance_km'] / df['Consumption_L_per_100_km']\n",
    "df = df.drop(['Consumption_L_per_100_km', 'Distance_km', 'Mixed_Fuel_Consumption_per_100_km_l'], axis=1)\n",
    "df.rename(columns={'Consumption_km_per_L': 'Mixed_Fuel_Consumption_per_100_km_l'}, inplace=True)\n",
    "df['Mixed_Fuel_Consumption_per_100_km_l'] = df['Mixed_Fuel_Consumption_per_100_km_l'].round(1)"
   ]
  },
  {
   "cell_type": "code",
   "execution_count": 15,
   "metadata": {},
   "outputs": [],
   "source": [
    "df.dropna(inplace=True)"
   ]
  },
  {
   "cell_type": "code",
   "execution_count": 16,
   "metadata": {},
   "outputs": [],
   "source": [
    "#Saving the cleaned data\n",
    "df.to_csv('Dataset/indo_car_train_data_other.csv', index=False)\n",
    "\n",
    "#Dropping the mixed fuel consumption data for the database\n",
    "df = df.drop('Mixed_Fuel_Consumption_per_100_km_l', axis=1)\n",
    "\n",
    "#Combining Maker and Model data into new column 'Car Name'\n",
    "df['Car Name'] = pd.concat([df['Maker'], df['Model']], axis=1).agg(' '.join, axis=1)\n",
    "\n",
    "#Saving the database\n",
    "df.to_csv('Dataset/database_indo_other.csv', index=False)"
   ]
  }
 ],
 "metadata": {
  "kernelspec": {
   "display_name": "Python 3",
   "language": "python",
   "name": "python3"
  },
  "language_info": {
   "codemirror_mode": {
    "name": "ipython",
    "version": 3
   },
   "file_extension": ".py",
   "mimetype": "text/x-python",
   "name": "python",
   "nbconvert_exporter": "python",
   "pygments_lexer": "ipython3",
   "version": "3.10.10"
  }
 },
 "nbformat": 4,
 "nbformat_minor": 2
}
