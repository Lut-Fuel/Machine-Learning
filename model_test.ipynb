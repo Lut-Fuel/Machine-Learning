{
 "cells": [
  {
   "cell_type": "code",
   "execution_count": 1,
   "metadata": {},
   "outputs": [],
   "source": [
    "import pandas as pd\n",
    "import tensorflow as tf\n",
    "import numpy as np\n",
    "from sklearn.model_selection import train_test_split"
   ]
  },
  {
   "cell_type": "code",
   "execution_count": 2,
   "metadata": {},
   "outputs": [],
   "source": [
    "# # Rename Columns\n",
    "# df = pd.read_csv('Dataset/dataset_cleaned.csv', low_memory=False)\n",
    "\n",
    "# column_mapping = {\n",
    "#     'Make': 'Maker',\n",
    "#     'number_of_cylinders': 'Number_of_Cylinders',\n",
    "#     'engine_type': 'Engine_Type',\n",
    "#     'engine_hp': 'Engine_Horse_Power',\n",
    "#     'engine_hp_rpm': 'Engine_Horse_Power_RPM',\n",
    "#     'transmission': 'Transmission',\n",
    "#     'mixed_fuel_consumption_per_100_km_l': 'Mixed_Fuel_Consumption_per_100_km_l',\n",
    "#     'fuel_tank_capacity_l': 'Fuel_Tank_Capacity',\n",
    "#     'acceleration_0_100_km/h_s': 'Acceleration_0_to_100_Km',\n",
    "#     'max_speed_km_per_h': 'Max_Speed_Km_per_Hour',\n",
    "#     'fuel_grade': 'Fuel_Grade',\n",
    "#     'year': 'Year',\n",
    "#     'Tipe_Mobil': 'Type_of_Car'\n",
    "# }\n",
    "\n",
    "# # Rename columns using the mapping\n",
    "# df.rename(columns=column_mapping, inplace=True)\n",
    "\n",
    "# df.to_csv('Dataset/dataset_cleaned1.csv', index=False)"
   ]
  },
  {
   "cell_type": "code",
   "execution_count": 3,
   "metadata": {},
   "outputs": [
    {
     "data": {
      "text/html": [
       "<div>\n",
       "<style scoped>\n",
       "    .dataframe tbody tr th:only-of-type {\n",
       "        vertical-align: middle;\n",
       "    }\n",
       "\n",
       "    .dataframe tbody tr th {\n",
       "        vertical-align: top;\n",
       "    }\n",
       "\n",
       "    .dataframe thead th {\n",
       "        text-align: right;\n",
       "    }\n",
       "</style>\n",
       "<table border=\"1\" class=\"dataframe\">\n",
       "  <thead>\n",
       "    <tr style=\"text-align: right;\">\n",
       "      <th></th>\n",
       "      <th>Number_of_Cylinders</th>\n",
       "      <th>Engine_Type</th>\n",
       "      <th>Engine_Horse_Power</th>\n",
       "      <th>Engine_Horse_Power_RPM</th>\n",
       "      <th>Transmission</th>\n",
       "      <th>Mixed_Fuel_Consumption_per_100_km_l</th>\n",
       "      <th>Acceleration_0_to_100_Km</th>\n",
       "      <th>Fuel_Grade</th>\n",
       "    </tr>\n",
       "  </thead>\n",
       "  <tbody>\n",
       "    <tr>\n",
       "      <th>0</th>\n",
       "      <td>8</td>\n",
       "      <td>0</td>\n",
       "      <td>354.0</td>\n",
       "      <td>6500</td>\n",
       "      <td>1</td>\n",
       "      <td>13.4</td>\n",
       "      <td>5.6</td>\n",
       "      <td>3</td>\n",
       "    </tr>\n",
       "    <tr>\n",
       "      <th>1</th>\n",
       "      <td>8</td>\n",
       "      <td>0</td>\n",
       "      <td>326.0</td>\n",
       "      <td>5800</td>\n",
       "      <td>1</td>\n",
       "      <td>12.2</td>\n",
       "      <td>6.1</td>\n",
       "      <td>3</td>\n",
       "    </tr>\n",
       "    <tr>\n",
       "      <th>2</th>\n",
       "      <td>6</td>\n",
       "      <td>0</td>\n",
       "      <td>240.0</td>\n",
       "      <td>5750</td>\n",
       "      <td>0</td>\n",
       "      <td>13.2</td>\n",
       "      <td>8.7</td>\n",
       "      <td>2</td>\n",
       "    </tr>\n",
       "    <tr>\n",
       "      <th>3</th>\n",
       "      <td>6</td>\n",
       "      <td>0</td>\n",
       "      <td>290.0</td>\n",
       "      <td>6200</td>\n",
       "      <td>0</td>\n",
       "      <td>10.4</td>\n",
       "      <td>7.6</td>\n",
       "      <td>3</td>\n",
       "    </tr>\n",
       "    <tr>\n",
       "      <th>4</th>\n",
       "      <td>6</td>\n",
       "      <td>0</td>\n",
       "      <td>255.0</td>\n",
       "      <td>6800</td>\n",
       "      <td>1</td>\n",
       "      <td>10.0</td>\n",
       "      <td>5.0</td>\n",
       "      <td>3</td>\n",
       "    </tr>\n",
       "  </tbody>\n",
       "</table>\n",
       "</div>"
      ],
      "text/plain": [
       "   Number_of_Cylinders  Engine_Type  Engine_Horse_Power  \\\n",
       "0                    8            0               354.0   \n",
       "1                    8            0               326.0   \n",
       "2                    6            0               240.0   \n",
       "3                    6            0               290.0   \n",
       "4                    6            0               255.0   \n",
       "\n",
       "   Engine_Horse_Power_RPM  Transmission  Mixed_Fuel_Consumption_per_100_km_l  \\\n",
       "0                    6500             1                                 13.4   \n",
       "1                    5800             1                                 12.2   \n",
       "2                    5750             0                                 13.2   \n",
       "3                    6200             0                                 10.4   \n",
       "4                    6800             1                                 10.0   \n",
       "\n",
       "   Acceleration_0_to_100_Km  Fuel_Grade  \n",
       "0                       5.6           3  \n",
       "1                       6.1           3  \n",
       "2                       8.7           2  \n",
       "3                       7.6           3  \n",
       "4                       5.0           3  "
      ]
     },
     "execution_count": 3,
     "metadata": {},
     "output_type": "execute_result"
    }
   ],
   "source": [
    "column = ['Number_of_Cylinders',\n",
    "          'Engine_Type',\n",
    "          'Engine_Horse_Power',\n",
    "          'Engine_Horse_Power_RPM',\n",
    "          'Transmission',\n",
    "          'Acceleration_0_to_100_Km',\n",
    "          'Fuel_Grade',\n",
    "          'Mixed_Fuel_Consumption_per_100_km_l']\n",
    "\n",
    "target = 'Mixed_Fuel_Consumption_per_100_km_l'\n",
    "\n",
    "df = pd.read_csv('Dataset/dataset_cleaned1.csv', usecols=column, low_memory=False)\n",
    "df.head()"
   ]
  },
  {
   "cell_type": "markdown",
   "metadata": {},
   "source": [
    "**TEST MODEL**\n",
    "\n",
    "This method is based on tensorflow's mpg regression: https://www.tensorflow.org/tutorials/keras/regression"
   ]
  },
  {
   "cell_type": "code",
   "execution_count": 4,
   "metadata": {},
   "outputs": [
    {
     "name": "stdout",
     "output_type": "stream",
     "text": [
      "Train data: 14876\n",
      "Test data: 3719\n"
     ]
    }
   ],
   "source": [
    "train_data = df.sample(frac=0.8, random_state=0)\n",
    "test_data = df.drop(train_data.index)\n",
    "print(f\"Train data: {len(train_data)}\")\n",
    "print(f\"Test data: {len(test_data)}\")"
   ]
  },
  {
   "cell_type": "code",
   "execution_count": 5,
   "metadata": {},
   "outputs": [],
   "source": [
    "train_features = train_data.copy()\n",
    "test_features = test_data.copy()\n",
    "\n",
    "train_labels = train_features.pop(target)\n",
    "test_labels = test_features.pop(target)"
   ]
  },
  {
   "cell_type": "code",
   "execution_count": 6,
   "metadata": {},
   "outputs": [
    {
     "data": {
      "text/html": [
       "<div>\n",
       "<style scoped>\n",
       "    .dataframe tbody tr th:only-of-type {\n",
       "        vertical-align: middle;\n",
       "    }\n",
       "\n",
       "    .dataframe tbody tr th {\n",
       "        vertical-align: top;\n",
       "    }\n",
       "\n",
       "    .dataframe thead th {\n",
       "        text-align: right;\n",
       "    }\n",
       "</style>\n",
       "<table border=\"1\" class=\"dataframe\">\n",
       "  <thead>\n",
       "    <tr style=\"text-align: right;\">\n",
       "      <th></th>\n",
       "      <th>mean</th>\n",
       "      <th>std</th>\n",
       "    </tr>\n",
       "  </thead>\n",
       "  <tbody>\n",
       "    <tr>\n",
       "      <th>Number_of_Cylinders</th>\n",
       "      <td>4.657368</td>\n",
       "      <td>1.353355</td>\n",
       "    </tr>\n",
       "    <tr>\n",
       "      <th>Engine_Type</th>\n",
       "      <td>0.334902</td>\n",
       "      <td>0.471972</td>\n",
       "    </tr>\n",
       "    <tr>\n",
       "      <th>Engine_Horse_Power</th>\n",
       "      <td>173.874899</td>\n",
       "      <td>93.959119</td>\n",
       "    </tr>\n",
       "    <tr>\n",
       "      <th>Engine_Horse_Power_RPM</th>\n",
       "      <td>5221.490992</td>\n",
       "      <td>1006.727885</td>\n",
       "    </tr>\n",
       "    <tr>\n",
       "      <th>Transmission</th>\n",
       "      <td>0.588734</td>\n",
       "      <td>0.492080</td>\n",
       "    </tr>\n",
       "    <tr>\n",
       "      <th>Mixed_Fuel_Consumption_per_100_km_l</th>\n",
       "      <td>7.769505</td>\n",
       "      <td>2.608764</td>\n",
       "    </tr>\n",
       "    <tr>\n",
       "      <th>Acceleration_0_to_100_Km</th>\n",
       "      <td>10.128542</td>\n",
       "      <td>3.069313</td>\n",
       "    </tr>\n",
       "    <tr>\n",
       "      <th>Fuel_Grade</th>\n",
       "      <td>1.905351</td>\n",
       "      <td>1.385076</td>\n",
       "    </tr>\n",
       "  </tbody>\n",
       "</table>\n",
       "</div>"
      ],
      "text/plain": [
       "                                            mean          std\n",
       "Number_of_Cylinders                     4.657368     1.353355\n",
       "Engine_Type                             0.334902     0.471972\n",
       "Engine_Horse_Power                    173.874899    93.959119\n",
       "Engine_Horse_Power_RPM               5221.490992  1006.727885\n",
       "Transmission                            0.588734     0.492080\n",
       "Mixed_Fuel_Consumption_per_100_km_l     7.769505     2.608764\n",
       "Acceleration_0_to_100_Km               10.128542     3.069313\n",
       "Fuel_Grade                              1.905351     1.385076"
      ]
     },
     "execution_count": 6,
     "metadata": {},
     "output_type": "execute_result"
    }
   ],
   "source": [
    "train_data.describe().transpose()[['mean', 'std']]"
   ]
  },
  {
   "cell_type": "code",
   "execution_count": 7,
   "metadata": {},
   "outputs": [
    {
     "name": "stdout",
     "output_type": "stream",
     "text": [
      "[[4.6573682e+00 3.3490193e-01 1.7387497e+02 5.2214941e+03 5.8873391e-01\n",
      "  1.0128551e+01 1.9053503e+00]]\n"
     ]
    }
   ],
   "source": [
    "normalizer = tf.keras.layers.Normalization(axis=-1)\n",
    "normalizer.adapt(np.array(train_features))\n",
    "print(normalizer.mean.numpy())"
   ]
  },
  {
   "cell_type": "code",
   "execution_count": 8,
   "metadata": {},
   "outputs": [
    {
     "name": "stdout",
     "output_type": "stream",
     "text": [
      "Model: \"sequential\"\n",
      "_________________________________________________________________\n",
      " Layer (type)                Output Shape              Param #   \n",
      "=================================================================\n",
      " normalization (Normalizatio  (None, 7)                15        \n",
      " n)                                                              \n",
      "                                                                 \n",
      " dense (Dense)               (None, 1)                 8         \n",
      "                                                                 \n",
      "=================================================================\n",
      "Total params: 23\n",
      "Trainable params: 8\n",
      "Non-trainable params: 15\n",
      "_________________________________________________________________\n"
     ]
    }
   ],
   "source": [
    "model = tf.keras.Sequential([\n",
    "    normalizer,\n",
    "    tf.keras.layers.Dense(units=1)\n",
    "])\n",
    "\n",
    "model.compile(optimizer=tf.keras.optimizers.Adam(learning_rate=0.001),\n",
    "              loss='mean_absolute_error',\n",
    "              metrics=['mae'])\n",
    "\n",
    "model.summary()"
   ]
  },
  {
   "cell_type": "code",
   "execution_count": 9,
   "metadata": {},
   "outputs": [
    {
     "name": "stdout",
     "output_type": "stream",
     "text": [
      "Epoch 1/50\n",
      "372/372 [==============================] - 3s 4ms/step - loss: 7.5663 - mae: 7.5663 - val_loss: 7.4716 - val_mae: 7.4716\n",
      "Epoch 2/50\n",
      "372/372 [==============================] - 1s 3ms/step - loss: 7.1940 - mae: 7.1940 - val_loss: 7.1001 - val_mae: 7.1001\n",
      "Epoch 3/50\n",
      "372/372 [==============================] - 1s 3ms/step - loss: 6.8219 - mae: 6.8219 - val_loss: 6.7283 - val_mae: 6.7283\n",
      "Epoch 4/50\n",
      "372/372 [==============================] - 1s 3ms/step - loss: 6.4500 - mae: 6.4500 - val_loss: 6.3568 - val_mae: 6.3568\n",
      "Epoch 5/50\n",
      "372/372 [==============================] - 1s 3ms/step - loss: 6.0778 - mae: 6.0778 - val_loss: 5.9850 - val_mae: 5.9850\n",
      "Epoch 6/50\n",
      "372/372 [==============================] - 1s 3ms/step - loss: 5.7057 - mae: 5.7057 - val_loss: 5.6133 - val_mae: 5.6133\n",
      "Epoch 7/50\n",
      "372/372 [==============================] - 1s 3ms/step - loss: 5.3336 - mae: 5.3336 - val_loss: 5.2415 - val_mae: 5.2415\n",
      "Epoch 8/50\n",
      "372/372 [==============================] - 1s 3ms/step - loss: 4.9617 - mae: 4.9617 - val_loss: 4.8699 - val_mae: 4.8699\n",
      "Epoch 9/50\n",
      "372/372 [==============================] - 1s 3ms/step - loss: 4.5897 - mae: 4.5897 - val_loss: 4.4983 - val_mae: 4.4983\n",
      "Epoch 10/50\n",
      "372/372 [==============================] - 1s 3ms/step - loss: 4.2192 - mae: 4.2192 - val_loss: 4.1294 - val_mae: 4.1294\n",
      "Epoch 11/50\n",
      "372/372 [==============================] - 1s 3ms/step - loss: 3.8525 - mae: 3.8525 - val_loss: 3.7647 - val_mae: 3.7647\n",
      "Epoch 12/50\n",
      "372/372 [==============================] - 1s 3ms/step - loss: 3.4943 - mae: 3.4943 - val_loss: 3.4100 - val_mae: 3.4100\n",
      "Epoch 13/50\n",
      "372/372 [==============================] - 1s 3ms/step - loss: 3.1475 - mae: 3.1475 - val_loss: 3.0660 - val_mae: 3.0660\n",
      "Epoch 14/50\n",
      "372/372 [==============================] - 1s 3ms/step - loss: 2.8136 - mae: 2.8136 - val_loss: 2.7354 - val_mae: 2.7354\n",
      "Epoch 15/50\n",
      "372/372 [==============================] - 1s 3ms/step - loss: 2.4954 - mae: 2.4954 - val_loss: 2.4237 - val_mae: 2.4237\n",
      "Epoch 16/50\n",
      "372/372 [==============================] - 1s 3ms/step - loss: 2.1990 - mae: 2.1990 - val_loss: 2.1360 - val_mae: 2.1360\n",
      "Epoch 17/50\n",
      "372/372 [==============================] - 1s 3ms/step - loss: 1.9328 - mae: 1.9328 - val_loss: 1.8839 - val_mae: 1.8839\n",
      "Epoch 18/50\n",
      "372/372 [==============================] - 1s 3ms/step - loss: 1.7106 - mae: 1.7106 - val_loss: 1.6794 - val_mae: 1.6794\n",
      "Epoch 19/50\n",
      "372/372 [==============================] - 1s 3ms/step - loss: 1.5320 - mae: 1.5320 - val_loss: 1.5180 - val_mae: 1.5180\n",
      "Epoch 20/50\n",
      "372/372 [==============================] - 1s 3ms/step - loss: 1.3961 - mae: 1.3961 - val_loss: 1.3982 - val_mae: 1.3982\n",
      "Epoch 21/50\n",
      "372/372 [==============================] - 1s 3ms/step - loss: 1.3043 - mae: 1.3043 - val_loss: 1.3190 - val_mae: 1.3190\n",
      "Epoch 22/50\n",
      "372/372 [==============================] - 1s 3ms/step - loss: 1.2462 - mae: 1.2462 - val_loss: 1.2677 - val_mae: 1.2677\n",
      "Epoch 23/50\n",
      "372/372 [==============================] - 1s 4ms/step - loss: 1.2126 - mae: 1.2126 - val_loss: 1.2379 - val_mae: 1.2379\n",
      "Epoch 24/50\n",
      "372/372 [==============================] - 1s 4ms/step - loss: 1.1940 - mae: 1.1940 - val_loss: 1.2197 - val_mae: 1.2197\n",
      "Epoch 25/50\n",
      "372/372 [==============================] - 2s 5ms/step - loss: 1.1843 - mae: 1.1843 - val_loss: 1.2100 - val_mae: 1.2100\n",
      "Epoch 26/50\n",
      "372/372 [==============================] - 1s 4ms/step - loss: 1.1796 - mae: 1.1796 - val_loss: 1.2037 - val_mae: 1.2037\n",
      "Epoch 27/50\n",
      "372/372 [==============================] - 1s 4ms/step - loss: 1.1771 - mae: 1.1771 - val_loss: 1.2002 - val_mae: 1.2002\n",
      "Epoch 28/50\n",
      "372/372 [==============================] - 1s 4ms/step - loss: 1.1752 - mae: 1.1752 - val_loss: 1.1978 - val_mae: 1.1978\n",
      "Epoch 29/50\n",
      "372/372 [==============================] - 1s 3ms/step - loss: 1.1741 - mae: 1.1741 - val_loss: 1.1961 - val_mae: 1.1961\n",
      "Epoch 30/50\n",
      "372/372 [==============================] - 1s 3ms/step - loss: 1.1731 - mae: 1.1731 - val_loss: 1.1948 - val_mae: 1.1948\n",
      "Epoch 31/50\n",
      "372/372 [==============================] - 1s 3ms/step - loss: 1.1726 - mae: 1.1726 - val_loss: 1.1933 - val_mae: 1.1933\n",
      "Epoch 32/50\n",
      "372/372 [==============================] - 1s 3ms/step - loss: 1.1717 - mae: 1.1717 - val_loss: 1.1924 - val_mae: 1.1924\n",
      "Epoch 33/50\n",
      "372/372 [==============================] - 1s 3ms/step - loss: 1.1710 - mae: 1.1710 - val_loss: 1.1922 - val_mae: 1.1922\n",
      "Epoch 34/50\n",
      "372/372 [==============================] - 1s 3ms/step - loss: 1.1705 - mae: 1.1705 - val_loss: 1.1905 - val_mae: 1.1905\n",
      "Epoch 35/50\n",
      "372/372 [==============================] - 1s 3ms/step - loss: 1.1699 - mae: 1.1699 - val_loss: 1.1896 - val_mae: 1.1896\n",
      "Epoch 36/50\n",
      "372/372 [==============================] - 1s 3ms/step - loss: 1.1691 - mae: 1.1691 - val_loss: 1.1889 - val_mae: 1.1889\n",
      "Epoch 37/50\n",
      "372/372 [==============================] - 1s 3ms/step - loss: 1.1688 - mae: 1.1688 - val_loss: 1.1882 - val_mae: 1.1882\n",
      "Epoch 38/50\n",
      "372/372 [==============================] - 1s 3ms/step - loss: 1.1683 - mae: 1.1683 - val_loss: 1.1875 - val_mae: 1.1875\n",
      "Epoch 39/50\n",
      "372/372 [==============================] - 1s 3ms/step - loss: 1.1678 - mae: 1.1678 - val_loss: 1.1867 - val_mae: 1.1867\n",
      "Epoch 40/50\n",
      "372/372 [==============================] - 1s 3ms/step - loss: 1.1673 - mae: 1.1673 - val_loss: 1.1856 - val_mae: 1.1856\n",
      "Epoch 41/50\n",
      "372/372 [==============================] - 1s 3ms/step - loss: 1.1672 - mae: 1.1672 - val_loss: 1.1853 - val_mae: 1.1853\n",
      "Epoch 42/50\n",
      "372/372 [==============================] - 1s 3ms/step - loss: 1.1668 - mae: 1.1668 - val_loss: 1.1851 - val_mae: 1.1851\n",
      "Epoch 43/50\n",
      "372/372 [==============================] - 1s 3ms/step - loss: 1.1664 - mae: 1.1664 - val_loss: 1.1842 - val_mae: 1.1842\n",
      "Epoch 44/50\n",
      "372/372 [==============================] - 1s 3ms/step - loss: 1.1660 - mae: 1.1660 - val_loss: 1.1841 - val_mae: 1.1841\n",
      "Epoch 45/50\n",
      "372/372 [==============================] - 1s 3ms/step - loss: 1.1658 - mae: 1.1658 - val_loss: 1.1831 - val_mae: 1.1831\n",
      "Epoch 46/50\n",
      "372/372 [==============================] - 1s 3ms/step - loss: 1.1653 - mae: 1.1653 - val_loss: 1.1827 - val_mae: 1.1827\n",
      "Epoch 47/50\n",
      "372/372 [==============================] - 1s 3ms/step - loss: 1.1651 - mae: 1.1651 - val_loss: 1.1825 - val_mae: 1.1825\n",
      "Epoch 48/50\n",
      "372/372 [==============================] - 1s 3ms/step - loss: 1.1648 - mae: 1.1648 - val_loss: 1.1821 - val_mae: 1.1821\n",
      "Epoch 49/50\n",
      "372/372 [==============================] - 1s 3ms/step - loss: 1.1646 - mae: 1.1646 - val_loss: 1.1818 - val_mae: 1.1818\n",
      "Epoch 50/50\n",
      "372/372 [==============================] - 1s 3ms/step - loss: 1.1644 - mae: 1.1644 - val_loss: 1.1807 - val_mae: 1.1807\n"
     ]
    }
   ],
   "source": [
    "history = model.fit(train_features, train_labels, epochs=50, verbose=1, validation_split=0.2)"
   ]
  },
  {
   "cell_type": "markdown",
   "metadata": {},
   "source": [
    "lol, loss sama mae nya sama nilainya tiap epoch. sus"
   ]
  },
  {
   "cell_type": "code",
   "execution_count": 10,
   "metadata": {},
   "outputs": [],
   "source": [
    "model.save(\"model_test1.h5\")"
   ]
  },
  {
   "cell_type": "code",
   "execution_count": 11,
   "metadata": {},
   "outputs": [],
   "source": [
    "# Assuming you have a Normalization layer named 'normalizer'\n",
    "saved_mean = normalizer.mean.numpy()\n",
    "saved_variance = normalizer.variance.numpy()\n",
    "\n",
    "# Save the mean and variance to a file\n",
    "np.save('saved_mean.npy', saved_mean)\n",
    "np.save('saved_variance.npy', saved_variance)"
   ]
  },
  {
   "cell_type": "code",
   "execution_count": 19,
   "metadata": {},
   "outputs": [],
   "source": [
    "normalizer1 = tf.keras.layers.Normalization(axis=-1, input_shape=(train_features.shape[1],))\n",
    "normalizer1.adapt(np.array(train_features))"
   ]
  },
  {
   "cell_type": "code",
   "execution_count": null,
   "metadata": {},
   "outputs": [],
   "source": [
    "model1 = tf"
   ]
  }
 ],
 "metadata": {
  "kernelspec": {
   "display_name": "Python 3",
   "language": "python",
   "name": "python3"
  },
  "language_info": {
   "codemirror_mode": {
    "name": "ipython",
    "version": 3
   },
   "file_extension": ".py",
   "mimetype": "text/x-python",
   "name": "python",
   "nbconvert_exporter": "python",
   "pygments_lexer": "ipython3",
   "version": "3.9.13"
  }
 },
 "nbformat": 4,
 "nbformat_minor": 2
}
