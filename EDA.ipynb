{
 "cells": [
  {
   "cell_type": "markdown",
   "metadata": {},
   "source": [
    "## Features\n",
    "\n",
    "= "
   ]
  },
  {
   "cell_type": "code",
   "execution_count": 1,
   "metadata": {},
   "outputs": [],
   "source": [
    "import pandas as pd\n",
    "#from ydata_profiling import ProfileReport"
   ]
  },
  {
   "cell_type": "code",
   "execution_count": 2,
   "metadata": {},
   "outputs": [],
   "source": [
    "columns_dipakai = ['Make',\n",
    "                   'Modle',\n",
    "                   'Year_from',\n",
    "                   'Year_to',\n",
    "                   'Body_type',\n",
    "                   'number_of_cylinders',\n",
    "                   'engine_type',\n",
    "                   'engine_hp',\n",
    "                   'engine_hp_rpm',\n",
    "                   'transmission',\n",
    "                   'mixed_fuel_consumption_per_100_km_l',\n",
    "                   'fuel_tank_capacity_l',\n",
    "                   'acceleration_0_100_km/h_s',\n",
    "                   'max_speed_km_per_h',\n",
    "                   'fuel_grade',\n",
    "                   'battery_capacity_KW_per_h',\n",
    "                   'charging_time_h',\n",
    "                   'electric_range_km'\n",
    "                   ]"
   ]
  },
  {
   "cell_type": "code",
   "execution_count": 3,
   "metadata": {},
   "outputs": [],
   "source": [
    "#df = pd.read_csv('E:/Important/Machine-Learning/Dataset/Car Dataset 1945-2020.csv', usecols = columns_dipakai, low_memory=False)\n",
    "df = pd.read_csv('Dataset/Car Dataset 1945-2020.csv', usecols = columns_dipakai, low_memory=False)"
   ]
  },
  {
   "cell_type": "code",
   "execution_count": 4,
   "metadata": {},
   "outputs": [],
   "source": [
    "df.rename(columns = {'Modle':'Model'}, inplace = True)"
   ]
  },
  {
   "cell_type": "code",
   "execution_count": 5,
   "metadata": {},
   "outputs": [
    {
     "name": "stdout",
     "output_type": "stream",
     "text": [
      "<class 'pandas.core.frame.DataFrame'>\n",
      "RangeIndex: 70823 entries, 0 to 70822\n",
      "Data columns (total 18 columns):\n",
      " #   Column                               Non-Null Count  Dtype  \n",
      "---  ------                               --------------  -----  \n",
      " 0   Make                                 70823 non-null  object \n",
      " 1   Model                                70823 non-null  object \n",
      " 2   Year_from                            70586 non-null  float64\n",
      " 3   Year_to                              70189 non-null  float64\n",
      " 4   Body_type                            52252 non-null  object \n",
      " 5   number_of_cylinders                  59544 non-null  float64\n",
      " 6   engine_type                          59878 non-null  object \n",
      " 7   engine_hp                            59877 non-null  float64\n",
      " 8   engine_hp_rpm                        59408 non-null  object \n",
      " 9   transmission                         59842 non-null  object \n",
      " 10  mixed_fuel_consumption_per_100_km_l  40566 non-null  float64\n",
      " 11  fuel_tank_capacity_l                 57847 non-null  object \n",
      " 12  acceleration_0_100_km/h_s            40181 non-null  float64\n",
      " 13  max_speed_km_per_h                   43074 non-null  object \n",
      " 14  fuel_grade                           58715 non-null  object \n",
      " 15  battery_capacity_KW_per_h            15 non-null     object \n",
      " 16  electric_range_km                    15 non-null     float64\n",
      " 17  charging_time_h                      7 non-null      object \n",
      "dtypes: float64(7), object(11)\n",
      "memory usage: 9.7+ MB\n"
     ]
    }
   ],
   "source": [
    "df.info()"
   ]
  },
  {
   "cell_type": "code",
   "execution_count": 6,
   "metadata": {},
   "outputs": [
    {
     "data": {
      "text/html": [
       "<div>\n",
       "<style scoped>\n",
       "    .dataframe tbody tr th:only-of-type {\n",
       "        vertical-align: middle;\n",
       "    }\n",
       "\n",
       "    .dataframe tbody tr th {\n",
       "        vertical-align: top;\n",
       "    }\n",
       "\n",
       "    .dataframe thead th {\n",
       "        text-align: right;\n",
       "    }\n",
       "</style>\n",
       "<table border=\"1\" class=\"dataframe\">\n",
       "  <thead>\n",
       "    <tr style=\"text-align: right;\">\n",
       "      <th></th>\n",
       "      <th>Make</th>\n",
       "      <th>Model</th>\n",
       "      <th>Year_from</th>\n",
       "      <th>Year_to</th>\n",
       "      <th>Body_type</th>\n",
       "      <th>number_of_cylinders</th>\n",
       "      <th>engine_type</th>\n",
       "      <th>engine_hp</th>\n",
       "      <th>engine_hp_rpm</th>\n",
       "      <th>transmission</th>\n",
       "      <th>mixed_fuel_consumption_per_100_km_l</th>\n",
       "      <th>fuel_tank_capacity_l</th>\n",
       "      <th>acceleration_0_100_km/h_s</th>\n",
       "      <th>max_speed_km_per_h</th>\n",
       "      <th>fuel_grade</th>\n",
       "      <th>battery_capacity_KW_per_h</th>\n",
       "      <th>electric_range_km</th>\n",
       "      <th>charging_time_h</th>\n",
       "    </tr>\n",
       "  </thead>\n",
       "  <tbody>\n",
       "    <tr>\n",
       "      <th>0</th>\n",
       "      <td>AC</td>\n",
       "      <td>ACE</td>\n",
       "      <td>1993.0</td>\n",
       "      <td>2000.0</td>\n",
       "      <td>Cabriolet</td>\n",
       "      <td>8.0</td>\n",
       "      <td>Gasoline</td>\n",
       "      <td>354.0</td>\n",
       "      <td>6500</td>\n",
       "      <td>Manual</td>\n",
       "      <td>NaN</td>\n",
       "      <td>90</td>\n",
       "      <td>5.0</td>\n",
       "      <td>250</td>\n",
       "      <td>95</td>\n",
       "      <td>NaN</td>\n",
       "      <td>NaN</td>\n",
       "      <td>NaN</td>\n",
       "    </tr>\n",
       "    <tr>\n",
       "      <th>1</th>\n",
       "      <td>AC</td>\n",
       "      <td>ACE</td>\n",
       "      <td>1993.0</td>\n",
       "      <td>2000.0</td>\n",
       "      <td>Cabriolet</td>\n",
       "      <td>8.0</td>\n",
       "      <td>Gasoline</td>\n",
       "      <td>326.0</td>\n",
       "      <td>5800</td>\n",
       "      <td>Manual</td>\n",
       "      <td>NaN</td>\n",
       "      <td>90</td>\n",
       "      <td>5.0</td>\n",
       "      <td>250</td>\n",
       "      <td>98</td>\n",
       "      <td>NaN</td>\n",
       "      <td>NaN</td>\n",
       "      <td>NaN</td>\n",
       "    </tr>\n",
       "    <tr>\n",
       "      <th>2</th>\n",
       "      <td>AC</td>\n",
       "      <td>ACE</td>\n",
       "      <td>1993.0</td>\n",
       "      <td>2000.0</td>\n",
       "      <td>Cabriolet</td>\n",
       "      <td>8.0</td>\n",
       "      <td>Gasoline</td>\n",
       "      <td>260.0</td>\n",
       "      <td>5250</td>\n",
       "      <td>Automatic</td>\n",
       "      <td>8.0</td>\n",
       "      <td>80</td>\n",
       "      <td>NaN</td>\n",
       "      <td>225</td>\n",
       "      <td>95</td>\n",
       "      <td>NaN</td>\n",
       "      <td>NaN</td>\n",
       "      <td>NaN</td>\n",
       "    </tr>\n",
       "    <tr>\n",
       "      <th>3</th>\n",
       "      <td>AC</td>\n",
       "      <td>ACE</td>\n",
       "      <td>1993.0</td>\n",
       "      <td>2000.0</td>\n",
       "      <td>NaN</td>\n",
       "      <td>NaN</td>\n",
       "      <td>NaN</td>\n",
       "      <td>NaN</td>\n",
       "      <td>NaN</td>\n",
       "      <td>NaN</td>\n",
       "      <td>NaN</td>\n",
       "      <td>NaN</td>\n",
       "      <td>NaN</td>\n",
       "      <td>NaN</td>\n",
       "      <td>NaN</td>\n",
       "      <td>NaN</td>\n",
       "      <td>NaN</td>\n",
       "      <td>NaN</td>\n",
       "    </tr>\n",
       "    <tr>\n",
       "      <th>4</th>\n",
       "      <td>AC</td>\n",
       "      <td>ACE</td>\n",
       "      <td>1993.0</td>\n",
       "      <td>2000.0</td>\n",
       "      <td>NaN</td>\n",
       "      <td>NaN</td>\n",
       "      <td>NaN</td>\n",
       "      <td>NaN</td>\n",
       "      <td>NaN</td>\n",
       "      <td>NaN</td>\n",
       "      <td>NaN</td>\n",
       "      <td>NaN</td>\n",
       "      <td>NaN</td>\n",
       "      <td>NaN</td>\n",
       "      <td>NaN</td>\n",
       "      <td>NaN</td>\n",
       "      <td>NaN</td>\n",
       "      <td>NaN</td>\n",
       "    </tr>\n",
       "    <tr>\n",
       "      <th>...</th>\n",
       "      <td>...</td>\n",
       "      <td>...</td>\n",
       "      <td>...</td>\n",
       "      <td>...</td>\n",
       "      <td>...</td>\n",
       "      <td>...</td>\n",
       "      <td>...</td>\n",
       "      <td>...</td>\n",
       "      <td>...</td>\n",
       "      <td>...</td>\n",
       "      <td>...</td>\n",
       "      <td>...</td>\n",
       "      <td>...</td>\n",
       "      <td>...</td>\n",
       "      <td>...</td>\n",
       "      <td>...</td>\n",
       "      <td>...</td>\n",
       "      <td>...</td>\n",
       "    </tr>\n",
       "    <tr>\n",
       "      <th>70818</th>\n",
       "      <td>ZX</td>\n",
       "      <td>Landmark</td>\n",
       "      <td>2007.0</td>\n",
       "      <td>2009.0</td>\n",
       "      <td>NaN</td>\n",
       "      <td>NaN</td>\n",
       "      <td>NaN</td>\n",
       "      <td>NaN</td>\n",
       "      <td>NaN</td>\n",
       "      <td>NaN</td>\n",
       "      <td>NaN</td>\n",
       "      <td>NaN</td>\n",
       "      <td>NaN</td>\n",
       "      <td>NaN</td>\n",
       "      <td>NaN</td>\n",
       "      <td>NaN</td>\n",
       "      <td>NaN</td>\n",
       "      <td>NaN</td>\n",
       "    </tr>\n",
       "    <tr>\n",
       "      <th>70819</th>\n",
       "      <td>ZX</td>\n",
       "      <td>Landmark</td>\n",
       "      <td>2007.0</td>\n",
       "      <td>2009.0</td>\n",
       "      <td>NaN</td>\n",
       "      <td>NaN</td>\n",
       "      <td>NaN</td>\n",
       "      <td>NaN</td>\n",
       "      <td>NaN</td>\n",
       "      <td>NaN</td>\n",
       "      <td>NaN</td>\n",
       "      <td>NaN</td>\n",
       "      <td>NaN</td>\n",
       "      <td>NaN</td>\n",
       "      <td>NaN</td>\n",
       "      <td>NaN</td>\n",
       "      <td>NaN</td>\n",
       "      <td>NaN</td>\n",
       "    </tr>\n",
       "    <tr>\n",
       "      <th>70820</th>\n",
       "      <td>ZX</td>\n",
       "      <td>Landmark</td>\n",
       "      <td>2007.0</td>\n",
       "      <td>2009.0</td>\n",
       "      <td>NaN</td>\n",
       "      <td>NaN</td>\n",
       "      <td>NaN</td>\n",
       "      <td>NaN</td>\n",
       "      <td>NaN</td>\n",
       "      <td>NaN</td>\n",
       "      <td>NaN</td>\n",
       "      <td>NaN</td>\n",
       "      <td>NaN</td>\n",
       "      <td>NaN</td>\n",
       "      <td>NaN</td>\n",
       "      <td>NaN</td>\n",
       "      <td>NaN</td>\n",
       "      <td>NaN</td>\n",
       "    </tr>\n",
       "    <tr>\n",
       "      <th>70821</th>\n",
       "      <td>ZX</td>\n",
       "      <td>Landmark</td>\n",
       "      <td>2007.0</td>\n",
       "      <td>2009.0</td>\n",
       "      <td>NaN</td>\n",
       "      <td>NaN</td>\n",
       "      <td>NaN</td>\n",
       "      <td>NaN</td>\n",
       "      <td>NaN</td>\n",
       "      <td>NaN</td>\n",
       "      <td>NaN</td>\n",
       "      <td>NaN</td>\n",
       "      <td>NaN</td>\n",
       "      <td>NaN</td>\n",
       "      <td>NaN</td>\n",
       "      <td>NaN</td>\n",
       "      <td>NaN</td>\n",
       "      <td>NaN</td>\n",
       "    </tr>\n",
       "    <tr>\n",
       "      <th>70822</th>\n",
       "      <td>ZX</td>\n",
       "      <td>Landmark</td>\n",
       "      <td>2007.0</td>\n",
       "      <td>2009.0</td>\n",
       "      <td>NaN</td>\n",
       "      <td>NaN</td>\n",
       "      <td>NaN</td>\n",
       "      <td>NaN</td>\n",
       "      <td>NaN</td>\n",
       "      <td>NaN</td>\n",
       "      <td>NaN</td>\n",
       "      <td>NaN</td>\n",
       "      <td>NaN</td>\n",
       "      <td>NaN</td>\n",
       "      <td>NaN</td>\n",
       "      <td>NaN</td>\n",
       "      <td>NaN</td>\n",
       "      <td>NaN</td>\n",
       "    </tr>\n",
       "  </tbody>\n",
       "</table>\n",
       "<p>70823 rows × 18 columns</p>\n",
       "</div>"
      ],
      "text/plain": [
       "      Make     Model  Year_from  Year_to  Body_type  number_of_cylinders  \\\n",
       "0       AC       ACE     1993.0   2000.0  Cabriolet                  8.0   \n",
       "1       AC       ACE     1993.0   2000.0  Cabriolet                  8.0   \n",
       "2       AC       ACE     1993.0   2000.0  Cabriolet                  8.0   \n",
       "3       AC       ACE     1993.0   2000.0        NaN                  NaN   \n",
       "4       AC       ACE     1993.0   2000.0        NaN                  NaN   \n",
       "...    ...       ...        ...      ...        ...                  ...   \n",
       "70818   ZX  Landmark     2007.0   2009.0        NaN                  NaN   \n",
       "70819   ZX  Landmark     2007.0   2009.0        NaN                  NaN   \n",
       "70820   ZX  Landmark     2007.0   2009.0        NaN                  NaN   \n",
       "70821   ZX  Landmark     2007.0   2009.0        NaN                  NaN   \n",
       "70822   ZX  Landmark     2007.0   2009.0        NaN                  NaN   \n",
       "\n",
       "      engine_type  engine_hp engine_hp_rpm transmission  \\\n",
       "0        Gasoline      354.0          6500       Manual   \n",
       "1        Gasoline      326.0          5800       Manual   \n",
       "2        Gasoline      260.0          5250    Automatic   \n",
       "3             NaN        NaN           NaN          NaN   \n",
       "4             NaN        NaN           NaN          NaN   \n",
       "...           ...        ...           ...          ...   \n",
       "70818         NaN        NaN           NaN          NaN   \n",
       "70819         NaN        NaN           NaN          NaN   \n",
       "70820         NaN        NaN           NaN          NaN   \n",
       "70821         NaN        NaN           NaN          NaN   \n",
       "70822         NaN        NaN           NaN          NaN   \n",
       "\n",
       "       mixed_fuel_consumption_per_100_km_l fuel_tank_capacity_l  \\\n",
       "0                                      NaN                   90   \n",
       "1                                      NaN                   90   \n",
       "2                                      8.0                   80   \n",
       "3                                      NaN                  NaN   \n",
       "4                                      NaN                  NaN   \n",
       "...                                    ...                  ...   \n",
       "70818                                  NaN                  NaN   \n",
       "70819                                  NaN                  NaN   \n",
       "70820                                  NaN                  NaN   \n",
       "70821                                  NaN                  NaN   \n",
       "70822                                  NaN                  NaN   \n",
       "\n",
       "       acceleration_0_100_km/h_s max_speed_km_per_h fuel_grade  \\\n",
       "0                            5.0                250         95   \n",
       "1                            5.0                250         98   \n",
       "2                            NaN                225         95   \n",
       "3                            NaN                NaN        NaN   \n",
       "4                            NaN                NaN        NaN   \n",
       "...                          ...                ...        ...   \n",
       "70818                        NaN                NaN        NaN   \n",
       "70819                        NaN                NaN        NaN   \n",
       "70820                        NaN                NaN        NaN   \n",
       "70821                        NaN                NaN        NaN   \n",
       "70822                        NaN                NaN        NaN   \n",
       "\n",
       "      battery_capacity_KW_per_h  electric_range_km charging_time_h  \n",
       "0                           NaN                NaN             NaN  \n",
       "1                           NaN                NaN             NaN  \n",
       "2                           NaN                NaN             NaN  \n",
       "3                           NaN                NaN             NaN  \n",
       "4                           NaN                NaN             NaN  \n",
       "...                         ...                ...             ...  \n",
       "70818                       NaN                NaN             NaN  \n",
       "70819                       NaN                NaN             NaN  \n",
       "70820                       NaN                NaN             NaN  \n",
       "70821                       NaN                NaN             NaN  \n",
       "70822                       NaN                NaN             NaN  \n",
       "\n",
       "[70823 rows x 18 columns]"
      ]
     },
     "execution_count": 6,
     "metadata": {},
     "output_type": "execute_result"
    }
   ],
   "source": [
    "df"
   ]
  },
  {
   "cell_type": "code",
   "execution_count": 7,
   "metadata": {},
   "outputs": [],
   "source": [
    "df = df[df['battery_capacity_KW_per_h'].isna()]\n",
    "df = df[df['charging_time_h'].isna()]\n",
    "df = df[df['electric_range_km'].isna()]"
   ]
  },
  {
   "cell_type": "code",
   "execution_count": 8,
   "metadata": {},
   "outputs": [],
   "source": [
    "df = df[df['Year_from'].notna()]\n",
    "df = df[df['Year_to'].notna()]"
   ]
  },
  {
   "cell_type": "code",
   "execution_count": 9,
   "metadata": {},
   "outputs": [],
   "source": [
    "df['year'] = df[['Year_from', 'Year_to']].mean(axis=1).round()"
   ]
  },
  {
   "cell_type": "code",
   "execution_count": 10,
   "metadata": {},
   "outputs": [],
   "source": [
    "df['year'] = df['year'].astype(int)"
   ]
  },
  {
   "cell_type": "code",
   "execution_count": 11,
   "metadata": {},
   "outputs": [],
   "source": [
    "df.drop(columns=['Year_from', 'Year_to', 'battery_capacity_KW_per_h', 'charging_time_h', 'electric_range_km'], inplace = True)"
   ]
  },
  {
   "cell_type": "code",
   "execution_count": 12,
   "metadata": {},
   "outputs": [
    {
     "name": "stdout",
     "output_type": "stream",
     "text": [
      "<class 'pandas.core.frame.DataFrame'>\n",
      "Index: 70170 entries, 0 to 70822\n",
      "Data columns (total 14 columns):\n",
      " #   Column                               Non-Null Count  Dtype  \n",
      "---  ------                               --------------  -----  \n",
      " 0   Make                                 70170 non-null  object \n",
      " 1   Model                                70170 non-null  object \n",
      " 2   Body_type                            52252 non-null  object \n",
      " 3   number_of_cylinders                  59266 non-null  float64\n",
      " 4   engine_type                          59599 non-null  object \n",
      " 5   engine_hp                            59598 non-null  float64\n",
      " 6   engine_hp_rpm                        59130 non-null  object \n",
      " 7   transmission                         59563 non-null  object \n",
      " 8   mixed_fuel_consumption_per_100_km_l  40328 non-null  float64\n",
      " 9   fuel_tank_capacity_l                 57583 non-null  object \n",
      " 10  acceleration_0_100_km/h_s            39958 non-null  float64\n",
      " 11  max_speed_km_per_h                   42850 non-null  object \n",
      " 12  fuel_grade                           58457 non-null  object \n",
      " 13  year                                 70170 non-null  int32  \n",
      "dtypes: float64(4), int32(1), object(9)\n",
      "memory usage: 7.8+ MB\n"
     ]
    }
   ],
   "source": [
    "df.info()"
   ]
  },
  {
   "cell_type": "code",
   "execution_count": 13,
   "metadata": {},
   "outputs": [],
   "source": [
    "df['Tipe_Mobil'] = df['Body_type'].replace({\n",
    "    'Cabriolet': 'Sedan',\n",
    "    'Coupe': 'Sedan',\n",
    "    'Roadster': 'Sedan',\n",
    "    'Sedan': 'Sedan',\n",
    "    'Crossover': 'Jeep',\n",
    "    'Hatchback': 'Sedan',\n",
    "    'Liftback': 'Sedan',\n",
    "    'Wagon': 'Sedan',\n",
    "    'Minivan': 'Bus',\n",
    "    'Fastback': 'Sedan',\n",
    "    'Pickup': 'PickUp',\n",
    "    'Targa': 'Sedan',\n",
    "    'hardtop': 'Sedan',\n",
    "    'Limousine': 'Bus',\n",
    "    'Hatchback 3 doors': 'Sedan'\n",
    "})\n",
    "df.drop(columns=['Body_type'], inplace=True)"
   ]
  },
  {
   "cell_type": "code",
   "execution_count": 14,
   "metadata": {},
   "outputs": [
    {
     "data": {
      "text/plain": [
       "Make                                       0\n",
       "Model                                      0\n",
       "number_of_cylinders                    10904\n",
       "engine_type                            10571\n",
       "engine_hp                              10572\n",
       "engine_hp_rpm                          11040\n",
       "transmission                           10607\n",
       "mixed_fuel_consumption_per_100_km_l    29842\n",
       "fuel_tank_capacity_l                   12587\n",
       "acceleration_0_100_km/h_s              30212\n",
       "max_speed_km_per_h                     27320\n",
       "fuel_grade                             11713\n",
       "year                                       0\n",
       "Tipe_Mobil                             17918\n",
       "dtype: int64"
      ]
     },
     "execution_count": 14,
     "metadata": {},
     "output_type": "execute_result"
    }
   ],
   "source": [
    "df.isna().sum()"
   ]
  },
  {
   "cell_type": "code",
   "execution_count": 15,
   "metadata": {},
   "outputs": [],
   "source": [
    "df.dropna(inplace=True)"
   ]
  },
  {
   "cell_type": "code",
   "execution_count": 16,
   "metadata": {},
   "outputs": [],
   "source": [
    "df = df[df['year'] >= 2000]"
   ]
  },
  {
   "cell_type": "code",
   "execution_count": 17,
   "metadata": {},
   "outputs": [
    {
     "name": "stdout",
     "output_type": "stream",
     "text": [
      "<class 'pandas.core.frame.DataFrame'>\n",
      "Index: 21457 entries, 9 to 70767\n",
      "Data columns (total 14 columns):\n",
      " #   Column                               Non-Null Count  Dtype  \n",
      "---  ------                               --------------  -----  \n",
      " 0   Make                                 21457 non-null  object \n",
      " 1   Model                                21457 non-null  object \n",
      " 2   number_of_cylinders                  21457 non-null  float64\n",
      " 3   engine_type                          21457 non-null  object \n",
      " 4   engine_hp                            21457 non-null  float64\n",
      " 5   engine_hp_rpm                        21457 non-null  object \n",
      " 6   transmission                         21457 non-null  object \n",
      " 7   mixed_fuel_consumption_per_100_km_l  21457 non-null  float64\n",
      " 8   fuel_tank_capacity_l                 21457 non-null  object \n",
      " 9   acceleration_0_100_km/h_s            21457 non-null  float64\n",
      " 10  max_speed_km_per_h                   21457 non-null  object \n",
      " 11  fuel_grade                           21457 non-null  object \n",
      " 12  year                                 21457 non-null  int32  \n",
      " 13  Tipe_Mobil                           21457 non-null  object \n",
      "dtypes: float64(4), int32(1), object(9)\n",
      "memory usage: 2.4+ MB\n"
     ]
    }
   ],
   "source": [
    "df.info()"
   ]
  },
  {
   "cell_type": "code",
   "execution_count": 18,
   "metadata": {},
   "outputs": [
    {
     "data": {
      "text/plain": [
       "array([ 8.,  6.,  4.,  5.,  2., 12.,  3., 10.,  7., 16.])"
      ]
     },
     "execution_count": 18,
     "metadata": {},
     "output_type": "execute_result"
    }
   ],
   "source": [
    "df['number_of_cylinders'].unique()"
   ]
  },
  {
   "cell_type": "code",
   "execution_count": 19,
   "metadata": {},
   "outputs": [],
   "source": [
    "df['number_of_cylinders'] = df['number_of_cylinders'].astype(int)"
   ]
  },
  {
   "cell_type": "code",
   "execution_count": 20,
   "metadata": {},
   "outputs": [
    {
     "data": {
      "text/plain": [
       "array([ 8,  6,  4,  5,  2, 12,  3, 10,  7, 16])"
      ]
     },
     "execution_count": 20,
     "metadata": {},
     "output_type": "execute_result"
    }
   ],
   "source": [
    "df['number_of_cylinders'].unique()"
   ]
  },
  {
   "cell_type": "code",
   "execution_count": 21,
   "metadata": {},
   "outputs": [
    {
     "data": {
      "text/plain": [
       "array([2000, 2004, 2016, 2008, 2002, 2007, 2012, 2018, 2015, 2006, 2010,\n",
       "       2001, 2014, 2017, 2019, 2009, 2011, 2003, 2013, 2020, 2005])"
      ]
     },
     "execution_count": 21,
     "metadata": {},
     "output_type": "execute_result"
    }
   ],
   "source": [
    "df['year'].unique()"
   ]
  },
  {
   "cell_type": "code",
   "execution_count": 22,
   "metadata": {},
   "outputs": [
    {
     "data": {
      "text/plain": [
       "array(['Sedan', 'Jeep', 'Bus', 'PickUp'], dtype=object)"
      ]
     },
     "execution_count": 22,
     "metadata": {},
     "output_type": "execute_result"
    }
   ],
   "source": [
    "df['Tipe_Mobil'].unique()"
   ]
  },
  {
   "cell_type": "markdown",
   "metadata": {},
   "source": [
    "## Tipe_Mobil\n",
    "- Sedan = 0\n",
    "- Jeep = 1\n",
    "- Bus = 2\n",
    "- PickUp = 3"
   ]
  },
  {
   "cell_type": "code",
   "execution_count": 23,
   "metadata": {},
   "outputs": [],
   "source": [
    "df['Tipe_Mobil'] = df['Tipe_Mobil'].replace({\n",
    "    'Sedan': 0,\n",
    "    'Jeep': 1,\n",
    "    'Bus': 2,\n",
    "    'PickUp': 3\n",
    "})"
   ]
  },
  {
   "cell_type": "code",
   "execution_count": 24,
   "metadata": {},
   "outputs": [],
   "source": [
    "df['Tipe_Mobil'] = df['Tipe_Mobil'].astype(int)"
   ]
  },
  {
   "cell_type": "code",
   "execution_count": 25,
   "metadata": {},
   "outputs": [
    {
     "data": {
      "text/plain": [
       "array([0, 1, 2, 3])"
      ]
     },
     "execution_count": 25,
     "metadata": {},
     "output_type": "execute_result"
    }
   ],
   "source": [
    "df['Tipe_Mobil'].unique()"
   ]
  },
  {
   "cell_type": "code",
   "execution_count": 26,
   "metadata": {},
   "outputs": [
    {
     "data": {
      "text/html": [
       "<div>\n",
       "<style scoped>\n",
       "    .dataframe tbody tr th:only-of-type {\n",
       "        vertical-align: middle;\n",
       "    }\n",
       "\n",
       "    .dataframe tbody tr th {\n",
       "        vertical-align: top;\n",
       "    }\n",
       "\n",
       "    .dataframe thead th {\n",
       "        text-align: right;\n",
       "    }\n",
       "</style>\n",
       "<table border=\"1\" class=\"dataframe\">\n",
       "  <thead>\n",
       "    <tr style=\"text-align: right;\">\n",
       "      <th></th>\n",
       "      <th>Make</th>\n",
       "      <th>Model</th>\n",
       "      <th>number_of_cylinders</th>\n",
       "      <th>engine_type</th>\n",
       "      <th>engine_hp</th>\n",
       "      <th>engine_hp_rpm</th>\n",
       "      <th>transmission</th>\n",
       "      <th>mixed_fuel_consumption_per_100_km_l</th>\n",
       "      <th>fuel_tank_capacity_l</th>\n",
       "      <th>acceleration_0_100_km/h_s</th>\n",
       "      <th>max_speed_km_per_h</th>\n",
       "      <th>fuel_grade</th>\n",
       "      <th>year</th>\n",
       "      <th>Tipe_Mobil</th>\n",
       "    </tr>\n",
       "  </thead>\n",
       "  <tbody>\n",
       "    <tr>\n",
       "      <th>9</th>\n",
       "      <td>AC</td>\n",
       "      <td>Aceca</td>\n",
       "      <td>8</td>\n",
       "      <td>Gasoline</td>\n",
       "      <td>354.0</td>\n",
       "      <td>6500</td>\n",
       "      <td>Manual</td>\n",
       "      <td>13.4</td>\n",
       "      <td>70</td>\n",
       "      <td>5.6</td>\n",
       "      <td>250</td>\n",
       "      <td>95</td>\n",
       "      <td>2000</td>\n",
       "      <td>0</td>\n",
       "    </tr>\n",
       "    <tr>\n",
       "      <th>11</th>\n",
       "      <td>AC</td>\n",
       "      <td>Aceca</td>\n",
       "      <td>8</td>\n",
       "      <td>Gasoline</td>\n",
       "      <td>326.0</td>\n",
       "      <td>5800</td>\n",
       "      <td>Manual</td>\n",
       "      <td>12.2</td>\n",
       "      <td>70</td>\n",
       "      <td>6.1</td>\n",
       "      <td>250</td>\n",
       "      <td>98</td>\n",
       "      <td>2000</td>\n",
       "      <td>0</td>\n",
       "    </tr>\n",
       "    <tr>\n",
       "      <th>54</th>\n",
       "      <td>Acura</td>\n",
       "      <td>MDX</td>\n",
       "      <td>6</td>\n",
       "      <td>Gasoline</td>\n",
       "      <td>240.0</td>\n",
       "      <td>5750</td>\n",
       "      <td>Automatic</td>\n",
       "      <td>13.2</td>\n",
       "      <td>73</td>\n",
       "      <td>8.7</td>\n",
       "      <td>190</td>\n",
       "      <td>92</td>\n",
       "      <td>2004</td>\n",
       "      <td>1</td>\n",
       "    </tr>\n",
       "    <tr>\n",
       "      <th>60</th>\n",
       "      <td>Acura</td>\n",
       "      <td>MDX</td>\n",
       "      <td>6</td>\n",
       "      <td>Gasoline</td>\n",
       "      <td>290.0</td>\n",
       "      <td>6200</td>\n",
       "      <td>Automatic</td>\n",
       "      <td>10.4</td>\n",
       "      <td>73</td>\n",
       "      <td>7.6</td>\n",
       "      <td>220</td>\n",
       "      <td>95</td>\n",
       "      <td>2016</td>\n",
       "      <td>1</td>\n",
       "    </tr>\n",
       "    <tr>\n",
       "      <th>68</th>\n",
       "      <td>Acura</td>\n",
       "      <td>NSX</td>\n",
       "      <td>6</td>\n",
       "      <td>Gasoline</td>\n",
       "      <td>255.0</td>\n",
       "      <td>6800</td>\n",
       "      <td>Manual</td>\n",
       "      <td>10.0</td>\n",
       "      <td>70</td>\n",
       "      <td>5.0</td>\n",
       "      <td>260</td>\n",
       "      <td>95</td>\n",
       "      <td>2004</td>\n",
       "      <td>0</td>\n",
       "    </tr>\n",
       "    <tr>\n",
       "      <th>...</th>\n",
       "      <td>...</td>\n",
       "      <td>...</td>\n",
       "      <td>...</td>\n",
       "      <td>...</td>\n",
       "      <td>...</td>\n",
       "      <td>...</td>\n",
       "      <td>...</td>\n",
       "      <td>...</td>\n",
       "      <td>...</td>\n",
       "      <td>...</td>\n",
       "      <td>...</td>\n",
       "      <td>...</td>\n",
       "      <td>...</td>\n",
       "      <td>...</td>\n",
       "    </tr>\n",
       "    <tr>\n",
       "      <th>70756</th>\n",
       "      <td>ZAZ</td>\n",
       "      <td>Chance</td>\n",
       "      <td>4</td>\n",
       "      <td>Gasoline</td>\n",
       "      <td>86.0</td>\n",
       "      <td>5800</td>\n",
       "      <td>Manual</td>\n",
       "      <td>6.7</td>\n",
       "      <td>48</td>\n",
       "      <td>12.5</td>\n",
       "      <td>172</td>\n",
       "      <td>92</td>\n",
       "      <td>2014</td>\n",
       "      <td>0</td>\n",
       "    </tr>\n",
       "    <tr>\n",
       "      <th>70764</th>\n",
       "      <td>ZAZ</td>\n",
       "      <td>Sens</td>\n",
       "      <td>4</td>\n",
       "      <td>Gasoline</td>\n",
       "      <td>70.0</td>\n",
       "      <td>5500</td>\n",
       "      <td>Manual</td>\n",
       "      <td>7.2</td>\n",
       "      <td>48</td>\n",
       "      <td>17.0</td>\n",
       "      <td>162</td>\n",
       "      <td>95</td>\n",
       "      <td>2014</td>\n",
       "      <td>0</td>\n",
       "    </tr>\n",
       "    <tr>\n",
       "      <th>70765</th>\n",
       "      <td>ZAZ</td>\n",
       "      <td>Sens</td>\n",
       "      <td>4</td>\n",
       "      <td>Gasoline</td>\n",
       "      <td>70.0</td>\n",
       "      <td>5500</td>\n",
       "      <td>Manual</td>\n",
       "      <td>7.2</td>\n",
       "      <td>48</td>\n",
       "      <td>17.0</td>\n",
       "      <td>162</td>\n",
       "      <td>95</td>\n",
       "      <td>2014</td>\n",
       "      <td>0</td>\n",
       "    </tr>\n",
       "    <tr>\n",
       "      <th>70766</th>\n",
       "      <td>ZAZ</td>\n",
       "      <td>Vida</td>\n",
       "      <td>4</td>\n",
       "      <td>Gasoline</td>\n",
       "      <td>109.0</td>\n",
       "      <td>5600</td>\n",
       "      <td>Manual</td>\n",
       "      <td>7.3</td>\n",
       "      <td>45</td>\n",
       "      <td>11.5</td>\n",
       "      <td>170</td>\n",
       "      <td>95</td>\n",
       "      <td>2016</td>\n",
       "      <td>0</td>\n",
       "    </tr>\n",
       "    <tr>\n",
       "      <th>70767</th>\n",
       "      <td>ZAZ</td>\n",
       "      <td>Vida</td>\n",
       "      <td>4</td>\n",
       "      <td>Gasoline</td>\n",
       "      <td>109.0</td>\n",
       "      <td>5600</td>\n",
       "      <td>Manual</td>\n",
       "      <td>7.8</td>\n",
       "      <td>45</td>\n",
       "      <td>11.5</td>\n",
       "      <td>170</td>\n",
       "      <td>95</td>\n",
       "      <td>2016</td>\n",
       "      <td>0</td>\n",
       "    </tr>\n",
       "  </tbody>\n",
       "</table>\n",
       "<p>21457 rows × 14 columns</p>\n",
       "</div>"
      ],
      "text/plain": [
       "        Make   Model  number_of_cylinders engine_type  engine_hp  \\\n",
       "9         AC   Aceca                    8    Gasoline      354.0   \n",
       "11        AC   Aceca                    8    Gasoline      326.0   \n",
       "54     Acura     MDX                    6    Gasoline      240.0   \n",
       "60     Acura     MDX                    6    Gasoline      290.0   \n",
       "68     Acura     NSX                    6    Gasoline      255.0   \n",
       "...      ...     ...                  ...         ...        ...   \n",
       "70756    ZAZ  Chance                    4    Gasoline       86.0   \n",
       "70764    ZAZ    Sens                    4    Gasoline       70.0   \n",
       "70765    ZAZ    Sens                    4    Gasoline       70.0   \n",
       "70766    ZAZ    Vida                    4    Gasoline      109.0   \n",
       "70767    ZAZ    Vida                    4    Gasoline      109.0   \n",
       "\n",
       "      engine_hp_rpm transmission  mixed_fuel_consumption_per_100_km_l  \\\n",
       "9              6500       Manual                                 13.4   \n",
       "11             5800       Manual                                 12.2   \n",
       "54             5750    Automatic                                 13.2   \n",
       "60             6200    Automatic                                 10.4   \n",
       "68             6800       Manual                                 10.0   \n",
       "...             ...          ...                                  ...   \n",
       "70756          5800       Manual                                  6.7   \n",
       "70764          5500       Manual                                  7.2   \n",
       "70765          5500       Manual                                  7.2   \n",
       "70766          5600       Manual                                  7.3   \n",
       "70767          5600       Manual                                  7.8   \n",
       "\n",
       "      fuel_tank_capacity_l  acceleration_0_100_km/h_s max_speed_km_per_h  \\\n",
       "9                       70                        5.6                250   \n",
       "11                      70                        6.1                250   \n",
       "54                      73                        8.7                190   \n",
       "60                      73                        7.6                220   \n",
       "68                      70                        5.0                260   \n",
       "...                    ...                        ...                ...   \n",
       "70756                   48                       12.5                172   \n",
       "70764                   48                       17.0                162   \n",
       "70765                   48                       17.0                162   \n",
       "70766                   45                       11.5                170   \n",
       "70767                   45                       11.5                170   \n",
       "\n",
       "      fuel_grade  year  Tipe_Mobil  \n",
       "9             95  2000           0  \n",
       "11            98  2000           0  \n",
       "54            92  2004           1  \n",
       "60            95  2016           1  \n",
       "68            95  2004           0  \n",
       "...          ...   ...         ...  \n",
       "70756         92  2014           0  \n",
       "70764         95  2014           0  \n",
       "70765         95  2014           0  \n",
       "70766         95  2016           0  \n",
       "70767         95  2016           0  \n",
       "\n",
       "[21457 rows x 14 columns]"
      ]
     },
     "execution_count": 26,
     "metadata": {},
     "output_type": "execute_result"
    }
   ],
   "source": [
    "df"
   ]
  },
  {
   "cell_type": "code",
   "execution_count": 27,
   "metadata": {},
   "outputs": [],
   "source": [
    "not_used = ['Hybrid', 'Gasoline, Electric', 'Diesel, Hybrid']\n",
    "df = df[~df['engine_type'].isin(not_used)]"
   ]
  },
  {
   "cell_type": "code",
   "execution_count": 28,
   "metadata": {},
   "outputs": [
    {
     "name": "stderr",
     "output_type": "stream",
     "text": [
      "C:\\Users\\akane\\AppData\\Local\\Temp\\ipykernel_18732\\1321999188.py:1: SettingWithCopyWarning: \n",
      "A value is trying to be set on a copy of a slice from a DataFrame.\n",
      "Try using .loc[row_indexer,col_indexer] = value instead\n",
      "\n",
      "See the caveats in the documentation: https://pandas.pydata.org/pandas-docs/stable/user_guide/indexing.html#returning-a-view-versus-a-copy\n",
      "  df['engine_type'] = df['engine_type'].replace({\n"
     ]
    }
   ],
   "source": [
    "df['engine_type'] = df['engine_type'].replace({\n",
    "    'Gasoline, Gas': 'Gasoline',\n",
    "    'Gas': 'Gasoline',\n",
    "})"
   ]
  },
  {
   "cell_type": "code",
   "execution_count": 29,
   "metadata": {},
   "outputs": [
    {
     "data": {
      "text/plain": [
       "array(['Gasoline', 'Diesel'], dtype=object)"
      ]
     },
     "execution_count": 29,
     "metadata": {},
     "output_type": "execute_result"
    }
   ],
   "source": [
    "df['engine_type'].unique()"
   ]
  },
  {
   "cell_type": "markdown",
   "metadata": {},
   "source": [
    "Tipe Bensin\n",
    "- Gasoline = 0\n",
    "- Diesel = 1"
   ]
  },
  {
   "cell_type": "code",
   "execution_count": 30,
   "metadata": {},
   "outputs": [],
   "source": [
    "df.loc[:,'engine_type'] = df['engine_type'].replace({\n",
    "    'Gasoline': 0,\n",
    "    'Diesel': 1,\n",
    "})"
   ]
  },
  {
   "cell_type": "code",
   "execution_count": 31,
   "metadata": {},
   "outputs": [
    {
     "data": {
      "text/plain": [
       "array([0, 1], dtype=object)"
      ]
     },
     "execution_count": 31,
     "metadata": {},
     "output_type": "execute_result"
    }
   ],
   "source": [
    "df['engine_type'].unique()"
   ]
  },
  {
   "cell_type": "code",
   "execution_count": 32,
   "metadata": {},
   "outputs": [
    {
     "name": "stderr",
     "output_type": "stream",
     "text": [
      "C:\\Users\\akane\\AppData\\Local\\Temp\\ipykernel_18732\\1707576425.py:1: SettingWithCopyWarning: \n",
      "A value is trying to be set on a copy of a slice from a DataFrame.\n",
      "Try using .loc[row_indexer,col_indexer] = value instead\n",
      "\n",
      "See the caveats in the documentation: https://pandas.pydata.org/pandas-docs/stable/user_guide/indexing.html#returning-a-view-versus-a-copy\n",
      "  df['engine_type'] = df['engine_type'].astype(int)\n"
     ]
    }
   ],
   "source": [
    "df['engine_type'] = df['engine_type'].astype(int)"
   ]
  },
  {
   "cell_type": "code",
   "execution_count": 33,
   "metadata": {},
   "outputs": [
    {
     "name": "stdout",
     "output_type": "stream",
     "text": [
      "<class 'pandas.core.frame.DataFrame'>\n",
      "Index: 21242 entries, 9 to 70767\n",
      "Data columns (total 14 columns):\n",
      " #   Column                               Non-Null Count  Dtype  \n",
      "---  ------                               --------------  -----  \n",
      " 0   Make                                 21242 non-null  object \n",
      " 1   Model                                21242 non-null  object \n",
      " 2   number_of_cylinders                  21242 non-null  int32  \n",
      " 3   engine_type                          21242 non-null  int32  \n",
      " 4   engine_hp                            21242 non-null  float64\n",
      " 5   engine_hp_rpm                        21242 non-null  object \n",
      " 6   transmission                         21242 non-null  object \n",
      " 7   mixed_fuel_consumption_per_100_km_l  21242 non-null  float64\n",
      " 8   fuel_tank_capacity_l                 21242 non-null  object \n",
      " 9   acceleration_0_100_km/h_s            21242 non-null  float64\n",
      " 10  max_speed_km_per_h                   21242 non-null  object \n",
      " 11  fuel_grade                           21242 non-null  object \n",
      " 12  year                                 21242 non-null  int32  \n",
      " 13  Tipe_Mobil                           21242 non-null  int32  \n",
      "dtypes: float64(3), int32(4), object(7)\n",
      "memory usage: 2.1+ MB\n"
     ]
    }
   ],
   "source": [
    "df.info()"
   ]
  },
  {
   "cell_type": "code",
   "execution_count": 34,
   "metadata": {},
   "outputs": [],
   "source": [
    "not_used1 = ['Ethanol', '80']\n",
    "df = df[~df['fuel_grade'].isin(not_used1)]"
   ]
  },
  {
   "cell_type": "code",
   "execution_count": 35,
   "metadata": {},
   "outputs": [
    {
     "data": {
      "text/plain": [
       "array(['95', '98', '92', 'diesel', '95, 92', '98, 95', 'Gasoline', 'Gas',\n",
       "       '95, Ethanol', '98, 95, 92', '95, Gas', '92, Ethanol',\n",
       "       'Gasoline, Gas', '98, Ethanol', '92, Gas', '98, Gas',\n",
       "       '95, 92, Gas', '98, 95, Gas', '98, 95, 92, Ethanol'], dtype=object)"
      ]
     },
     "execution_count": 35,
     "metadata": {},
     "output_type": "execute_result"
    }
   ],
   "source": [
    "df['fuel_grade'].unique()"
   ]
  },
  {
   "cell_type": "markdown",
   "metadata": {},
   "source": [
    "Octance Number\n",
    "- Diesel = 50 = **0**\n",
    "- Gasoline = Pertalite = 90 = **1**\n",
    "- Pertamax = 92 = **2**\n",
    "- Pertamax Plus = 92 to 98 = **3**"
   ]
  },
  {
   "cell_type": "code",
   "execution_count": 36,
   "metadata": {},
   "outputs": [],
   "source": [
    "df['fuel_grade'] = df['fuel_grade'].replace({\n",
    "    '95': '3',\n",
    "    '92': '2',\n",
    "    '98': '3',\n",
    "    'diesel': '0',\n",
    "    '95, 92': '2',\n",
    "    '98, 95': '3',\n",
    "    'Gasoline': '1',\n",
    "    'Gas': '1',\n",
    "    '95, Ethanol': '3',\n",
    "    '98, 95, 92': '3',\n",
    "    '95, Gas': '3',\n",
    "    '92, Ethanol': '3',\n",
    "    'Gasoline, Gas': '1',\n",
    "    '92, Gas': '2',\n",
    "    '98, Gas': '3',\n",
    "    '95, 92, Gas': '2',\n",
    "    '98, 95, Gas': '3',\n",
    "    '98, 95, 92, Ethanol': '3',\n",
    "    '98, Ethanol': '3'\n",
    "})"
   ]
  },
  {
   "cell_type": "code",
   "execution_count": 37,
   "metadata": {},
   "outputs": [
    {
     "data": {
      "text/plain": [
       "array(['3', '2', '0', '1'], dtype=object)"
      ]
     },
     "execution_count": 37,
     "metadata": {},
     "output_type": "execute_result"
    }
   ],
   "source": [
    "df['fuel_grade'].unique()"
   ]
  },
  {
   "cell_type": "code",
   "execution_count": 38,
   "metadata": {},
   "outputs": [],
   "source": [
    "df['fuel_grade'] = df['fuel_grade'].astype(int)"
   ]
  },
  {
   "cell_type": "code",
   "execution_count": 39,
   "metadata": {},
   "outputs": [],
   "source": [
    "df['max_speed_km_per_h'] = df['max_speed_km_per_h'].str.replace(',', '.').astype(float).astype(int)\n"
   ]
  },
  {
   "cell_type": "code",
   "execution_count": 40,
   "metadata": {},
   "outputs": [],
   "source": [
    "df['max_speed_km_per_h'] = df['max_speed_km_per_h'].astype(int).round()"
   ]
  },
  {
   "cell_type": "code",
   "execution_count": 41,
   "metadata": {},
   "outputs": [],
   "source": [
    "df['fuel_tank_capacity_l'] = df['fuel_tank_capacity_l'].str.replace(',', '.').astype(float).astype(int)"
   ]
  },
  {
   "cell_type": "code",
   "execution_count": 42,
   "metadata": {},
   "outputs": [],
   "source": [
    "df['engine_hp_rpm'] = df['engine_hp_rpm'].astype(int)"
   ]
  },
  {
   "cell_type": "code",
   "execution_count": 43,
   "metadata": {},
   "outputs": [
    {
     "data": {
      "text/plain": [
       "array(['Manual', 'Automatic', 'robot',\n",
       "       'Continuously variable transmission (CVT)'], dtype=object)"
      ]
     },
     "execution_count": 43,
     "metadata": {},
     "output_type": "execute_result"
    }
   ],
   "source": [
    "df['transmission'].unique()"
   ]
  },
  {
   "cell_type": "markdown",
   "metadata": {},
   "source": [
    "Tipe Transmisi\n",
    "- Automatic = 0\n",
    "- Manual = 1"
   ]
  },
  {
   "cell_type": "code",
   "execution_count": 44,
   "metadata": {},
   "outputs": [],
   "source": [
    "not_used2 = ['robot', 'Continuously variable transmission (CVT)']\n",
    "df = df[~df['transmission'].isin(not_used2)]"
   ]
  },
  {
   "cell_type": "code",
   "execution_count": 45,
   "metadata": {},
   "outputs": [],
   "source": [
    "df['transmission'] = df['transmission'].replace({\n",
    "    'Manual': '1',\n",
    "    'Automatic': '0'\n",
    "    })"
   ]
  },
  {
   "cell_type": "code",
   "execution_count": 46,
   "metadata": {},
   "outputs": [],
   "source": [
    "df['transmission'] = df['transmission'].astype(int)"
   ]
  },
  {
   "cell_type": "code",
   "execution_count": 47,
   "metadata": {},
   "outputs": [
    {
     "data": {
      "text/plain": [
       "array([1, 0])"
      ]
     },
     "execution_count": 47,
     "metadata": {},
     "output_type": "execute_result"
    }
   ],
   "source": [
    "df['transmission'].unique()"
   ]
  },
  {
   "cell_type": "code",
   "execution_count": 48,
   "metadata": {},
   "outputs": [
    {
     "name": "stdout",
     "output_type": "stream",
     "text": [
      "<class 'pandas.core.frame.DataFrame'>\n",
      "Index: 18595 entries, 9 to 70767\n",
      "Data columns (total 14 columns):\n",
      " #   Column                               Non-Null Count  Dtype  \n",
      "---  ------                               --------------  -----  \n",
      " 0   Make                                 18595 non-null  object \n",
      " 1   Model                                18595 non-null  object \n",
      " 2   number_of_cylinders                  18595 non-null  int32  \n",
      " 3   engine_type                          18595 non-null  int32  \n",
      " 4   engine_hp                            18595 non-null  float64\n",
      " 5   engine_hp_rpm                        18595 non-null  int32  \n",
      " 6   transmission                         18595 non-null  int32  \n",
      " 7   mixed_fuel_consumption_per_100_km_l  18595 non-null  float64\n",
      " 8   fuel_tank_capacity_l                 18595 non-null  int32  \n",
      " 9   acceleration_0_100_km/h_s            18595 non-null  float64\n",
      " 10  max_speed_km_per_h                   18595 non-null  int32  \n",
      " 11  fuel_grade                           18595 non-null  int32  \n",
      " 12  year                                 18595 non-null  int32  \n",
      " 13  Tipe_Mobil                           18595 non-null  int32  \n",
      "dtypes: float64(3), int32(9), object(2)\n",
      "memory usage: 1.5+ MB\n"
     ]
    }
   ],
   "source": [
    "df.info()"
   ]
  },
  {
   "cell_type": "code",
   "execution_count": 49,
   "metadata": {},
   "outputs": [
    {
     "data": {
      "text/html": [
       "<div>\n",
       "<style scoped>\n",
       "    .dataframe tbody tr th:only-of-type {\n",
       "        vertical-align: middle;\n",
       "    }\n",
       "\n",
       "    .dataframe tbody tr th {\n",
       "        vertical-align: top;\n",
       "    }\n",
       "\n",
       "    .dataframe thead th {\n",
       "        text-align: right;\n",
       "    }\n",
       "</style>\n",
       "<table border=\"1\" class=\"dataframe\">\n",
       "  <thead>\n",
       "    <tr style=\"text-align: right;\">\n",
       "      <th></th>\n",
       "      <th>Make</th>\n",
       "      <th>Model</th>\n",
       "      <th>number_of_cylinders</th>\n",
       "      <th>engine_type</th>\n",
       "      <th>engine_hp</th>\n",
       "      <th>engine_hp_rpm</th>\n",
       "      <th>transmission</th>\n",
       "      <th>mixed_fuel_consumption_per_100_km_l</th>\n",
       "      <th>fuel_tank_capacity_l</th>\n",
       "      <th>acceleration_0_100_km/h_s</th>\n",
       "      <th>max_speed_km_per_h</th>\n",
       "      <th>fuel_grade</th>\n",
       "      <th>year</th>\n",
       "      <th>Tipe_Mobil</th>\n",
       "    </tr>\n",
       "  </thead>\n",
       "  <tbody>\n",
       "    <tr>\n",
       "      <th>9</th>\n",
       "      <td>AC</td>\n",
       "      <td>Aceca</td>\n",
       "      <td>8</td>\n",
       "      <td>0</td>\n",
       "      <td>354.0</td>\n",
       "      <td>6500</td>\n",
       "      <td>1</td>\n",
       "      <td>13.4</td>\n",
       "      <td>70</td>\n",
       "      <td>5.6</td>\n",
       "      <td>250</td>\n",
       "      <td>3</td>\n",
       "      <td>2000</td>\n",
       "      <td>0</td>\n",
       "    </tr>\n",
       "    <tr>\n",
       "      <th>11</th>\n",
       "      <td>AC</td>\n",
       "      <td>Aceca</td>\n",
       "      <td>8</td>\n",
       "      <td>0</td>\n",
       "      <td>326.0</td>\n",
       "      <td>5800</td>\n",
       "      <td>1</td>\n",
       "      <td>12.2</td>\n",
       "      <td>70</td>\n",
       "      <td>6.1</td>\n",
       "      <td>250</td>\n",
       "      <td>3</td>\n",
       "      <td>2000</td>\n",
       "      <td>0</td>\n",
       "    </tr>\n",
       "    <tr>\n",
       "      <th>54</th>\n",
       "      <td>Acura</td>\n",
       "      <td>MDX</td>\n",
       "      <td>6</td>\n",
       "      <td>0</td>\n",
       "      <td>240.0</td>\n",
       "      <td>5750</td>\n",
       "      <td>0</td>\n",
       "      <td>13.2</td>\n",
       "      <td>73</td>\n",
       "      <td>8.7</td>\n",
       "      <td>190</td>\n",
       "      <td>2</td>\n",
       "      <td>2004</td>\n",
       "      <td>1</td>\n",
       "    </tr>\n",
       "    <tr>\n",
       "      <th>60</th>\n",
       "      <td>Acura</td>\n",
       "      <td>MDX</td>\n",
       "      <td>6</td>\n",
       "      <td>0</td>\n",
       "      <td>290.0</td>\n",
       "      <td>6200</td>\n",
       "      <td>0</td>\n",
       "      <td>10.4</td>\n",
       "      <td>73</td>\n",
       "      <td>7.6</td>\n",
       "      <td>220</td>\n",
       "      <td>3</td>\n",
       "      <td>2016</td>\n",
       "      <td>1</td>\n",
       "    </tr>\n",
       "    <tr>\n",
       "      <th>68</th>\n",
       "      <td>Acura</td>\n",
       "      <td>NSX</td>\n",
       "      <td>6</td>\n",
       "      <td>0</td>\n",
       "      <td>255.0</td>\n",
       "      <td>6800</td>\n",
       "      <td>1</td>\n",
       "      <td>10.0</td>\n",
       "      <td>70</td>\n",
       "      <td>5.0</td>\n",
       "      <td>260</td>\n",
       "      <td>3</td>\n",
       "      <td>2004</td>\n",
       "      <td>0</td>\n",
       "    </tr>\n",
       "    <tr>\n",
       "      <th>...</th>\n",
       "      <td>...</td>\n",
       "      <td>...</td>\n",
       "      <td>...</td>\n",
       "      <td>...</td>\n",
       "      <td>...</td>\n",
       "      <td>...</td>\n",
       "      <td>...</td>\n",
       "      <td>...</td>\n",
       "      <td>...</td>\n",
       "      <td>...</td>\n",
       "      <td>...</td>\n",
       "      <td>...</td>\n",
       "      <td>...</td>\n",
       "      <td>...</td>\n",
       "    </tr>\n",
       "    <tr>\n",
       "      <th>70756</th>\n",
       "      <td>ZAZ</td>\n",
       "      <td>Chance</td>\n",
       "      <td>4</td>\n",
       "      <td>0</td>\n",
       "      <td>86.0</td>\n",
       "      <td>5800</td>\n",
       "      <td>1</td>\n",
       "      <td>6.7</td>\n",
       "      <td>48</td>\n",
       "      <td>12.5</td>\n",
       "      <td>172</td>\n",
       "      <td>2</td>\n",
       "      <td>2014</td>\n",
       "      <td>0</td>\n",
       "    </tr>\n",
       "    <tr>\n",
       "      <th>70764</th>\n",
       "      <td>ZAZ</td>\n",
       "      <td>Sens</td>\n",
       "      <td>4</td>\n",
       "      <td>0</td>\n",
       "      <td>70.0</td>\n",
       "      <td>5500</td>\n",
       "      <td>1</td>\n",
       "      <td>7.2</td>\n",
       "      <td>48</td>\n",
       "      <td>17.0</td>\n",
       "      <td>162</td>\n",
       "      <td>3</td>\n",
       "      <td>2014</td>\n",
       "      <td>0</td>\n",
       "    </tr>\n",
       "    <tr>\n",
       "      <th>70765</th>\n",
       "      <td>ZAZ</td>\n",
       "      <td>Sens</td>\n",
       "      <td>4</td>\n",
       "      <td>0</td>\n",
       "      <td>70.0</td>\n",
       "      <td>5500</td>\n",
       "      <td>1</td>\n",
       "      <td>7.2</td>\n",
       "      <td>48</td>\n",
       "      <td>17.0</td>\n",
       "      <td>162</td>\n",
       "      <td>3</td>\n",
       "      <td>2014</td>\n",
       "      <td>0</td>\n",
       "    </tr>\n",
       "    <tr>\n",
       "      <th>70766</th>\n",
       "      <td>ZAZ</td>\n",
       "      <td>Vida</td>\n",
       "      <td>4</td>\n",
       "      <td>0</td>\n",
       "      <td>109.0</td>\n",
       "      <td>5600</td>\n",
       "      <td>1</td>\n",
       "      <td>7.3</td>\n",
       "      <td>45</td>\n",
       "      <td>11.5</td>\n",
       "      <td>170</td>\n",
       "      <td>3</td>\n",
       "      <td>2016</td>\n",
       "      <td>0</td>\n",
       "    </tr>\n",
       "    <tr>\n",
       "      <th>70767</th>\n",
       "      <td>ZAZ</td>\n",
       "      <td>Vida</td>\n",
       "      <td>4</td>\n",
       "      <td>0</td>\n",
       "      <td>109.0</td>\n",
       "      <td>5600</td>\n",
       "      <td>1</td>\n",
       "      <td>7.8</td>\n",
       "      <td>45</td>\n",
       "      <td>11.5</td>\n",
       "      <td>170</td>\n",
       "      <td>3</td>\n",
       "      <td>2016</td>\n",
       "      <td>0</td>\n",
       "    </tr>\n",
       "  </tbody>\n",
       "</table>\n",
       "<p>18595 rows × 14 columns</p>\n",
       "</div>"
      ],
      "text/plain": [
       "        Make   Model  number_of_cylinders  engine_type  engine_hp  \\\n",
       "9         AC   Aceca                    8            0      354.0   \n",
       "11        AC   Aceca                    8            0      326.0   \n",
       "54     Acura     MDX                    6            0      240.0   \n",
       "60     Acura     MDX                    6            0      290.0   \n",
       "68     Acura     NSX                    6            0      255.0   \n",
       "...      ...     ...                  ...          ...        ...   \n",
       "70756    ZAZ  Chance                    4            0       86.0   \n",
       "70764    ZAZ    Sens                    4            0       70.0   \n",
       "70765    ZAZ    Sens                    4            0       70.0   \n",
       "70766    ZAZ    Vida                    4            0      109.0   \n",
       "70767    ZAZ    Vida                    4            0      109.0   \n",
       "\n",
       "       engine_hp_rpm  transmission  mixed_fuel_consumption_per_100_km_l  \\\n",
       "9               6500             1                                 13.4   \n",
       "11              5800             1                                 12.2   \n",
       "54              5750             0                                 13.2   \n",
       "60              6200             0                                 10.4   \n",
       "68              6800             1                                 10.0   \n",
       "...              ...           ...                                  ...   \n",
       "70756           5800             1                                  6.7   \n",
       "70764           5500             1                                  7.2   \n",
       "70765           5500             1                                  7.2   \n",
       "70766           5600             1                                  7.3   \n",
       "70767           5600             1                                  7.8   \n",
       "\n",
       "       fuel_tank_capacity_l  acceleration_0_100_km/h_s  max_speed_km_per_h  \\\n",
       "9                        70                        5.6                 250   \n",
       "11                       70                        6.1                 250   \n",
       "54                       73                        8.7                 190   \n",
       "60                       73                        7.6                 220   \n",
       "68                       70                        5.0                 260   \n",
       "...                     ...                        ...                 ...   \n",
       "70756                    48                       12.5                 172   \n",
       "70764                    48                       17.0                 162   \n",
       "70765                    48                       17.0                 162   \n",
       "70766                    45                       11.5                 170   \n",
       "70767                    45                       11.5                 170   \n",
       "\n",
       "       fuel_grade  year  Tipe_Mobil  \n",
       "9               3  2000           0  \n",
       "11              3  2000           0  \n",
       "54              2  2004           1  \n",
       "60              3  2016           1  \n",
       "68              3  2004           0  \n",
       "...           ...   ...         ...  \n",
       "70756           2  2014           0  \n",
       "70764           3  2014           0  \n",
       "70765           3  2014           0  \n",
       "70766           3  2016           0  \n",
       "70767           3  2016           0  \n",
       "\n",
       "[18595 rows x 14 columns]"
      ]
     },
     "execution_count": 49,
     "metadata": {},
     "output_type": "execute_result"
    }
   ],
   "source": [
    "df"
   ]
  },
  {
   "cell_type": "markdown",
   "metadata": {},
   "source": [
    "# Model Creation\n",
    "\n",
    "Coba2 buat model (pake feature column) make feature data:\n",
    "- number of cylinder (category)\n",
    "- engine type (category)\n",
    "- engine hp (number)\n",
    "- engine hp rpm (number)\n",
    "- transmission (category)\n",
    "- acceleration_0_100_km/h_s (number)\n",
    "- fuel_grade (category)\n",
    "- mixed_fuel_consumption_per_100_km_l (target)"
   ]
  },
  {
   "cell_type": "code",
   "execution_count": 50,
   "metadata": {},
   "outputs": [],
   "source": [
    "#Import library\n",
    "import numpy as np\n",
    "import tensorflow as tf\n",
    "from sklearn.model_selection import train_test_split\n",
    "from tensorflow import feature_column\n",
    "import pandas as pd"
   ]
  },
  {
   "cell_type": "code",
   "execution_count": 51,
   "metadata": {},
   "outputs": [],
   "source": [
    "#Required features for training ? (tentative)\n",
    "req_feat = ['number_of_cylinders',\n",
    "            'engine_type',\n",
    "            'engine_hp',\n",
    "            'engine_hp_rpm',\n",
    "            'transmission',\n",
    "            'acceleration_0_100_km/h_s',\n",
    "            'fuel_grade',\n",
    "            'mixed_fuel_consumption_per_100_km_l']\n",
    "\n",
    "target = 'mixed_fuel_consumption_per_100_km_l'\n",
    "\n",
    "#Data for train\n",
    "data = df[req_feat]"
   ]
  },
  {
   "cell_type": "code",
   "execution_count": 52,
   "metadata": {},
   "outputs": [
    {
     "name": "stdout",
     "output_type": "stream",
     "text": [
      "Number of training datasets: 16735\n",
      "Number of validation datasets: 1860\n"
     ]
    }
   ],
   "source": [
    "#Data split into val and train set\n",
    "train, val = train_test_split(data, test_size=0.1)\n",
    "print(f'Number of training datasets: {len(train)}')\n",
    "print(f'Number of validation datasets: {len(val)}')"
   ]
  },
  {
   "cell_type": "code",
   "execution_count": 53,
   "metadata": {},
   "outputs": [],
   "source": [
    "#Function to Convert pd dataframe to tensorflow datasets\n",
    "def df_to_dataset(dataframe, shuffle=True, batch_size=32):\n",
    "  dataframe = dataframe.copy()\n",
    "  labels = dataframe.pop(target)\n",
    "  ds = tf.data.Dataset.from_tensor_slices((dict(dataframe), labels))\n",
    "  if shuffle:\n",
    "    ds = ds.shuffle(buffer_size=len(dataframe))\n",
    "  ds = ds.batch(batch_size).prefetch(tf.data.experimental.AUTOTUNE)\n",
    "  return ds"
   ]
  },
  {
   "cell_type": "code",
   "execution_count": 54,
   "metadata": {},
   "outputs": [],
   "source": [
    "#Converting train and val pandas dataframe to Tensorflow datasets\n",
    "train_set = df_to_dataset(train, shuffle=True, batch_size=32)\n",
    "val_set = df_to_dataset(val, shuffle=False, batch_size=32)"
   ]
  },
  {
   "cell_type": "code",
   "execution_count": 55,
   "metadata": {},
   "outputs": [],
   "source": [
    "#Function to create feature layer\n",
    "def feature_creation():\n",
    "  num_cylinder = feature_column.categorical_column_with_vocabulary_list('number_of_cylinders', df['number_of_cylinders'].unique())\n",
    "  num_cylinder = feature_column.indicator_column(num_cylinder)\n",
    "  engine_type = feature_column.categorical_column_with_vocabulary_list('engine_type', df['engine_type'].unique())\n",
    "  engine_type = feature_column.indicator_column(engine_type)\n",
    "  transmission = feature_column.categorical_column_with_vocabulary_list('transmission', df['transmission'].unique())\n",
    "  transmission = feature_column.indicator_column(transmission)\n",
    "  fuel_grade = feature_column.categorical_column_with_vocabulary_list('fuel_grade', df['fuel_grade'].unique())\n",
    "  fuel_grade  = feature_column.indicator_column(fuel_grade )\n",
    "  engine_hp = feature_column.numeric_column('engine_hp')\n",
    "  engine_hp_rpm = feature_column.numeric_column('engine_hp_rpm')\n",
    "  acceleration = feature_column.numeric_column('acceleration_0_100_km/h_s')\n",
    "  feature_columns = [\n",
    "      num_cylinder,\n",
    "      engine_type,\n",
    "      transmission,\n",
    "      fuel_grade,\n",
    "      engine_hp,\n",
    "      engine_hp_rpm,\n",
    "      acceleration\n",
    "  ]\n",
    "  feature_layer = tf.keras.layers.DenseFeatures(feature_columns)\n",
    "\n",
    "  return feature_layer "
   ]
  },
  {
   "cell_type": "code",
   "execution_count": 58,
   "metadata": {},
   "outputs": [
    {
     "name": "stdout",
     "output_type": "stream",
     "text": [
      "Epoch 1/20\n"
     ]
    },
    {
     "name": "stdout",
     "output_type": "stream",
     "text": [
      "523/523 [==============================] - 2s 2ms/step - loss: 18615.8613 - mae: 63.8598 - val_loss: 66.8177 - val_mae: 6.1301\n",
      "Epoch 2/20\n",
      "523/523 [==============================] - 1s 2ms/step - loss: 53.5259 - mae: 5.4064 - val_loss: 41.0291 - val_mae: 4.7776\n",
      "Epoch 3/20\n",
      "523/523 [==============================] - 1s 2ms/step - loss: 30.0663 - mae: 4.0753 - val_loss: 20.9781 - val_mae: 3.4578\n",
      "Epoch 4/20\n",
      "523/523 [==============================] - 1s 2ms/step - loss: 14.6050 - mae: 2.8998 - val_loss: 10.0404 - val_mae: 2.4008\n",
      "Epoch 5/20\n",
      "523/523 [==============================] - 1s 2ms/step - loss: 7.3577 - mae: 2.0986 - val_loss: 5.7964 - val_mae: 1.8767\n",
      "Epoch 6/20\n",
      "523/523 [==============================] - 1s 2ms/step - loss: 4.9365 - mae: 1.7458 - val_loss: 4.5863 - val_mae: 1.6725\n",
      "Epoch 7/20\n",
      "523/523 [==============================] - 1s 2ms/step - loss: 4.2724 - mae: 1.6277 - val_loss: 4.1874 - val_mae: 1.5949\n",
      "Epoch 8/20\n",
      "523/523 [==============================] - 1s 2ms/step - loss: 3.9556 - mae: 1.5604 - val_loss: 3.9808 - val_mae: 1.5680\n",
      "Epoch 9/20\n",
      "523/523 [==============================] - 1s 2ms/step - loss: 3.6897 - mae: 1.4949 - val_loss: 3.6656 - val_mae: 1.4700\n",
      "Epoch 10/20\n",
      "523/523 [==============================] - 1s 2ms/step - loss: 3.4398 - mae: 1.4329 - val_loss: 3.4824 - val_mae: 1.3986\n",
      "Epoch 11/20\n",
      "523/523 [==============================] - 1s 2ms/step - loss: 3.2214 - mae: 1.3713 - val_loss: 3.2797 - val_mae: 1.3426\n",
      "Epoch 12/20\n",
      "523/523 [==============================] - 1s 2ms/step - loss: 3.0311 - mae: 1.3195 - val_loss: 3.0706 - val_mae: 1.3060\n",
      "Epoch 13/20\n",
      "523/523 [==============================] - 1s 2ms/step - loss: 2.8975 - mae: 1.2809 - val_loss: 2.9886 - val_mae: 1.2716\n",
      "Epoch 14/20\n",
      "523/523 [==============================] - 1s 2ms/step - loss: 2.8473 - mae: 1.2646 - val_loss: 2.9717 - val_mae: 1.2848\n",
      "Epoch 15/20\n",
      "523/523 [==============================] - 1s 2ms/step - loss: 2.7643 - mae: 1.2412 - val_loss: 2.8097 - val_mae: 1.2375\n",
      "Epoch 16/20\n",
      "523/523 [==============================] - 1s 2ms/step - loss: 2.7349 - mae: 1.2321 - val_loss: 3.0215 - val_mae: 1.2837\n",
      "Epoch 17/20\n",
      "523/523 [==============================] - 1s 2ms/step - loss: 2.7146 - mae: 1.2285 - val_loss: 2.8285 - val_mae: 1.2490\n",
      "Epoch 18/20\n",
      "523/523 [==============================] - 1s 2ms/step - loss: 2.6859 - mae: 1.2213 - val_loss: 2.7916 - val_mae: 1.2463\n",
      "Epoch 19/20\n",
      "523/523 [==============================] - 1s 2ms/step - loss: 2.6702 - mae: 1.2198 - val_loss: 2.6332 - val_mae: 1.1980\n",
      "Epoch 20/20\n",
      "523/523 [==============================] - 1s 2ms/step - loss: 2.7934 - mae: 1.2527 - val_loss: 2.6514 - val_mae: 1.2112\n"
     ]
    },
    {
     "data": {
      "text/plain": [
       "<keras.src.callbacks.History at 0x23afa880700>"
      ]
     },
     "execution_count": 58,
     "metadata": {},
     "output_type": "execute_result"
    }
   ],
   "source": [
    "#Create model and train\n",
    "feature_layer = feature_creation()\n",
    "\n",
    "model = tf.keras.Sequential([\n",
    "  feature_layer,\n",
    "  tf.keras.layers.Dense(1)\n",
    "])\n",
    "\n",
    "model.compile(optimizer=tf.keras.optimizers.Adam(learning_rate=0.001),\n",
    "              loss='mse',\n",
    "              metrics=['mae'])\n",
    "\n",
    "model.fit(train_set,\n",
    "          validation_data=val_set,\n",
    "          epochs=20)"
   ]
  },
  {
   "cell_type": "code",
   "execution_count": 59,
   "metadata": {},
   "outputs": [
    {
     "name": "stdout",
     "output_type": "stream",
     "text": [
      "1/1 [==============================] - 0s 176ms/step\n",
      "[[13.280671]]\n"
     ]
    }
   ],
   "source": [
    "data_test = [[8, 0, 0, 2, 381, 5600, 6.7]] #Toyota Sequioa\n",
    "data_test = pd.DataFrame(data_test, columns=['number_of_cylinders', \n",
    "                                                            'engine_type',\n",
    "                                                            'transmission',\n",
    "                                                            'fuel_grade',\n",
    "                                                            'engine_hp',\n",
    "                                                            'engine_hp_rpm',\n",
    "                                                            'acceleration_0_100_km/h_s'])\n",
    "data_test= tf.data.Dataset.from_tensor_slices((dict(data_test)))\n",
    "data_test = data_test.batch(1)\n",
    "hasil = model.predict(data_test)\n",
    "print(hasil)"
   ]
  },
  {
   "cell_type": "markdown",
   "metadata": {},
   "source": [
    "## Model Creation 2\n",
    "\n",
    "Fitur yg dipake msh sama, cuma gk pake feature column (Though, masih bingung one-hotnya kek gmna)"
   ]
  },
  {
   "cell_type": "code",
   "execution_count": 57,
   "metadata": {},
   "outputs": [],
   "source": [
    "#Directly create train and val dataset without feature column\n",
    "train_label = train.pop('mixed_fuel_consumption_per_100_km_l')\n",
    "train_data = tf.data.Dataset.from_tensor_slices((train.values, train_label.values))\n",
    "val_label = val.pop('mixed_fuel_consumption_per_100_km_l')\n",
    "val_data = tf.data.Dataset.from_tensor_slices((val.values, val_label.values))"
   ]
  },
  {
   "cell_type": "code",
   "execution_count": 58,
   "metadata": {},
   "outputs": [],
   "source": [
    "#Batches and shuffles (for train only) the data\n",
    "train_data = train_data.shuffle(10).batch(32)\n",
    "val_data = val_data.batch(32)"
   ]
  },
  {
   "cell_type": "code",
   "execution_count": 59,
   "metadata": {},
   "outputs": [
    {
     "name": "stdout",
     "output_type": "stream",
     "text": [
      "Epoch 1/20\n"
     ]
    },
    {
     "name": "stdout",
     "output_type": "stream",
     "text": [
      "523/523 [==============================] - 3s 3ms/step - loss: 221.0124 - mae: 5.7525 - val_loss: 4.0930 - val_mae: 1.4757\n",
      "Epoch 2/20\n",
      "523/523 [==============================] - 1s 2ms/step - loss: 4.7983 - mae: 1.6319 - val_loss: 3.7568 - val_mae: 1.4421\n",
      "Epoch 3/20\n",
      "523/523 [==============================] - 1s 2ms/step - loss: 4.7537 - mae: 1.6267 - val_loss: 3.8772 - val_mae: 1.4386\n",
      "Epoch 4/20\n",
      "523/523 [==============================] - 1s 2ms/step - loss: 4.6505 - mae: 1.6094 - val_loss: 3.6772 - val_mae: 1.4063\n",
      "Epoch 5/20\n",
      "523/523 [==============================] - 1s 2ms/step - loss: 4.4818 - mae: 1.5801 - val_loss: 3.4173 - val_mae: 1.3735\n",
      "Epoch 6/20\n",
      "523/523 [==============================] - 1s 2ms/step - loss: 4.6164 - mae: 1.6052 - val_loss: 4.0367 - val_mae: 1.4803\n",
      "Epoch 7/20\n",
      "523/523 [==============================] - 1s 2ms/step - loss: 4.5901 - mae: 1.6022 - val_loss: 3.8063 - val_mae: 1.4377\n",
      "Epoch 8/20\n",
      "523/523 [==============================] - 1s 3ms/step - loss: 4.4663 - mae: 1.5814 - val_loss: 3.3471 - val_mae: 1.3495\n",
      "Epoch 9/20\n",
      "523/523 [==============================] - 1s 3ms/step - loss: 4.4687 - mae: 1.5885 - val_loss: 3.8503 - val_mae: 1.4314\n",
      "Epoch 10/20\n",
      "523/523 [==============================] - 1s 2ms/step - loss: 4.4029 - mae: 1.5743 - val_loss: 3.3305 - val_mae: 1.3502\n",
      "Epoch 11/20\n",
      "523/523 [==============================] - 1s 3ms/step - loss: 4.3963 - mae: 1.5729 - val_loss: 3.1976 - val_mae: 1.3409\n",
      "Epoch 12/20\n",
      "523/523 [==============================] - 1s 3ms/step - loss: 4.3363 - mae: 1.5620 - val_loss: 3.1504 - val_mae: 1.3196\n",
      "Epoch 13/20\n",
      "523/523 [==============================] - 1s 2ms/step - loss: 4.1894 - mae: 1.5385 - val_loss: 3.2774 - val_mae: 1.3374\n",
      "Epoch 14/20\n",
      "523/523 [==============================] - 1s 2ms/step - loss: 4.0409 - mae: 1.5159 - val_loss: 3.8046 - val_mae: 1.4603\n",
      "Epoch 15/20\n",
      "523/523 [==============================] - 1s 3ms/step - loss: 4.0334 - mae: 1.5125 - val_loss: 3.1811 - val_mae: 1.3206\n",
      "Epoch 16/20\n",
      "523/523 [==============================] - 1s 3ms/step - loss: 3.9913 - mae: 1.5065 - val_loss: 3.0347 - val_mae: 1.2881\n",
      "Epoch 17/20\n",
      "523/523 [==============================] - 1s 2ms/step - loss: 3.9319 - mae: 1.4919 - val_loss: 2.9610 - val_mae: 1.2755\n",
      "Epoch 18/20\n",
      "523/523 [==============================] - 1s 2ms/step - loss: 3.8991 - mae: 1.4912 - val_loss: 2.7709 - val_mae: 1.2371\n",
      "Epoch 19/20\n",
      "523/523 [==============================] - 1s 2ms/step - loss: 6.7543 - mae: 1.7290 - val_loss: 3.6001 - val_mae: 1.4130\n",
      "Epoch 20/20\n",
      "523/523 [==============================] - 1s 2ms/step - loss: 4.1482 - mae: 1.5313 - val_loss: 3.0153 - val_mae: 1.3183\n"
     ]
    },
    {
     "data": {
      "text/plain": [
       "<keras.src.callbacks.History at 0x2152fb234c0>"
      ]
     },
     "execution_count": 59,
     "metadata": {},
     "output_type": "execute_result"
    }
   ],
   "source": [
    "#Create model and train\n",
    "model = tf.keras.Sequential([\n",
    "  tf.keras.layers.Dense(128, activation='relu', input_shape=(7,)),\n",
    "  tf.keras.layers.Dense(128, activation='relu'),\n",
    "  tf.keras.layers.Dense(128, activation='relu'),\n",
    "  tf.keras.layers.Dense(128, activation='relu'),\n",
    "  tf.keras.layers.Dropout(.1),\n",
    "  tf.keras.layers.Dense(1)\n",
    "])\n",
    "\n",
    "model.compile(optimizer=tf.keras.optimizers.Adam(learning_rate=0.001),\n",
    "              loss='mse',\n",
    "              metrics=['mae'])\n",
    "\n",
    "model.fit(train_data,\n",
    "          validation_data=val_data,\n",
    "          epochs=20)"
   ]
  }
 ],
 "metadata": {
  "kernelspec": {
   "display_name": "Python 3",
   "language": "python",
   "name": "python3"
  },
  "language_info": {
   "codemirror_mode": {
    "name": "ipython",
    "version": 3
   },
   "file_extension": ".py",
   "mimetype": "text/x-python",
   "name": "python",
   "nbconvert_exporter": "python",
   "pygments_lexer": "ipython3",
   "version": "3.10.10"
  }
 },
 "nbformat": 4,
 "nbformat_minor": 2
}
