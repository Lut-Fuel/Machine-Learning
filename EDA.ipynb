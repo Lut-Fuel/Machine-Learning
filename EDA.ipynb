{
 "cells": [
  {
   "cell_type": "markdown",
   "metadata": {},
   "source": [
    "## Features\n",
    "\n",
    "= "
   ]
  },
  {
   "cell_type": "code",
   "execution_count": 2,
   "metadata": {},
   "outputs": [],
   "source": [
    "import pandas as pd\n",
    "from ydata_profiling import ProfileReport"
   ]
  },
  {
   "cell_type": "code",
   "execution_count": 3,
   "metadata": {},
   "outputs": [],
   "source": [
    "columns_dipakai = ['Make',\n",
    "                   'Modle',\n",
    "                   'Year_from',\n",
    "                   'Year_to',\n",
    "                   'Body_type',\n",
    "                   'number_of_cylinders',\n",
    "                   'engine_type',\n",
    "                   'engine_hp',\n",
    "                   'engine_hp_rpm',\n",
    "                   'transmission',\n",
    "                   'mixed_fuel_consumption_per_100_km_l',\n",
    "                   'fuel_tank_capacity_l',\n",
    "                   'acceleration_0_100_km/h_s',\n",
    "                   'max_speed_km_per_h',\n",
    "                   'fuel_grade',\n",
    "                   'battery_capacity_KW_per_h',\n",
    "                   'charging_time_h',\n",
    "                   'electric_range_km'\n",
    "                   ]"
   ]
  },
  {
   "cell_type": "code",
   "execution_count": 5,
   "metadata": {},
   "outputs": [],
   "source": [
    "df = pd.read_csv('E:/Important/Machine-Learning/Dataset/Car Dataset 1945-2020.csv', usecols = columns_dipakai, low_memory=False)"
   ]
  },
  {
   "cell_type": "code",
   "execution_count": 6,
   "metadata": {},
   "outputs": [],
   "source": [
    "df.rename(columns = {'Modle':'Model'}, inplace = True)"
   ]
  },
  {
   "cell_type": "code",
   "execution_count": 7,
   "metadata": {},
   "outputs": [
    {
     "name": "stdout",
     "output_type": "stream",
     "text": [
      "<class 'pandas.core.frame.DataFrame'>\n",
      "RangeIndex: 70823 entries, 0 to 70822\n",
      "Data columns (total 18 columns):\n",
      " #   Column                               Non-Null Count  Dtype  \n",
      "---  ------                               --------------  -----  \n",
      " 0   Make                                 70823 non-null  object \n",
      " 1   Model                                70823 non-null  object \n",
      " 2   Year_from                            70586 non-null  float64\n",
      " 3   Year_to                              70189 non-null  float64\n",
      " 4   Body_type                            52252 non-null  object \n",
      " 5   number_of_cylinders                  59544 non-null  float64\n",
      " 6   engine_type                          59878 non-null  object \n",
      " 7   engine_hp                            59877 non-null  float64\n",
      " 8   engine_hp_rpm                        59408 non-null  object \n",
      " 9   transmission                         59842 non-null  object \n",
      " 10  mixed_fuel_consumption_per_100_km_l  40566 non-null  float64\n",
      " 11  fuel_tank_capacity_l                 57847 non-null  object \n",
      " 12  acceleration_0_100_km/h_s            40181 non-null  float64\n",
      " 13  max_speed_km_per_h                   43074 non-null  object \n",
      " 14  fuel_grade                           58715 non-null  object \n",
      " 15  battery_capacity_KW_per_h            15 non-null     object \n",
      " 16  electric_range_km                    15 non-null     float64\n",
      " 17  charging_time_h                      7 non-null      object \n",
      "dtypes: float64(7), object(11)\n",
      "memory usage: 9.7+ MB\n"
     ]
    }
   ],
   "source": [
    "df.info()"
   ]
  },
  {
   "cell_type": "code",
   "execution_count": 5,
   "metadata": {},
   "outputs": [
    {
     "data": {
      "text/html": [
       "<div>\n",
       "<style scoped>\n",
       "    .dataframe tbody tr th:only-of-type {\n",
       "        vertical-align: middle;\n",
       "    }\n",
       "\n",
       "    .dataframe tbody tr th {\n",
       "        vertical-align: top;\n",
       "    }\n",
       "\n",
       "    .dataframe thead th {\n",
       "        text-align: right;\n",
       "    }\n",
       "</style>\n",
       "<table border=\"1\" class=\"dataframe\">\n",
       "  <thead>\n",
       "    <tr style=\"text-align: right;\">\n",
       "      <th></th>\n",
       "      <th>Make</th>\n",
       "      <th>Modle</th>\n",
       "      <th>Year_from</th>\n",
       "      <th>Year_to</th>\n",
       "      <th>Body_type</th>\n",
       "      <th>number_of_cylinders</th>\n",
       "      <th>engine_type</th>\n",
       "      <th>engine_hp</th>\n",
       "      <th>engine_hp_rpm</th>\n",
       "      <th>transmission</th>\n",
       "      <th>mixed_fuel_consumption_per_100_km_l</th>\n",
       "      <th>fuel_tank_capacity_l</th>\n",
       "      <th>acceleration_0_100_km/h_s</th>\n",
       "      <th>max_speed_km_per_h</th>\n",
       "      <th>fuel_grade</th>\n",
       "      <th>battery_capacity_KW_per_h</th>\n",
       "      <th>electric_range_km</th>\n",
       "      <th>charging_time_h</th>\n",
       "    </tr>\n",
       "  </thead>\n",
       "  <tbody>\n",
       "    <tr>\n",
       "      <th>0</th>\n",
       "      <td>AC</td>\n",
       "      <td>ACE</td>\n",
       "      <td>1993.0</td>\n",
       "      <td>2000.0</td>\n",
       "      <td>Cabriolet</td>\n",
       "      <td>8.0</td>\n",
       "      <td>Gasoline</td>\n",
       "      <td>354.0</td>\n",
       "      <td>6500</td>\n",
       "      <td>Manual</td>\n",
       "      <td>NaN</td>\n",
       "      <td>90</td>\n",
       "      <td>5.0</td>\n",
       "      <td>250</td>\n",
       "      <td>95</td>\n",
       "      <td>NaN</td>\n",
       "      <td>NaN</td>\n",
       "      <td>NaN</td>\n",
       "    </tr>\n",
       "    <tr>\n",
       "      <th>1</th>\n",
       "      <td>AC</td>\n",
       "      <td>ACE</td>\n",
       "      <td>1993.0</td>\n",
       "      <td>2000.0</td>\n",
       "      <td>Cabriolet</td>\n",
       "      <td>8.0</td>\n",
       "      <td>Gasoline</td>\n",
       "      <td>326.0</td>\n",
       "      <td>5800</td>\n",
       "      <td>Manual</td>\n",
       "      <td>NaN</td>\n",
       "      <td>90</td>\n",
       "      <td>5.0</td>\n",
       "      <td>250</td>\n",
       "      <td>98</td>\n",
       "      <td>NaN</td>\n",
       "      <td>NaN</td>\n",
       "      <td>NaN</td>\n",
       "    </tr>\n",
       "    <tr>\n",
       "      <th>2</th>\n",
       "      <td>AC</td>\n",
       "      <td>ACE</td>\n",
       "      <td>1993.0</td>\n",
       "      <td>2000.0</td>\n",
       "      <td>Cabriolet</td>\n",
       "      <td>8.0</td>\n",
       "      <td>Gasoline</td>\n",
       "      <td>260.0</td>\n",
       "      <td>5250</td>\n",
       "      <td>Automatic</td>\n",
       "      <td>8.0</td>\n",
       "      <td>80</td>\n",
       "      <td>NaN</td>\n",
       "      <td>225</td>\n",
       "      <td>95</td>\n",
       "      <td>NaN</td>\n",
       "      <td>NaN</td>\n",
       "      <td>NaN</td>\n",
       "    </tr>\n",
       "    <tr>\n",
       "      <th>3</th>\n",
       "      <td>AC</td>\n",
       "      <td>ACE</td>\n",
       "      <td>1993.0</td>\n",
       "      <td>2000.0</td>\n",
       "      <td>NaN</td>\n",
       "      <td>NaN</td>\n",
       "      <td>NaN</td>\n",
       "      <td>NaN</td>\n",
       "      <td>NaN</td>\n",
       "      <td>NaN</td>\n",
       "      <td>NaN</td>\n",
       "      <td>NaN</td>\n",
       "      <td>NaN</td>\n",
       "      <td>NaN</td>\n",
       "      <td>NaN</td>\n",
       "      <td>NaN</td>\n",
       "      <td>NaN</td>\n",
       "      <td>NaN</td>\n",
       "    </tr>\n",
       "    <tr>\n",
       "      <th>4</th>\n",
       "      <td>AC</td>\n",
       "      <td>ACE</td>\n",
       "      <td>1993.0</td>\n",
       "      <td>2000.0</td>\n",
       "      <td>NaN</td>\n",
       "      <td>NaN</td>\n",
       "      <td>NaN</td>\n",
       "      <td>NaN</td>\n",
       "      <td>NaN</td>\n",
       "      <td>NaN</td>\n",
       "      <td>NaN</td>\n",
       "      <td>NaN</td>\n",
       "      <td>NaN</td>\n",
       "      <td>NaN</td>\n",
       "      <td>NaN</td>\n",
       "      <td>NaN</td>\n",
       "      <td>NaN</td>\n",
       "      <td>NaN</td>\n",
       "    </tr>\n",
       "    <tr>\n",
       "      <th>...</th>\n",
       "      <td>...</td>\n",
       "      <td>...</td>\n",
       "      <td>...</td>\n",
       "      <td>...</td>\n",
       "      <td>...</td>\n",
       "      <td>...</td>\n",
       "      <td>...</td>\n",
       "      <td>...</td>\n",
       "      <td>...</td>\n",
       "      <td>...</td>\n",
       "      <td>...</td>\n",
       "      <td>...</td>\n",
       "      <td>...</td>\n",
       "      <td>...</td>\n",
       "      <td>...</td>\n",
       "      <td>...</td>\n",
       "      <td>...</td>\n",
       "      <td>...</td>\n",
       "    </tr>\n",
       "    <tr>\n",
       "      <th>70818</th>\n",
       "      <td>ZX</td>\n",
       "      <td>Landmark</td>\n",
       "      <td>2007.0</td>\n",
       "      <td>2009.0</td>\n",
       "      <td>NaN</td>\n",
       "      <td>NaN</td>\n",
       "      <td>NaN</td>\n",
       "      <td>NaN</td>\n",
       "      <td>NaN</td>\n",
       "      <td>NaN</td>\n",
       "      <td>NaN</td>\n",
       "      <td>NaN</td>\n",
       "      <td>NaN</td>\n",
       "      <td>NaN</td>\n",
       "      <td>NaN</td>\n",
       "      <td>NaN</td>\n",
       "      <td>NaN</td>\n",
       "      <td>NaN</td>\n",
       "    </tr>\n",
       "    <tr>\n",
       "      <th>70819</th>\n",
       "      <td>ZX</td>\n",
       "      <td>Landmark</td>\n",
       "      <td>2007.0</td>\n",
       "      <td>2009.0</td>\n",
       "      <td>NaN</td>\n",
       "      <td>NaN</td>\n",
       "      <td>NaN</td>\n",
       "      <td>NaN</td>\n",
       "      <td>NaN</td>\n",
       "      <td>NaN</td>\n",
       "      <td>NaN</td>\n",
       "      <td>NaN</td>\n",
       "      <td>NaN</td>\n",
       "      <td>NaN</td>\n",
       "      <td>NaN</td>\n",
       "      <td>NaN</td>\n",
       "      <td>NaN</td>\n",
       "      <td>NaN</td>\n",
       "    </tr>\n",
       "    <tr>\n",
       "      <th>70820</th>\n",
       "      <td>ZX</td>\n",
       "      <td>Landmark</td>\n",
       "      <td>2007.0</td>\n",
       "      <td>2009.0</td>\n",
       "      <td>NaN</td>\n",
       "      <td>NaN</td>\n",
       "      <td>NaN</td>\n",
       "      <td>NaN</td>\n",
       "      <td>NaN</td>\n",
       "      <td>NaN</td>\n",
       "      <td>NaN</td>\n",
       "      <td>NaN</td>\n",
       "      <td>NaN</td>\n",
       "      <td>NaN</td>\n",
       "      <td>NaN</td>\n",
       "      <td>NaN</td>\n",
       "      <td>NaN</td>\n",
       "      <td>NaN</td>\n",
       "    </tr>\n",
       "    <tr>\n",
       "      <th>70821</th>\n",
       "      <td>ZX</td>\n",
       "      <td>Landmark</td>\n",
       "      <td>2007.0</td>\n",
       "      <td>2009.0</td>\n",
       "      <td>NaN</td>\n",
       "      <td>NaN</td>\n",
       "      <td>NaN</td>\n",
       "      <td>NaN</td>\n",
       "      <td>NaN</td>\n",
       "      <td>NaN</td>\n",
       "      <td>NaN</td>\n",
       "      <td>NaN</td>\n",
       "      <td>NaN</td>\n",
       "      <td>NaN</td>\n",
       "      <td>NaN</td>\n",
       "      <td>NaN</td>\n",
       "      <td>NaN</td>\n",
       "      <td>NaN</td>\n",
       "    </tr>\n",
       "    <tr>\n",
       "      <th>70822</th>\n",
       "      <td>ZX</td>\n",
       "      <td>Landmark</td>\n",
       "      <td>2007.0</td>\n",
       "      <td>2009.0</td>\n",
       "      <td>NaN</td>\n",
       "      <td>NaN</td>\n",
       "      <td>NaN</td>\n",
       "      <td>NaN</td>\n",
       "      <td>NaN</td>\n",
       "      <td>NaN</td>\n",
       "      <td>NaN</td>\n",
       "      <td>NaN</td>\n",
       "      <td>NaN</td>\n",
       "      <td>NaN</td>\n",
       "      <td>NaN</td>\n",
       "      <td>NaN</td>\n",
       "      <td>NaN</td>\n",
       "      <td>NaN</td>\n",
       "    </tr>\n",
       "  </tbody>\n",
       "</table>\n",
       "<p>70823 rows × 18 columns</p>\n",
       "</div>"
      ],
      "text/plain": [
       "      Make     Modle  Year_from  Year_to  Body_type  number_of_cylinders  \\\n",
       "0       AC       ACE     1993.0   2000.0  Cabriolet                  8.0   \n",
       "1       AC       ACE     1993.0   2000.0  Cabriolet                  8.0   \n",
       "2       AC       ACE     1993.0   2000.0  Cabriolet                  8.0   \n",
       "3       AC       ACE     1993.0   2000.0        NaN                  NaN   \n",
       "4       AC       ACE     1993.0   2000.0        NaN                  NaN   \n",
       "...    ...       ...        ...      ...        ...                  ...   \n",
       "70818   ZX  Landmark     2007.0   2009.0        NaN                  NaN   \n",
       "70819   ZX  Landmark     2007.0   2009.0        NaN                  NaN   \n",
       "70820   ZX  Landmark     2007.0   2009.0        NaN                  NaN   \n",
       "70821   ZX  Landmark     2007.0   2009.0        NaN                  NaN   \n",
       "70822   ZX  Landmark     2007.0   2009.0        NaN                  NaN   \n",
       "\n",
       "      engine_type  engine_hp engine_hp_rpm transmission  \\\n",
       "0        Gasoline      354.0          6500       Manual   \n",
       "1        Gasoline      326.0          5800       Manual   \n",
       "2        Gasoline      260.0          5250    Automatic   \n",
       "3             NaN        NaN           NaN          NaN   \n",
       "4             NaN        NaN           NaN          NaN   \n",
       "...           ...        ...           ...          ...   \n",
       "70818         NaN        NaN           NaN          NaN   \n",
       "70819         NaN        NaN           NaN          NaN   \n",
       "70820         NaN        NaN           NaN          NaN   \n",
       "70821         NaN        NaN           NaN          NaN   \n",
       "70822         NaN        NaN           NaN          NaN   \n",
       "\n",
       "       mixed_fuel_consumption_per_100_km_l fuel_tank_capacity_l  \\\n",
       "0                                      NaN                   90   \n",
       "1                                      NaN                   90   \n",
       "2                                      8.0                   80   \n",
       "3                                      NaN                  NaN   \n",
       "4                                      NaN                  NaN   \n",
       "...                                    ...                  ...   \n",
       "70818                                  NaN                  NaN   \n",
       "70819                                  NaN                  NaN   \n",
       "70820                                  NaN                  NaN   \n",
       "70821                                  NaN                  NaN   \n",
       "70822                                  NaN                  NaN   \n",
       "\n",
       "       acceleration_0_100_km/h_s max_speed_km_per_h fuel_grade  \\\n",
       "0                            5.0                250         95   \n",
       "1                            5.0                250         98   \n",
       "2                            NaN                225         95   \n",
       "3                            NaN                NaN        NaN   \n",
       "4                            NaN                NaN        NaN   \n",
       "...                          ...                ...        ...   \n",
       "70818                        NaN                NaN        NaN   \n",
       "70819                        NaN                NaN        NaN   \n",
       "70820                        NaN                NaN        NaN   \n",
       "70821                        NaN                NaN        NaN   \n",
       "70822                        NaN                NaN        NaN   \n",
       "\n",
       "      battery_capacity_KW_per_h  electric_range_km charging_time_h  \n",
       "0                           NaN                NaN             NaN  \n",
       "1                           NaN                NaN             NaN  \n",
       "2                           NaN                NaN             NaN  \n",
       "3                           NaN                NaN             NaN  \n",
       "4                           NaN                NaN             NaN  \n",
       "...                         ...                ...             ...  \n",
       "70818                       NaN                NaN             NaN  \n",
       "70819                       NaN                NaN             NaN  \n",
       "70820                       NaN                NaN             NaN  \n",
       "70821                       NaN                NaN             NaN  \n",
       "70822                       NaN                NaN             NaN  \n",
       "\n",
       "[70823 rows x 18 columns]"
      ]
     },
     "execution_count": 5,
     "metadata": {},
     "output_type": "execute_result"
    }
   ],
   "source": [
    "df"
   ]
  },
  {
   "cell_type": "code",
   "execution_count": 6,
   "metadata": {},
   "outputs": [],
   "source": [
    "df = df[df['battery_capacity_KW_per_h'].isna()]\n",
    "df = df[df['charging_time_h'].isna()]\n",
    "df = df[df['electric_range_km'].isna()]"
   ]
  },
  {
   "cell_type": "code",
   "execution_count": 7,
   "metadata": {},
   "outputs": [],
   "source": [
    "df = df[df['Year_from'].notna()]\n",
    "df = df[df['Year_to'].notna()]"
   ]
  },
  {
   "cell_type": "code",
   "execution_count": 8,
   "metadata": {},
   "outputs": [],
   "source": [
    "df['year'] = df[['Year_from', 'Year_to']].mean(axis=1).round()"
   ]
  },
  {
   "cell_type": "code",
   "execution_count": 9,
   "metadata": {},
   "outputs": [],
   "source": [
    "df['year'] = df['year'].astype(int)"
   ]
  },
  {
   "cell_type": "code",
   "execution_count": 11,
   "metadata": {},
   "outputs": [],
   "source": [
    "df.drop(columns=['Year_from', 'Year_to', 'battery_capacity_KW_per_h', 'charging_time_h', 'electric_range_km'], inplace = True)"
   ]
  },
  {
   "cell_type": "code",
   "execution_count": 12,
   "metadata": {},
   "outputs": [
    {
     "name": "stdout",
     "output_type": "stream",
     "text": [
      "<class 'pandas.core.frame.DataFrame'>\n",
      "Index: 70170 entries, 0 to 70822\n",
      "Data columns (total 14 columns):\n",
      " #   Column                               Non-Null Count  Dtype  \n",
      "---  ------                               --------------  -----  \n",
      " 0   Make                                 70170 non-null  object \n",
      " 1   Modle                                70170 non-null  object \n",
      " 2   Body_type                            52252 non-null  object \n",
      " 3   number_of_cylinders                  59266 non-null  float64\n",
      " 4   engine_type                          59599 non-null  object \n",
      " 5   engine_hp                            59598 non-null  float64\n",
      " 6   engine_hp_rpm                        59130 non-null  object \n",
      " 7   transmission                         59563 non-null  object \n",
      " 8   mixed_fuel_consumption_per_100_km_l  40328 non-null  float64\n",
      " 9   fuel_tank_capacity_l                 57583 non-null  object \n",
      " 10  acceleration_0_100_km/h_s            39958 non-null  float64\n",
      " 11  max_speed_km_per_h                   42850 non-null  object \n",
      " 12  fuel_grade                           58457 non-null  object \n",
      " 13  year                                 70170 non-null  int32  \n",
      "dtypes: float64(4), int32(1), object(9)\n",
      "memory usage: 7.8+ MB\n"
     ]
    }
   ],
   "source": [
    "df.info()"
   ]
  },
  {
   "cell_type": "code",
   "execution_count": 13,
   "metadata": {},
   "outputs": [],
   "source": [
    "df['Tipe_Mobil'] = df['Body_type'].replace({\n",
    "    'Cabriolet': 'Sedan',\n",
    "    'Coupe': 'Sedan',\n",
    "    'Roadster': 'Sedan',\n",
    "    'Sedan': 'Sedan',\n",
    "    'Crossover': 'Jeep',\n",
    "    'Hatchback': 'Sedan',\n",
    "    'Liftback': 'Sedan',\n",
    "    'Wagon': 'Sedan',\n",
    "    'Minivan': 'Bus',\n",
    "    'Fastback': 'Sedan',\n",
    "    'Pickup': 'PickUp',\n",
    "    'Targa': 'Sedan',\n",
    "    'hardtop': 'Sedan',\n",
    "    'Limousine': 'Bus',\n",
    "    'Hatchback 3 doors': 'Sedan'\n",
    "})\n",
    "df.drop(columns=['Body_type'], inplace=True)"
   ]
  },
  {
   "cell_type": "code",
   "execution_count": 14,
   "metadata": {},
   "outputs": [
    {
     "data": {
      "text/plain": [
       "Make                                       0\n",
       "Modle                                      0\n",
       "number_of_cylinders                    10904\n",
       "engine_type                            10571\n",
       "engine_hp                              10572\n",
       "engine_hp_rpm                          11040\n",
       "transmission                           10607\n",
       "mixed_fuel_consumption_per_100_km_l    29842\n",
       "fuel_tank_capacity_l                   12587\n",
       "acceleration_0_100_km/h_s              30212\n",
       "max_speed_km_per_h                     27320\n",
       "fuel_grade                             11713\n",
       "year                                       0\n",
       "Tipe_Mobil                             17918\n",
       "dtype: int64"
      ]
     },
     "execution_count": 14,
     "metadata": {},
     "output_type": "execute_result"
    }
   ],
   "source": [
    "df.isna().sum()"
   ]
  },
  {
   "cell_type": "code",
   "execution_count": 15,
   "metadata": {},
   "outputs": [],
   "source": [
    "df.dropna(inplace=True)"
   ]
  },
  {
   "cell_type": "code",
   "execution_count": 16,
   "metadata": {},
   "outputs": [],
   "source": [
    "df = df[df['year'] >= 2000]"
   ]
  },
  {
   "cell_type": "code",
   "execution_count": 17,
   "metadata": {},
   "outputs": [
    {
     "name": "stdout",
     "output_type": "stream",
     "text": [
      "<class 'pandas.core.frame.DataFrame'>\n",
      "Index: 21457 entries, 9 to 70767\n",
      "Data columns (total 14 columns):\n",
      " #   Column                               Non-Null Count  Dtype  \n",
      "---  ------                               --------------  -----  \n",
      " 0   Make                                 21457 non-null  object \n",
      " 1   Modle                                21457 non-null  object \n",
      " 2   number_of_cylinders                  21457 non-null  float64\n",
      " 3   engine_type                          21457 non-null  object \n",
      " 4   engine_hp                            21457 non-null  float64\n",
      " 5   engine_hp_rpm                        21457 non-null  object \n",
      " 6   transmission                         21457 non-null  object \n",
      " 7   mixed_fuel_consumption_per_100_km_l  21457 non-null  float64\n",
      " 8   fuel_tank_capacity_l                 21457 non-null  object \n",
      " 9   acceleration_0_100_km/h_s            21457 non-null  float64\n",
      " 10  max_speed_km_per_h                   21457 non-null  object \n",
      " 11  fuel_grade                           21457 non-null  object \n",
      " 12  year                                 21457 non-null  int32  \n",
      " 13  Tipe_Mobil                           21457 non-null  object \n",
      "dtypes: float64(4), int32(1), object(9)\n",
      "memory usage: 2.4+ MB\n"
     ]
    }
   ],
   "source": [
    "df.info()"
   ]
  },
  {
   "cell_type": "code",
   "execution_count": 18,
   "metadata": {},
   "outputs": [
    {
     "data": {
      "text/plain": [
       "array([ 8.,  6.,  4.,  5.,  2., 12.,  3., 10.,  7., 16.])"
      ]
     },
     "execution_count": 18,
     "metadata": {},
     "output_type": "execute_result"
    }
   ],
   "source": [
    "df['number_of_cylinders'].unique()"
   ]
  },
  {
   "cell_type": "code",
   "execution_count": 19,
   "metadata": {},
   "outputs": [],
   "source": [
    "df['number_of_cylinders'] = df['number_of_cylinders'].astype(int)"
   ]
  },
  {
   "cell_type": "code",
   "execution_count": 20,
   "metadata": {},
   "outputs": [
    {
     "data": {
      "text/plain": [
       "array([ 8,  6,  4,  5,  2, 12,  3, 10,  7, 16])"
      ]
     },
     "execution_count": 20,
     "metadata": {},
     "output_type": "execute_result"
    }
   ],
   "source": [
    "df['number_of_cylinders'].unique()"
   ]
  },
  {
   "cell_type": "code",
   "execution_count": 21,
   "metadata": {},
   "outputs": [
    {
     "data": {
      "text/plain": [
       "array([2000, 2004, 2016, 2008, 2002, 2007, 2012, 2018, 2015, 2006, 2010,\n",
       "       2001, 2014, 2017, 2019, 2009, 2011, 2003, 2013, 2020, 2005])"
      ]
     },
     "execution_count": 21,
     "metadata": {},
     "output_type": "execute_result"
    }
   ],
   "source": [
    "df['year'].unique()"
   ]
  },
  {
   "cell_type": "code",
   "execution_count": 22,
   "metadata": {},
   "outputs": [
    {
     "data": {
      "text/plain": [
       "array(['Sedan', 'Jeep', 'Bus', 'PickUp'], dtype=object)"
      ]
     },
     "execution_count": 22,
     "metadata": {},
     "output_type": "execute_result"
    }
   ],
   "source": [
    "df['Tipe_Mobil'].unique()"
   ]
  },
  {
   "cell_type": "markdown",
   "metadata": {},
   "source": [
    "## Tipe_Mobil\n",
    "- Sedan = 0\n",
    "- Jeep = 1\n",
    "- Bus = 2\n",
    "- PickUp = 3"
   ]
  },
  {
   "cell_type": "code",
   "execution_count": 23,
   "metadata": {},
   "outputs": [],
   "source": [
    "df['Tipe_Mobil'] = df['Tipe_Mobil'].replace({\n",
    "    'Sedan': 0,\n",
    "    'Jeep': 1,\n",
    "    'Bus': 2,\n",
    "    'PickUp': 3\n",
    "})"
   ]
  },
  {
   "cell_type": "code",
   "execution_count": 24,
   "metadata": {},
   "outputs": [],
   "source": [
    "df['Tipe_Mobil'] = df['Tipe_Mobil'].astype(int)"
   ]
  },
  {
   "cell_type": "code",
   "execution_count": 25,
   "metadata": {},
   "outputs": [
    {
     "data": {
      "text/plain": [
       "array([0, 1, 2, 3])"
      ]
     },
     "execution_count": 25,
     "metadata": {},
     "output_type": "execute_result"
    }
   ],
   "source": [
    "df['Tipe_Mobil'].unique()"
   ]
  },
  {
   "cell_type": "code",
   "execution_count": 26,
   "metadata": {},
   "outputs": [
    {
     "data": {
      "text/html": [
       "<div>\n",
       "<style scoped>\n",
       "    .dataframe tbody tr th:only-of-type {\n",
       "        vertical-align: middle;\n",
       "    }\n",
       "\n",
       "    .dataframe tbody tr th {\n",
       "        vertical-align: top;\n",
       "    }\n",
       "\n",
       "    .dataframe thead th {\n",
       "        text-align: right;\n",
       "    }\n",
       "</style>\n",
       "<table border=\"1\" class=\"dataframe\">\n",
       "  <thead>\n",
       "    <tr style=\"text-align: right;\">\n",
       "      <th></th>\n",
       "      <th>Make</th>\n",
       "      <th>Modle</th>\n",
       "      <th>number_of_cylinders</th>\n",
       "      <th>engine_type</th>\n",
       "      <th>engine_hp</th>\n",
       "      <th>engine_hp_rpm</th>\n",
       "      <th>transmission</th>\n",
       "      <th>mixed_fuel_consumption_per_100_km_l</th>\n",
       "      <th>fuel_tank_capacity_l</th>\n",
       "      <th>acceleration_0_100_km/h_s</th>\n",
       "      <th>max_speed_km_per_h</th>\n",
       "      <th>fuel_grade</th>\n",
       "      <th>year</th>\n",
       "      <th>Tipe_Mobil</th>\n",
       "    </tr>\n",
       "  </thead>\n",
       "  <tbody>\n",
       "    <tr>\n",
       "      <th>9</th>\n",
       "      <td>AC</td>\n",
       "      <td>Aceca</td>\n",
       "      <td>8</td>\n",
       "      <td>Gasoline</td>\n",
       "      <td>354.0</td>\n",
       "      <td>6500</td>\n",
       "      <td>Manual</td>\n",
       "      <td>13.4</td>\n",
       "      <td>70</td>\n",
       "      <td>5.6</td>\n",
       "      <td>250</td>\n",
       "      <td>95</td>\n",
       "      <td>2000</td>\n",
       "      <td>0</td>\n",
       "    </tr>\n",
       "    <tr>\n",
       "      <th>11</th>\n",
       "      <td>AC</td>\n",
       "      <td>Aceca</td>\n",
       "      <td>8</td>\n",
       "      <td>Gasoline</td>\n",
       "      <td>326.0</td>\n",
       "      <td>5800</td>\n",
       "      <td>Manual</td>\n",
       "      <td>12.2</td>\n",
       "      <td>70</td>\n",
       "      <td>6.1</td>\n",
       "      <td>250</td>\n",
       "      <td>98</td>\n",
       "      <td>2000</td>\n",
       "      <td>0</td>\n",
       "    </tr>\n",
       "    <tr>\n",
       "      <th>54</th>\n",
       "      <td>Acura</td>\n",
       "      <td>MDX</td>\n",
       "      <td>6</td>\n",
       "      <td>Gasoline</td>\n",
       "      <td>240.0</td>\n",
       "      <td>5750</td>\n",
       "      <td>Automatic</td>\n",
       "      <td>13.2</td>\n",
       "      <td>73</td>\n",
       "      <td>8.7</td>\n",
       "      <td>190</td>\n",
       "      <td>92</td>\n",
       "      <td>2004</td>\n",
       "      <td>1</td>\n",
       "    </tr>\n",
       "    <tr>\n",
       "      <th>60</th>\n",
       "      <td>Acura</td>\n",
       "      <td>MDX</td>\n",
       "      <td>6</td>\n",
       "      <td>Gasoline</td>\n",
       "      <td>290.0</td>\n",
       "      <td>6200</td>\n",
       "      <td>Automatic</td>\n",
       "      <td>10.4</td>\n",
       "      <td>73</td>\n",
       "      <td>7.6</td>\n",
       "      <td>220</td>\n",
       "      <td>95</td>\n",
       "      <td>2016</td>\n",
       "      <td>1</td>\n",
       "    </tr>\n",
       "    <tr>\n",
       "      <th>68</th>\n",
       "      <td>Acura</td>\n",
       "      <td>NSX</td>\n",
       "      <td>6</td>\n",
       "      <td>Gasoline</td>\n",
       "      <td>255.0</td>\n",
       "      <td>6800</td>\n",
       "      <td>Manual</td>\n",
       "      <td>10.0</td>\n",
       "      <td>70</td>\n",
       "      <td>5.0</td>\n",
       "      <td>260</td>\n",
       "      <td>95</td>\n",
       "      <td>2004</td>\n",
       "      <td>0</td>\n",
       "    </tr>\n",
       "    <tr>\n",
       "      <th>...</th>\n",
       "      <td>...</td>\n",
       "      <td>...</td>\n",
       "      <td>...</td>\n",
       "      <td>...</td>\n",
       "      <td>...</td>\n",
       "      <td>...</td>\n",
       "      <td>...</td>\n",
       "      <td>...</td>\n",
       "      <td>...</td>\n",
       "      <td>...</td>\n",
       "      <td>...</td>\n",
       "      <td>...</td>\n",
       "      <td>...</td>\n",
       "      <td>...</td>\n",
       "    </tr>\n",
       "    <tr>\n",
       "      <th>70756</th>\n",
       "      <td>ZAZ</td>\n",
       "      <td>Chance</td>\n",
       "      <td>4</td>\n",
       "      <td>Gasoline</td>\n",
       "      <td>86.0</td>\n",
       "      <td>5800</td>\n",
       "      <td>Manual</td>\n",
       "      <td>6.7</td>\n",
       "      <td>48</td>\n",
       "      <td>12.5</td>\n",
       "      <td>172</td>\n",
       "      <td>92</td>\n",
       "      <td>2014</td>\n",
       "      <td>0</td>\n",
       "    </tr>\n",
       "    <tr>\n",
       "      <th>70764</th>\n",
       "      <td>ZAZ</td>\n",
       "      <td>Sens</td>\n",
       "      <td>4</td>\n",
       "      <td>Gasoline</td>\n",
       "      <td>70.0</td>\n",
       "      <td>5500</td>\n",
       "      <td>Manual</td>\n",
       "      <td>7.2</td>\n",
       "      <td>48</td>\n",
       "      <td>17.0</td>\n",
       "      <td>162</td>\n",
       "      <td>95</td>\n",
       "      <td>2014</td>\n",
       "      <td>0</td>\n",
       "    </tr>\n",
       "    <tr>\n",
       "      <th>70765</th>\n",
       "      <td>ZAZ</td>\n",
       "      <td>Sens</td>\n",
       "      <td>4</td>\n",
       "      <td>Gasoline</td>\n",
       "      <td>70.0</td>\n",
       "      <td>5500</td>\n",
       "      <td>Manual</td>\n",
       "      <td>7.2</td>\n",
       "      <td>48</td>\n",
       "      <td>17.0</td>\n",
       "      <td>162</td>\n",
       "      <td>95</td>\n",
       "      <td>2014</td>\n",
       "      <td>0</td>\n",
       "    </tr>\n",
       "    <tr>\n",
       "      <th>70766</th>\n",
       "      <td>ZAZ</td>\n",
       "      <td>Vida</td>\n",
       "      <td>4</td>\n",
       "      <td>Gasoline</td>\n",
       "      <td>109.0</td>\n",
       "      <td>5600</td>\n",
       "      <td>Manual</td>\n",
       "      <td>7.3</td>\n",
       "      <td>45</td>\n",
       "      <td>11.5</td>\n",
       "      <td>170</td>\n",
       "      <td>95</td>\n",
       "      <td>2016</td>\n",
       "      <td>0</td>\n",
       "    </tr>\n",
       "    <tr>\n",
       "      <th>70767</th>\n",
       "      <td>ZAZ</td>\n",
       "      <td>Vida</td>\n",
       "      <td>4</td>\n",
       "      <td>Gasoline</td>\n",
       "      <td>109.0</td>\n",
       "      <td>5600</td>\n",
       "      <td>Manual</td>\n",
       "      <td>7.8</td>\n",
       "      <td>45</td>\n",
       "      <td>11.5</td>\n",
       "      <td>170</td>\n",
       "      <td>95</td>\n",
       "      <td>2016</td>\n",
       "      <td>0</td>\n",
       "    </tr>\n",
       "  </tbody>\n",
       "</table>\n",
       "<p>21457 rows × 14 columns</p>\n",
       "</div>"
      ],
      "text/plain": [
       "        Make   Modle  number_of_cylinders engine_type  engine_hp  \\\n",
       "9         AC   Aceca                    8    Gasoline      354.0   \n",
       "11        AC   Aceca                    8    Gasoline      326.0   \n",
       "54     Acura     MDX                    6    Gasoline      240.0   \n",
       "60     Acura     MDX                    6    Gasoline      290.0   \n",
       "68     Acura     NSX                    6    Gasoline      255.0   \n",
       "...      ...     ...                  ...         ...        ...   \n",
       "70756    ZAZ  Chance                    4    Gasoline       86.0   \n",
       "70764    ZAZ    Sens                    4    Gasoline       70.0   \n",
       "70765    ZAZ    Sens                    4    Gasoline       70.0   \n",
       "70766    ZAZ    Vida                    4    Gasoline      109.0   \n",
       "70767    ZAZ    Vida                    4    Gasoline      109.0   \n",
       "\n",
       "      engine_hp_rpm transmission  mixed_fuel_consumption_per_100_km_l  \\\n",
       "9              6500       Manual                                 13.4   \n",
       "11             5800       Manual                                 12.2   \n",
       "54             5750    Automatic                                 13.2   \n",
       "60             6200    Automatic                                 10.4   \n",
       "68             6800       Manual                                 10.0   \n",
       "...             ...          ...                                  ...   \n",
       "70756          5800       Manual                                  6.7   \n",
       "70764          5500       Manual                                  7.2   \n",
       "70765          5500       Manual                                  7.2   \n",
       "70766          5600       Manual                                  7.3   \n",
       "70767          5600       Manual                                  7.8   \n",
       "\n",
       "      fuel_tank_capacity_l  acceleration_0_100_km/h_s max_speed_km_per_h  \\\n",
       "9                       70                        5.6                250   \n",
       "11                      70                        6.1                250   \n",
       "54                      73                        8.7                190   \n",
       "60                      73                        7.6                220   \n",
       "68                      70                        5.0                260   \n",
       "...                    ...                        ...                ...   \n",
       "70756                   48                       12.5                172   \n",
       "70764                   48                       17.0                162   \n",
       "70765                   48                       17.0                162   \n",
       "70766                   45                       11.5                170   \n",
       "70767                   45                       11.5                170   \n",
       "\n",
       "      fuel_grade  year  Tipe_Mobil  \n",
       "9             95  2000           0  \n",
       "11            98  2000           0  \n",
       "54            92  2004           1  \n",
       "60            95  2016           1  \n",
       "68            95  2004           0  \n",
       "...          ...   ...         ...  \n",
       "70756         92  2014           0  \n",
       "70764         95  2014           0  \n",
       "70765         95  2014           0  \n",
       "70766         95  2016           0  \n",
       "70767         95  2016           0  \n",
       "\n",
       "[21457 rows x 14 columns]"
      ]
     },
     "execution_count": 26,
     "metadata": {},
     "output_type": "execute_result"
    }
   ],
   "source": [
    "df"
   ]
  },
  {
   "cell_type": "code",
   "execution_count": 27,
   "metadata": {},
   "outputs": [],
   "source": [
    "not_used = ['Hybrid', 'Gasoline, Electric', 'Diesel, Hybrid']\n",
    "df = df[~df['engine_type'].isin(not_used)]"
   ]
  },
  {
   "cell_type": "code",
   "execution_count": 28,
   "metadata": {},
   "outputs": [
    {
     "name": "stderr",
     "output_type": "stream",
     "text": [
      "C:\\Users\\Dinova\\AppData\\Local\\Temp\\ipykernel_2524\\1321999188.py:1: SettingWithCopyWarning: \n",
      "A value is trying to be set on a copy of a slice from a DataFrame.\n",
      "Try using .loc[row_indexer,col_indexer] = value instead\n",
      "\n",
      "See the caveats in the documentation: https://pandas.pydata.org/pandas-docs/stable/user_guide/indexing.html#returning-a-view-versus-a-copy\n",
      "  df['engine_type'] = df['engine_type'].replace({\n"
     ]
    }
   ],
   "source": [
    "df['engine_type'] = df['engine_type'].replace({\n",
    "    'Gasoline, Gas': 'Gasoline',\n",
    "    'Gas': 'Gasoline',\n",
    "})"
   ]
  },
  {
   "cell_type": "code",
   "execution_count": 29,
   "metadata": {},
   "outputs": [
    {
     "data": {
      "text/plain": [
       "array(['Gasoline', 'Diesel'], dtype=object)"
      ]
     },
     "execution_count": 29,
     "metadata": {},
     "output_type": "execute_result"
    }
   ],
   "source": [
    "df['engine_type'].unique()"
   ]
  },
  {
   "cell_type": "markdown",
   "metadata": {},
   "source": [
    "Tipe Bensin\n",
    "- Gasoline = 0\n",
    "- Diesel = 1"
   ]
  },
  {
   "cell_type": "code",
   "execution_count": 30,
   "metadata": {},
   "outputs": [],
   "source": [
    "df.loc[:,'engine_type'] = df['engine_type'].replace({\n",
    "    'Gasoline': 0,\n",
    "    'Diesel': 1,\n",
    "})"
   ]
  },
  {
   "cell_type": "code",
   "execution_count": 31,
   "metadata": {},
   "outputs": [
    {
     "data": {
      "text/plain": [
       "array([0, 1], dtype=object)"
      ]
     },
     "execution_count": 31,
     "metadata": {},
     "output_type": "execute_result"
    }
   ],
   "source": [
    "df['engine_type'].unique()"
   ]
  },
  {
   "cell_type": "code",
   "execution_count": 32,
   "metadata": {},
   "outputs": [
    {
     "name": "stderr",
     "output_type": "stream",
     "text": [
      "C:\\Users\\Dinova\\AppData\\Local\\Temp\\ipykernel_2524\\1707576425.py:1: SettingWithCopyWarning: \n",
      "A value is trying to be set on a copy of a slice from a DataFrame.\n",
      "Try using .loc[row_indexer,col_indexer] = value instead\n",
      "\n",
      "See the caveats in the documentation: https://pandas.pydata.org/pandas-docs/stable/user_guide/indexing.html#returning-a-view-versus-a-copy\n",
      "  df['engine_type'] = df['engine_type'].astype(int)\n"
     ]
    }
   ],
   "source": [
    "df['engine_type'] = df['engine_type'].astype(int)"
   ]
  },
  {
   "cell_type": "code",
   "execution_count": 33,
   "metadata": {},
   "outputs": [
    {
     "name": "stdout",
     "output_type": "stream",
     "text": [
      "<class 'pandas.core.frame.DataFrame'>\n",
      "Index: 21242 entries, 9 to 70767\n",
      "Data columns (total 14 columns):\n",
      " #   Column                               Non-Null Count  Dtype  \n",
      "---  ------                               --------------  -----  \n",
      " 0   Make                                 21242 non-null  object \n",
      " 1   Modle                                21242 non-null  object \n",
      " 2   number_of_cylinders                  21242 non-null  int32  \n",
      " 3   engine_type                          21242 non-null  int32  \n",
      " 4   engine_hp                            21242 non-null  float64\n",
      " 5   engine_hp_rpm                        21242 non-null  object \n",
      " 6   transmission                         21242 non-null  object \n",
      " 7   mixed_fuel_consumption_per_100_km_l  21242 non-null  float64\n",
      " 8   fuel_tank_capacity_l                 21242 non-null  object \n",
      " 9   acceleration_0_100_km/h_s            21242 non-null  float64\n",
      " 10  max_speed_km_per_h                   21242 non-null  object \n",
      " 11  fuel_grade                           21242 non-null  object \n",
      " 12  year                                 21242 non-null  int32  \n",
      " 13  Tipe_Mobil                           21242 non-null  int32  \n",
      "dtypes: float64(3), int32(4), object(7)\n",
      "memory usage: 2.1+ MB\n"
     ]
    }
   ],
   "source": [
    "df.info()"
   ]
  },
  {
   "cell_type": "code",
   "execution_count": 45,
   "metadata": {},
   "outputs": [],
   "source": [
    "not_used1 = ['Ethanol', '80']\n",
    "df = df[~df['fuel_grade'].isin(not_used1)]"
   ]
  },
  {
   "cell_type": "code",
   "execution_count": 46,
   "metadata": {},
   "outputs": [
    {
     "data": {
      "text/plain": [
       "array(['95', '98', '92', 'diesel', '95, 92', '98, 95', 'Gasoline', 'Gas',\n",
       "       '95, Ethanol', '98, 95, 92', '95, Gas', '92, Ethanol',\n",
       "       'Gasoline, Gas', '98, Ethanol', '92, Gas', '98, Gas',\n",
       "       '95, 92, Gas', '98, 95, Gas', '98, 95, 92, Ethanol'], dtype=object)"
      ]
     },
     "execution_count": 46,
     "metadata": {},
     "output_type": "execute_result"
    }
   ],
   "source": [
    "df['fuel_grade'].unique()"
   ]
  },
  {
   "cell_type": "markdown",
   "metadata": {},
   "source": [
    "Octance Number\n",
    "- Diesel = 50 = **0**\n",
    "- Gasoline = Pertalite = 90 = **1**\n",
    "- Pertamax = 92 = **2**\n",
    "- Pertamax Plus = 92 to 98 = **3**"
   ]
  },
  {
   "cell_type": "code",
   "execution_count": 49,
   "metadata": {},
   "outputs": [],
   "source": [
    "df['fuel_grade'] = df['fuel_grade'].replace({\n",
    "    '95': '3',\n",
    "    '92': '2',\n",
    "    '98': '3',\n",
    "    'diesel': '0',\n",
    "    '95, 92': '2',\n",
    "    '98, 95': '3',\n",
    "    'Gasoline': '1',\n",
    "    'Gas': '1',\n",
    "    '95, Ethanol': '3',\n",
    "    '98, 95, 92': '3',\n",
    "    '95, Gas': '3',\n",
    "    '92, Ethanol': '3',\n",
    "    'Gasoline, Gas': '1',\n",
    "    '92, Gas': '2',\n",
    "    '98, Gas': '3',\n",
    "    '95, 92, Gas': '2',\n",
    "    '98, 95, Gas': '3',\n",
    "    '98, 95, 92, Ethanol': '3',\n",
    "    '98, Ethanol': '3'\n",
    "})"
   ]
  },
  {
   "cell_type": "code",
   "execution_count": 50,
   "metadata": {},
   "outputs": [
    {
     "data": {
      "text/plain": [
       "array(['3', '2', '0', '1'], dtype=object)"
      ]
     },
     "execution_count": 50,
     "metadata": {},
     "output_type": "execute_result"
    }
   ],
   "source": [
    "df['fuel_grade'].unique()"
   ]
  },
  {
   "cell_type": "code",
   "execution_count": 51,
   "metadata": {},
   "outputs": [],
   "source": [
    "df['fuel_grade'] = df['fuel_grade'].astype(int)"
   ]
  },
  {
   "cell_type": "code",
   "execution_count": 61,
   "metadata": {},
   "outputs": [],
   "source": [
    "df['max_speed_km_per_h'] = df['max_speed_km_per_h'].str.replace(',', '.').astype(float).astype(int)\n"
   ]
  },
  {
   "cell_type": "code",
   "execution_count": 64,
   "metadata": {},
   "outputs": [],
   "source": [
    "df['max_speed_km_per_h'] = df['max_speed_km_per_h'].astype(int).round()"
   ]
  },
  {
   "cell_type": "code",
   "execution_count": 75,
   "metadata": {},
   "outputs": [],
   "source": [
    "df['fuel_tank_capacity_l'] = df['fuel_tank_capacity_l'].str.replace(',', '.').astype(float).astype(int)"
   ]
  },
  {
   "cell_type": "code",
   "execution_count": 78,
   "metadata": {},
   "outputs": [],
   "source": [
    "df['engine_hp_rpm'] = df['engine_hp_rpm'].astype(int)"
   ]
  },
  {
   "cell_type": "code",
   "execution_count": 81,
   "metadata": {},
   "outputs": [
    {
     "data": {
      "text/plain": [
       "array(['Manual', 'Automatic', 'robot',\n",
       "       'Continuously variable transmission (CVT)'], dtype=object)"
      ]
     },
     "execution_count": 81,
     "metadata": {},
     "output_type": "execute_result"
    }
   ],
   "source": [
    "df['transmission'].unique()"
   ]
  },
  {
   "cell_type": "markdown",
   "metadata": {},
   "source": [
    "Tipe Transmisi\n",
    "- Automatic = 0\n",
    "- Manual = 1"
   ]
  },
  {
   "cell_type": "code",
   "execution_count": 84,
   "metadata": {},
   "outputs": [],
   "source": [
    "not_used2 = ['robot', 'Continuously variable transmission (CVT)']\n",
    "df = df[~df['transmission'].isin(not_used2)]"
   ]
  },
  {
   "cell_type": "code",
   "execution_count": 88,
   "metadata": {},
   "outputs": [],
   "source": [
    "df['transmission'] = df['transmission'].replace({\n",
    "    'Manual': '1',\n",
    "    'Automatic': '0'\n",
    "    })"
   ]
  },
  {
   "cell_type": "code",
   "execution_count": 90,
   "metadata": {},
   "outputs": [],
   "source": [
    "df['transmission'] = df['transmission'].astype(int)"
   ]
  },
  {
   "cell_type": "code",
   "execution_count": 91,
   "metadata": {},
   "outputs": [
    {
     "data": {
      "text/plain": [
       "array([1, 0])"
      ]
     },
     "execution_count": 91,
     "metadata": {},
     "output_type": "execute_result"
    }
   ],
   "source": [
    "df['transmission'].unique()"
   ]
  },
  {
   "cell_type": "code",
   "execution_count": 92,
   "metadata": {},
   "outputs": [
    {
     "name": "stdout",
     "output_type": "stream",
     "text": [
      "<class 'pandas.core.frame.DataFrame'>\n",
      "Index: 18595 entries, 9 to 70767\n",
      "Data columns (total 14 columns):\n",
      " #   Column                               Non-Null Count  Dtype  \n",
      "---  ------                               --------------  -----  \n",
      " 0   Make                                 18595 non-null  object \n",
      " 1   Modle                                18595 non-null  object \n",
      " 2   number_of_cylinders                  18595 non-null  int32  \n",
      " 3   engine_type                          18595 non-null  int32  \n",
      " 4   engine_hp                            18595 non-null  float64\n",
      " 5   engine_hp_rpm                        18595 non-null  int32  \n",
      " 6   transmission                         18595 non-null  int32  \n",
      " 7   mixed_fuel_consumption_per_100_km_l  18595 non-null  float64\n",
      " 8   fuel_tank_capacity_l                 18595 non-null  int32  \n",
      " 9   acceleration_0_100_km/h_s            18595 non-null  float64\n",
      " 10  max_speed_km_per_h                   18595 non-null  int32  \n",
      " 11  fuel_grade                           18595 non-null  int32  \n",
      " 12  year                                 18595 non-null  int32  \n",
      " 13  Tipe_Mobil                           18595 non-null  int32  \n",
      "dtypes: float64(3), int32(9), object(2)\n",
      "memory usage: 1.5+ MB\n"
     ]
    }
   ],
   "source": [
    "df.info()"
   ]
  },
  {
   "cell_type": "code",
   "execution_count": 93,
   "metadata": {},
   "outputs": [
    {
     "data": {
      "text/html": [
       "<div>\n",
       "<style scoped>\n",
       "    .dataframe tbody tr th:only-of-type {\n",
       "        vertical-align: middle;\n",
       "    }\n",
       "\n",
       "    .dataframe tbody tr th {\n",
       "        vertical-align: top;\n",
       "    }\n",
       "\n",
       "    .dataframe thead th {\n",
       "        text-align: right;\n",
       "    }\n",
       "</style>\n",
       "<table border=\"1\" class=\"dataframe\">\n",
       "  <thead>\n",
       "    <tr style=\"text-align: right;\">\n",
       "      <th></th>\n",
       "      <th>Make</th>\n",
       "      <th>Modle</th>\n",
       "      <th>number_of_cylinders</th>\n",
       "      <th>engine_type</th>\n",
       "      <th>engine_hp</th>\n",
       "      <th>engine_hp_rpm</th>\n",
       "      <th>transmission</th>\n",
       "      <th>mixed_fuel_consumption_per_100_km_l</th>\n",
       "      <th>fuel_tank_capacity_l</th>\n",
       "      <th>acceleration_0_100_km/h_s</th>\n",
       "      <th>max_speed_km_per_h</th>\n",
       "      <th>fuel_grade</th>\n",
       "      <th>year</th>\n",
       "      <th>Tipe_Mobil</th>\n",
       "    </tr>\n",
       "  </thead>\n",
       "  <tbody>\n",
       "    <tr>\n",
       "      <th>9</th>\n",
       "      <td>AC</td>\n",
       "      <td>Aceca</td>\n",
       "      <td>8</td>\n",
       "      <td>0</td>\n",
       "      <td>354.0</td>\n",
       "      <td>6500</td>\n",
       "      <td>1</td>\n",
       "      <td>13.4</td>\n",
       "      <td>70</td>\n",
       "      <td>5.6</td>\n",
       "      <td>250</td>\n",
       "      <td>3</td>\n",
       "      <td>2000</td>\n",
       "      <td>0</td>\n",
       "    </tr>\n",
       "    <tr>\n",
       "      <th>11</th>\n",
       "      <td>AC</td>\n",
       "      <td>Aceca</td>\n",
       "      <td>8</td>\n",
       "      <td>0</td>\n",
       "      <td>326.0</td>\n",
       "      <td>5800</td>\n",
       "      <td>1</td>\n",
       "      <td>12.2</td>\n",
       "      <td>70</td>\n",
       "      <td>6.1</td>\n",
       "      <td>250</td>\n",
       "      <td>3</td>\n",
       "      <td>2000</td>\n",
       "      <td>0</td>\n",
       "    </tr>\n",
       "    <tr>\n",
       "      <th>54</th>\n",
       "      <td>Acura</td>\n",
       "      <td>MDX</td>\n",
       "      <td>6</td>\n",
       "      <td>0</td>\n",
       "      <td>240.0</td>\n",
       "      <td>5750</td>\n",
       "      <td>0</td>\n",
       "      <td>13.2</td>\n",
       "      <td>73</td>\n",
       "      <td>8.7</td>\n",
       "      <td>190</td>\n",
       "      <td>2</td>\n",
       "      <td>2004</td>\n",
       "      <td>1</td>\n",
       "    </tr>\n",
       "    <tr>\n",
       "      <th>60</th>\n",
       "      <td>Acura</td>\n",
       "      <td>MDX</td>\n",
       "      <td>6</td>\n",
       "      <td>0</td>\n",
       "      <td>290.0</td>\n",
       "      <td>6200</td>\n",
       "      <td>0</td>\n",
       "      <td>10.4</td>\n",
       "      <td>73</td>\n",
       "      <td>7.6</td>\n",
       "      <td>220</td>\n",
       "      <td>3</td>\n",
       "      <td>2016</td>\n",
       "      <td>1</td>\n",
       "    </tr>\n",
       "    <tr>\n",
       "      <th>68</th>\n",
       "      <td>Acura</td>\n",
       "      <td>NSX</td>\n",
       "      <td>6</td>\n",
       "      <td>0</td>\n",
       "      <td>255.0</td>\n",
       "      <td>6800</td>\n",
       "      <td>1</td>\n",
       "      <td>10.0</td>\n",
       "      <td>70</td>\n",
       "      <td>5.0</td>\n",
       "      <td>260</td>\n",
       "      <td>3</td>\n",
       "      <td>2004</td>\n",
       "      <td>0</td>\n",
       "    </tr>\n",
       "    <tr>\n",
       "      <th>...</th>\n",
       "      <td>...</td>\n",
       "      <td>...</td>\n",
       "      <td>...</td>\n",
       "      <td>...</td>\n",
       "      <td>...</td>\n",
       "      <td>...</td>\n",
       "      <td>...</td>\n",
       "      <td>...</td>\n",
       "      <td>...</td>\n",
       "      <td>...</td>\n",
       "      <td>...</td>\n",
       "      <td>...</td>\n",
       "      <td>...</td>\n",
       "      <td>...</td>\n",
       "    </tr>\n",
       "    <tr>\n",
       "      <th>70756</th>\n",
       "      <td>ZAZ</td>\n",
       "      <td>Chance</td>\n",
       "      <td>4</td>\n",
       "      <td>0</td>\n",
       "      <td>86.0</td>\n",
       "      <td>5800</td>\n",
       "      <td>1</td>\n",
       "      <td>6.7</td>\n",
       "      <td>48</td>\n",
       "      <td>12.5</td>\n",
       "      <td>172</td>\n",
       "      <td>2</td>\n",
       "      <td>2014</td>\n",
       "      <td>0</td>\n",
       "    </tr>\n",
       "    <tr>\n",
       "      <th>70764</th>\n",
       "      <td>ZAZ</td>\n",
       "      <td>Sens</td>\n",
       "      <td>4</td>\n",
       "      <td>0</td>\n",
       "      <td>70.0</td>\n",
       "      <td>5500</td>\n",
       "      <td>1</td>\n",
       "      <td>7.2</td>\n",
       "      <td>48</td>\n",
       "      <td>17.0</td>\n",
       "      <td>162</td>\n",
       "      <td>3</td>\n",
       "      <td>2014</td>\n",
       "      <td>0</td>\n",
       "    </tr>\n",
       "    <tr>\n",
       "      <th>70765</th>\n",
       "      <td>ZAZ</td>\n",
       "      <td>Sens</td>\n",
       "      <td>4</td>\n",
       "      <td>0</td>\n",
       "      <td>70.0</td>\n",
       "      <td>5500</td>\n",
       "      <td>1</td>\n",
       "      <td>7.2</td>\n",
       "      <td>48</td>\n",
       "      <td>17.0</td>\n",
       "      <td>162</td>\n",
       "      <td>3</td>\n",
       "      <td>2014</td>\n",
       "      <td>0</td>\n",
       "    </tr>\n",
       "    <tr>\n",
       "      <th>70766</th>\n",
       "      <td>ZAZ</td>\n",
       "      <td>Vida</td>\n",
       "      <td>4</td>\n",
       "      <td>0</td>\n",
       "      <td>109.0</td>\n",
       "      <td>5600</td>\n",
       "      <td>1</td>\n",
       "      <td>7.3</td>\n",
       "      <td>45</td>\n",
       "      <td>11.5</td>\n",
       "      <td>170</td>\n",
       "      <td>3</td>\n",
       "      <td>2016</td>\n",
       "      <td>0</td>\n",
       "    </tr>\n",
       "    <tr>\n",
       "      <th>70767</th>\n",
       "      <td>ZAZ</td>\n",
       "      <td>Vida</td>\n",
       "      <td>4</td>\n",
       "      <td>0</td>\n",
       "      <td>109.0</td>\n",
       "      <td>5600</td>\n",
       "      <td>1</td>\n",
       "      <td>7.8</td>\n",
       "      <td>45</td>\n",
       "      <td>11.5</td>\n",
       "      <td>170</td>\n",
       "      <td>3</td>\n",
       "      <td>2016</td>\n",
       "      <td>0</td>\n",
       "    </tr>\n",
       "  </tbody>\n",
       "</table>\n",
       "<p>18595 rows × 14 columns</p>\n",
       "</div>"
      ],
      "text/plain": [
       "        Make   Modle  number_of_cylinders  engine_type  engine_hp  \\\n",
       "9         AC   Aceca                    8            0      354.0   \n",
       "11        AC   Aceca                    8            0      326.0   \n",
       "54     Acura     MDX                    6            0      240.0   \n",
       "60     Acura     MDX                    6            0      290.0   \n",
       "68     Acura     NSX                    6            0      255.0   \n",
       "...      ...     ...                  ...          ...        ...   \n",
       "70756    ZAZ  Chance                    4            0       86.0   \n",
       "70764    ZAZ    Sens                    4            0       70.0   \n",
       "70765    ZAZ    Sens                    4            0       70.0   \n",
       "70766    ZAZ    Vida                    4            0      109.0   \n",
       "70767    ZAZ    Vida                    4            0      109.0   \n",
       "\n",
       "       engine_hp_rpm  transmission  mixed_fuel_consumption_per_100_km_l  \\\n",
       "9               6500             1                                 13.4   \n",
       "11              5800             1                                 12.2   \n",
       "54              5750             0                                 13.2   \n",
       "60              6200             0                                 10.4   \n",
       "68              6800             1                                 10.0   \n",
       "...              ...           ...                                  ...   \n",
       "70756           5800             1                                  6.7   \n",
       "70764           5500             1                                  7.2   \n",
       "70765           5500             1                                  7.2   \n",
       "70766           5600             1                                  7.3   \n",
       "70767           5600             1                                  7.8   \n",
       "\n",
       "       fuel_tank_capacity_l  acceleration_0_100_km/h_s  max_speed_km_per_h  \\\n",
       "9                        70                        5.6                 250   \n",
       "11                       70                        6.1                 250   \n",
       "54                       73                        8.7                 190   \n",
       "60                       73                        7.6                 220   \n",
       "68                       70                        5.0                 260   \n",
       "...                     ...                        ...                 ...   \n",
       "70756                    48                       12.5                 172   \n",
       "70764                    48                       17.0                 162   \n",
       "70765                    48                       17.0                 162   \n",
       "70766                    45                       11.5                 170   \n",
       "70767                    45                       11.5                 170   \n",
       "\n",
       "       fuel_grade  year  Tipe_Mobil  \n",
       "9               3  2000           0  \n",
       "11              3  2000           0  \n",
       "54              2  2004           1  \n",
       "60              3  2016           1  \n",
       "68              3  2004           0  \n",
       "...           ...   ...         ...  \n",
       "70756           2  2014           0  \n",
       "70764           3  2014           0  \n",
       "70765           3  2014           0  \n",
       "70766           3  2016           0  \n",
       "70767           3  2016           0  \n",
       "\n",
       "[18595 rows x 14 columns]"
      ]
     },
     "execution_count": 93,
     "metadata": {},
     "output_type": "execute_result"
    }
   ],
   "source": [
    "df"
   ]
  }
 ],
 "metadata": {
  "kernelspec": {
   "display_name": "Python 3",
   "language": "python",
   "name": "python3"
  },
  "language_info": {
   "codemirror_mode": {
    "name": "ipython",
    "version": 3
   },
   "file_extension": ".py",
   "mimetype": "text/x-python",
   "name": "python",
   "nbconvert_exporter": "python",
   "pygments_lexer": "ipython3",
   "version": "3.9.13"
  }
 },
 "nbformat": 4,
 "nbformat_minor": 2
}
