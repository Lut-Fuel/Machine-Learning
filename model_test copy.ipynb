{
 "cells": [
  {
   "cell_type": "code",
   "execution_count": 1,
   "metadata": {},
   "outputs": [],
   "source": [
    "import pandas as pd\n",
    "import numpy as np\n",
    "import tensorflow as tf\n",
    "from sklearn.model_selection import train_test_split\n",
    "from sklearn.preprocessing import StandardScaler\n",
    "from keras.callbacks import EarlyStopping"
   ]
  },
  {
   "cell_type": "code",
   "execution_count": 2,
   "metadata": {},
   "outputs": [
    {
     "data": {
      "text/plain": [
       "Index(['Maker', 'Model', 'Number_of_Cylinders', 'Engine_Type',\n",
       "       'Engine_Horse_Power', 'Engine_Horse_Power_RPM', 'Transmission',\n",
       "       'Mixed_Fuel_Consumption_per_100_km_l', 'Fuel_Tank_Capacity',\n",
       "       'Acceleration_0_to_100_Km', 'Max_Speed_Km_per_Hour', 'Fuel_Grade',\n",
       "       'Year', 'Type_of_Car'],\n",
       "      dtype='object')"
      ]
     },
     "execution_count": 2,
     "metadata": {},
     "output_type": "execute_result"
    }
   ],
   "source": [
    "df = pd.read_csv('Dataset/dataset_cleaned1.csv', low_memory=False)\n",
    "df.columns"
   ]
  },
  {
   "cell_type": "code",
   "execution_count": 3,
   "metadata": {},
   "outputs": [],
   "source": [
    "# Assuming 'Mixed_Fuel_Consumption_per_100_km_l' is the target variable\n",
    "y = df['Mixed_Fuel_Consumption_per_100_km_l']\n",
    "\n",
    "# Select specific columns as input features\n",
    "selected_columns = ['Number_of_Cylinders',\n",
    "                    'Engine_Type',\n",
    "                    'Engine_Horse_Power',\n",
    "                    'Engine_Horse_Power_RPM',\n",
    "                    'Transmission',\n",
    "                    'Acceleration_0_to_100_Km',\n",
    "                    'Fuel_Grade']\n",
    "\n",
    "X = df[selected_columns]\n",
    "\n",
    "# Split the data into training and testing sets\n",
    "X_train, X_test, y_train, y_test = train_test_split(X, y, test_size=0.2, random_state=42)\n",
    "\n",
    "# Standardize the data\n",
    "scaler = StandardScaler()\n",
    "X_train_scaled = scaler.fit_transform(X_train)\n",
    "X_test_scaled = scaler.transform(X_test)"
   ]
  },
  {
   "cell_type": "code",
   "execution_count": 4,
   "metadata": {},
   "outputs": [
    {
     "name": "stdout",
     "output_type": "stream",
     "text": [
      "Epoch 1/50\n",
      "372/372 [==============================] - 2s 4ms/step - loss: 9.6401 - mae: 2.1301 - val_loss: 2.8149 - val_mae: 1.2607\n",
      "Epoch 2/50\n",
      "372/372 [==============================] - 1s 3ms/step - loss: 2.3528 - mae: 1.1476 - val_loss: 1.9695 - val_mae: 1.0419\n",
      "Epoch 3/50\n",
      "372/372 [==============================] - 1s 3ms/step - loss: 1.7431 - mae: 0.9771 - val_loss: 1.6404 - val_mae: 0.9328\n",
      "Epoch 4/50\n",
      "372/372 [==============================] - 1s 3ms/step - loss: 1.5308 - mae: 0.9083 - val_loss: 1.5027 - val_mae: 0.8936\n",
      "Epoch 5/50\n",
      "372/372 [==============================] - 1s 3ms/step - loss: 1.4497 - mae: 0.8833 - val_loss: 1.4469 - val_mae: 0.8862\n",
      "Epoch 6/50\n",
      "372/372 [==============================] - 1s 3ms/step - loss: 1.4162 - mae: 0.8728 - val_loss: 1.4157 - val_mae: 0.8684\n",
      "Epoch 7/50\n",
      "372/372 [==============================] - 1s 3ms/step - loss: 1.3917 - mae: 0.8665 - val_loss: 1.3786 - val_mae: 0.8568\n",
      "Epoch 8/50\n",
      "372/372 [==============================] - 1s 3ms/step - loss: 1.3651 - mae: 0.8578 - val_loss: 1.3969 - val_mae: 0.8565\n",
      "Epoch 9/50\n",
      "372/372 [==============================] - 1s 3ms/step - loss: 1.3426 - mae: 0.8511 - val_loss: 1.4032 - val_mae: 0.8629\n",
      "Epoch 10/50\n",
      "372/372 [==============================] - 1s 3ms/step - loss: 1.3383 - mae: 0.8493 - val_loss: 1.3525 - val_mae: 0.8516\n",
      "Epoch 11/50\n",
      "372/372 [==============================] - 1s 3ms/step - loss: 1.3155 - mae: 0.8422 - val_loss: 1.3540 - val_mae: 0.8486\n",
      "Epoch 12/50\n",
      "372/372 [==============================] - 1s 3ms/step - loss: 1.3068 - mae: 0.8415 - val_loss: 1.2994 - val_mae: 0.8445\n",
      "Epoch 13/50\n",
      "372/372 [==============================] - 1s 3ms/step - loss: 1.2989 - mae: 0.8362 - val_loss: 1.3312 - val_mae: 0.8431\n",
      "Epoch 14/50\n",
      "372/372 [==============================] - 1s 3ms/step - loss: 1.2960 - mae: 0.8381 - val_loss: 1.3108 - val_mae: 0.8349\n",
      "Epoch 15/50\n",
      "372/372 [==============================] - 1s 3ms/step - loss: 1.2977 - mae: 0.8367 - val_loss: 1.2794 - val_mae: 0.8349\n",
      "Epoch 16/50\n",
      "372/372 [==============================] - 1s 3ms/step - loss: 1.2828 - mae: 0.8356 - val_loss: 1.2849 - val_mae: 0.8257\n",
      "Epoch 17/50\n",
      "372/372 [==============================] - 1s 3ms/step - loss: 1.2763 - mae: 0.8320 - val_loss: 1.3043 - val_mae: 0.8489\n",
      "Epoch 18/50\n",
      "372/372 [==============================] - 1s 3ms/step - loss: 1.2664 - mae: 0.8272 - val_loss: 1.3383 - val_mae: 0.8448\n",
      "Epoch 19/50\n",
      "372/372 [==============================] - 1s 3ms/step - loss: 1.2759 - mae: 0.8303 - val_loss: 1.3529 - val_mae: 0.8831\n",
      "Epoch 20/50\n",
      "372/372 [==============================] - 1s 4ms/step - loss: 1.2687 - mae: 0.8275 - val_loss: 1.3095 - val_mae: 0.8360\n",
      "Epoch 21/50\n",
      "372/372 [==============================] - 1s 4ms/step - loss: 1.2553 - mae: 0.8238 - val_loss: 1.2940 - val_mae: 0.8405\n",
      "Epoch 22/50\n",
      "372/372 [==============================] - 1s 3ms/step - loss: 1.2553 - mae: 0.8243 - val_loss: 1.2633 - val_mae: 0.8328\n",
      "Epoch 23/50\n",
      "372/372 [==============================] - 1s 3ms/step - loss: 1.2592 - mae: 0.8250 - val_loss: 1.2453 - val_mae: 0.8202\n",
      "Epoch 24/50\n",
      "372/372 [==============================] - 1s 3ms/step - loss: 1.2480 - mae: 0.8198 - val_loss: 1.3933 - val_mae: 0.8519\n",
      "Epoch 25/50\n",
      "372/372 [==============================] - 1s 3ms/step - loss: 1.2417 - mae: 0.8198 - val_loss: 1.2599 - val_mae: 0.8287\n",
      "Epoch 26/50\n",
      "372/372 [==============================] - 1s 3ms/step - loss: 1.2489 - mae: 0.8198 - val_loss: 1.2515 - val_mae: 0.8252\n",
      "Epoch 27/50\n",
      "372/372 [==============================] - 1s 3ms/step - loss: 1.2257 - mae: 0.8114 - val_loss: 1.2555 - val_mae: 0.8217\n",
      "Epoch 28/50\n",
      "372/372 [==============================] - 1s 3ms/step - loss: 1.2395 - mae: 0.8168 - val_loss: 1.2226 - val_mae: 0.8141\n",
      "Epoch 29/50\n",
      "372/372 [==============================] - 1s 4ms/step - loss: 1.2299 - mae: 0.8161 - val_loss: 1.2882 - val_mae: 0.8498\n",
      "Epoch 30/50\n",
      "372/372 [==============================] - 1s 4ms/step - loss: 1.2265 - mae: 0.8167 - val_loss: 1.3402 - val_mae: 0.8376\n",
      "Epoch 31/50\n",
      "372/372 [==============================] - 1s 3ms/step - loss: 1.2241 - mae: 0.8134 - val_loss: 1.2662 - val_mae: 0.8302\n",
      "Epoch 32/50\n",
      "372/372 [==============================] - 1s 3ms/step - loss: 1.2209 - mae: 0.8140 - val_loss: 1.2664 - val_mae: 0.8362\n",
      "Epoch 33/50\n",
      "372/372 [==============================] - 1s 3ms/step - loss: 1.2087 - mae: 0.8064 - val_loss: 1.2452 - val_mae: 0.8254\n",
      "Epoch 34/50\n",
      "372/372 [==============================] - 1s 4ms/step - loss: 1.2146 - mae: 0.8092 - val_loss: 1.2235 - val_mae: 0.8211\n",
      "Epoch 35/50\n",
      "372/372 [==============================] - 1s 3ms/step - loss: 1.2110 - mae: 0.8089 - val_loss: 1.2272 - val_mae: 0.8180\n",
      "Epoch 36/50\n",
      "372/372 [==============================] - 1s 4ms/step - loss: 1.2177 - mae: 0.8115 - val_loss: 1.2096 - val_mae: 0.8076\n",
      "Epoch 37/50\n",
      "372/372 [==============================] - 1s 3ms/step - loss: 1.2147 - mae: 0.8146 - val_loss: 1.2231 - val_mae: 0.8160\n",
      "Epoch 38/50\n",
      "372/372 [==============================] - 1s 3ms/step - loss: 1.1977 - mae: 0.8051 - val_loss: 1.2497 - val_mae: 0.8341\n",
      "Epoch 39/50\n",
      "372/372 [==============================] - 1s 3ms/step - loss: 1.2002 - mae: 0.8081 - val_loss: 1.2022 - val_mae: 0.8064\n",
      "Epoch 40/50\n",
      "372/372 [==============================] - 1s 3ms/step - loss: 1.2010 - mae: 0.8065 - val_loss: 1.2521 - val_mae: 0.8230\n",
      "Epoch 41/50\n",
      "372/372 [==============================] - 1s 3ms/step - loss: 1.1991 - mae: 0.8055 - val_loss: 1.2297 - val_mae: 0.8175\n",
      "Epoch 42/50\n",
      "372/372 [==============================] - 1s 3ms/step - loss: 1.1995 - mae: 0.8061 - val_loss: 1.2498 - val_mae: 0.8184\n",
      "Epoch 43/50\n",
      "372/372 [==============================] - 1s 3ms/step - loss: 1.1976 - mae: 0.8047 - val_loss: 1.2436 - val_mae: 0.8188\n",
      "Epoch 44/50\n",
      "372/372 [==============================] - 1s 3ms/step - loss: 1.1904 - mae: 0.8023 - val_loss: 1.2066 - val_mae: 0.8088\n",
      "Epoch 45/50\n",
      "372/372 [==============================] - 1s 3ms/step - loss: 1.1963 - mae: 0.8051 - val_loss: 1.2077 - val_mae: 0.8153\n",
      "Epoch 46/50\n",
      "372/372 [==============================] - 1s 4ms/step - loss: 1.1953 - mae: 0.8050 - val_loss: 1.2168 - val_mae: 0.8153\n",
      "Epoch 47/50\n",
      "372/372 [==============================] - 1s 4ms/step - loss: 1.1910 - mae: 0.8027 - val_loss: 1.1976 - val_mae: 0.8104\n",
      "Epoch 48/50\n",
      "372/372 [==============================] - 1s 4ms/step - loss: 1.1902 - mae: 0.8016 - val_loss: 1.2532 - val_mae: 0.8145\n",
      "Epoch 49/50\n",
      "372/372 [==============================] - 1s 4ms/step - loss: 1.1927 - mae: 0.8024 - val_loss: 1.2393 - val_mae: 0.8333\n",
      "Epoch 50/50\n",
      "372/372 [==============================] - 1s 4ms/step - loss: 1.1902 - mae: 0.8043 - val_loss: 1.2194 - val_mae: 0.8154\n"
     ]
    }
   ],
   "source": [
    "# Build the TensorFlow Model\n",
    "model = tf.keras.Sequential([\n",
    "    tf.keras.layers.Dense(64, activation='relu', input_shape=(X_train_scaled.shape[1],)),\n",
    "    tf.keras.layers.Dense(32, activation='relu'),\n",
    "    tf.keras.layers.Dense(1)  # Assuming a regression problem\n",
    "])\n",
    "\n",
    "# Compile the model\n",
    "model.compile(optimizer='adam', loss='mean_squared_error', metrics=['mae'])  # Add 'mae' as a metric\n",
    "early_stopping = EarlyStopping(monitor='val_loss', patience=10, restore_best_weights=True)\n",
    "\n",
    "# Train the model\n",
    "history = model.fit(X_train_scaled, y_train, epochs=50, batch_size=32, \n",
    "                    validation_split=0.2, callbacks=[early_stopping])"
   ]
  },
  {
   "cell_type": "code",
   "execution_count": 5,
   "metadata": {},
   "outputs": [
    {
     "name": "stdout",
     "output_type": "stream",
     "text": [
      "117/117 [==============================] - 0s 2ms/step - loss: 1.2467 - mae: 0.8225\n",
      "Mean Squared Error on Test Set: 1.2467138767242432\n",
      "Mean Absolute Error on Test Set: 0.8225128650665283\n"
     ]
    }
   ],
   "source": [
    "# Evaluate the model on the test set\n",
    "loss, mae = model.evaluate(X_test_scaled, y_test)\n",
    "print(f'Mean Squared Error on Test Set: {loss}')\n",
    "print(f'Mean Absolute Error on Test Set: {mae}')"
   ]
  },
  {
   "cell_type": "code",
   "execution_count": 6,
   "metadata": {},
   "outputs": [
    {
     "data": {
      "text/plain": [
       "['scaler_dinova.joblib']"
      ]
     },
     "execution_count": 6,
     "metadata": {},
     "output_type": "execute_result"
    }
   ],
   "source": [
    "import joblib\n",
    "\n",
    "# Save the model to an HDF5 file\n",
    "model.save('model_dinova1.h5')\n",
    "\n",
    "# Save the scaler to a joblib file\n",
    "joblib.dump(scaler, 'scaler_dinova.joblib')"
   ]
  }
 ],
 "metadata": {
  "kernelspec": {
   "display_name": "Python 3",
   "language": "python",
   "name": "python3"
  },
  "language_info": {
   "codemirror_mode": {
    "name": "ipython",
    "version": 3
   },
   "file_extension": ".py",
   "mimetype": "text/x-python",
   "name": "python",
   "nbconvert_exporter": "python",
   "pygments_lexer": "ipython3",
   "version": "3.9.13"
  }
 },
 "nbformat": 4,
 "nbformat_minor": 2
}
