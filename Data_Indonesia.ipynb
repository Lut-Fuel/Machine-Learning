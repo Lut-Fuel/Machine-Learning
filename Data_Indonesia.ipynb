{
 "cells": [
  {
   "cell_type": "code",
   "execution_count": 1,
   "metadata": {},
   "outputs": [],
   "source": [
    "import pandas as pd"
   ]
  },
  {
   "cell_type": "code",
   "execution_count": 2,
   "metadata": {},
   "outputs": [
    {
     "data": {
      "text/html": [
       "<div>\n",
       "<style scoped>\n",
       "    .dataframe tbody tr th:only-of-type {\n",
       "        vertical-align: middle;\n",
       "    }\n",
       "\n",
       "    .dataframe tbody tr th {\n",
       "        vertical-align: top;\n",
       "    }\n",
       "\n",
       "    .dataframe thead th {\n",
       "        text-align: right;\n",
       "    }\n",
       "</style>\n",
       "<table border=\"1\" class=\"dataframe\">\n",
       "  <thead>\n",
       "    <tr style=\"text-align: right;\">\n",
       "      <th></th>\n",
       "      <th>Maker</th>\n",
       "      <th>Model</th>\n",
       "      <th>Number of Cylinders</th>\n",
       "      <th>Engine Type</th>\n",
       "      <th>Engine Horse Power</th>\n",
       "      <th>Engine Horse Power RPM</th>\n",
       "      <th>Transmission</th>\n",
       "      <th>Mixed Fuel Consumption per Km</th>\n",
       "      <th>Fuel Tank Capacity</th>\n",
       "      <th>Acceleration 0 to 100 Km</th>\n",
       "      <th>Max Speed Km per Hour</th>\n",
       "      <th>Fuel Grade (in Octane)</th>\n",
       "      <th>Year</th>\n",
       "      <th>Type of Car</th>\n",
       "    </tr>\n",
       "  </thead>\n",
       "  <tbody>\n",
       "    <tr>\n",
       "      <th>0</th>\n",
       "      <td>Audi</td>\n",
       "      <td>A3</td>\n",
       "      <td>4.0</td>\n",
       "      <td>Turbocharged Gasoline Direct Injection</td>\n",
       "      <td>224</td>\n",
       "      <td>5000.0</td>\n",
       "      <td>7-speed dual clutch</td>\n",
       "      <td>6.2 L/100 km</td>\n",
       "      <td>50 L</td>\n",
       "      <td>6.2 s</td>\n",
       "      <td>250</td>\n",
       "      <td>95.0</td>\n",
       "      <td>2021</td>\n",
       "      <td>Hatchback</td>\n",
       "    </tr>\n",
       "    <tr>\n",
       "      <th>1</th>\n",
       "      <td>Audi</td>\n",
       "      <td>A3 Hybrid</td>\n",
       "      <td>4.0</td>\n",
       "      <td>Turbocharged Gasoline Direct Injection</td>\n",
       "      <td>224</td>\n",
       "      <td>5000.0</td>\n",
       "      <td>8-speed dual clutch</td>\n",
       "      <td>1.9 L/100 km</td>\n",
       "      <td>36 L</td>\n",
       "      <td>6.7 s</td>\n",
       "      <td>235</td>\n",
       "      <td>95.0</td>\n",
       "      <td>2021</td>\n",
       "      <td>Hatchback</td>\n",
       "    </tr>\n",
       "    <tr>\n",
       "      <th>2</th>\n",
       "      <td>Audi</td>\n",
       "      <td>A4</td>\n",
       "      <td>4.0</td>\n",
       "      <td>Turbocharged Gasoline Direct Injection</td>\n",
       "      <td>258</td>\n",
       "      <td>5000.0</td>\n",
       "      <td>8-speed automatic</td>\n",
       "      <td>6.4 L/100 km</td>\n",
       "      <td>59 L</td>\n",
       "      <td>5.8 s</td>\n",
       "      <td>250</td>\n",
       "      <td>95.0</td>\n",
       "      <td>2021</td>\n",
       "      <td>Sedan</td>\n",
       "    </tr>\n",
       "    <tr>\n",
       "      <th>3</th>\n",
       "      <td>Audi</td>\n",
       "      <td>A4 Hybrid</td>\n",
       "      <td>4.0</td>\n",
       "      <td>Turbocharged Gasoline Direct Injection</td>\n",
       "      <td>292</td>\n",
       "      <td>5000.0</td>\n",
       "      <td>8-speed automatic</td>\n",
       "      <td>1.7 L/100 km</td>\n",
       "      <td>40 L</td>\n",
       "      <td>5.9 s</td>\n",
       "      <td>230</td>\n",
       "      <td>95.0</td>\n",
       "      <td>2021</td>\n",
       "      <td>Sedan</td>\n",
       "    </tr>\n",
       "    <tr>\n",
       "      <th>4</th>\n",
       "      <td>Audi</td>\n",
       "      <td>A5</td>\n",
       "      <td>4.0</td>\n",
       "      <td>Turbocharged Gasoline Direct Injection</td>\n",
       "      <td>374</td>\n",
       "      <td>5500.0</td>\n",
       "      <td>8-speed automatic</td>\n",
       "      <td>7.8 L/100 km</td>\n",
       "      <td>59 L</td>\n",
       "      <td>4.1 s</td>\n",
       "      <td>250</td>\n",
       "      <td>95.0</td>\n",
       "      <td>2021</td>\n",
       "      <td>Coupe</td>\n",
       "    </tr>\n",
       "  </tbody>\n",
       "</table>\n",
       "</div>"
      ],
      "text/plain": [
       "  Maker      Model Number of Cylinders  \\\n",
       "0  Audi         A3                 4.0   \n",
       "1  Audi  A3 Hybrid                 4.0   \n",
       "2  Audi         A4                 4.0   \n",
       "3  Audi  A4 Hybrid                 4.0   \n",
       "4  Audi         A5                 4.0   \n",
       "\n",
       "                              Engine Type Engine Horse Power  \\\n",
       "0  Turbocharged Gasoline Direct Injection                224   \n",
       "1  Turbocharged Gasoline Direct Injection                224   \n",
       "2  Turbocharged Gasoline Direct Injection                258   \n",
       "3  Turbocharged Gasoline Direct Injection                292   \n",
       "4  Turbocharged Gasoline Direct Injection                374   \n",
       "\n",
       "  Engine Horse Power RPM         Transmission Mixed Fuel Consumption per Km  \\\n",
       "0                 5000.0  7-speed dual clutch                  6.2 L/100 km   \n",
       "1                 5000.0  8-speed dual clutch                  1.9 L/100 km   \n",
       "2                 5000.0    8-speed automatic                  6.4 L/100 km   \n",
       "3                 5000.0    8-speed automatic                  1.7 L/100 km   \n",
       "4                 5500.0    8-speed automatic                  7.8 L/100 km   \n",
       "\n",
       "  Fuel Tank Capacity Acceleration 0 to 100 Km Max Speed Km per Hour  \\\n",
       "0               50 L                    6.2 s                   250   \n",
       "1               36 L                    6.7 s                   235   \n",
       "2               59 L                    5.8 s                   250   \n",
       "3               40 L                    5.9 s                   230   \n",
       "4               59 L                    4.1 s                   250   \n",
       "\n",
       "  Fuel Grade (in Octane)  Year Type of Car  \n",
       "0                   95.0  2021   Hatchback  \n",
       "1                   95.0  2021   Hatchback  \n",
       "2                   95.0  2021       Sedan  \n",
       "3                   95.0  2021       Sedan  \n",
       "4                   95.0  2021       Coupe  "
      ]
     },
     "execution_count": 2,
     "metadata": {},
     "output_type": "execute_result"
    }
   ],
   "source": [
    "df = pd.read_csv('Dataset/Mobil Indonesia.csv')\n",
    "df.head(5)"
   ]
  },
  {
   "cell_type": "code",
   "execution_count": 3,
   "metadata": {},
   "outputs": [
    {
     "name": "stdout",
     "output_type": "stream",
     "text": [
      "<class 'pandas.core.frame.DataFrame'>\n",
      "RangeIndex: 265 entries, 0 to 264\n",
      "Data columns (total 14 columns):\n",
      " #   Column                         Non-Null Count  Dtype \n",
      "---  ------                         --------------  ----- \n",
      " 0   Maker                          265 non-null    object\n",
      " 1   Model                          265 non-null    object\n",
      " 2   Number of Cylinders            206 non-null    object\n",
      " 3   Engine Type                    265 non-null    object\n",
      " 4   Engine Horse Power             262 non-null    object\n",
      " 5   Engine Horse Power RPM         205 non-null    object\n",
      " 6   Transmission                   262 non-null    object\n",
      " 7   Mixed Fuel Consumption per Km  216 non-null    object\n",
      " 8   Fuel Tank Capacity             262 non-null    object\n",
      " 9   Acceleration 0 to 100 Km       262 non-null    object\n",
      " 10  Max Speed Km per Hour          262 non-null    object\n",
      " 11  Fuel Grade (in Octane)         206 non-null    object\n",
      " 12  Year                           265 non-null    int64 \n",
      " 13  Type of Car                    265 non-null    object\n",
      "dtypes: int64(1), object(13)\n",
      "memory usage: 29.1+ KB\n"
     ]
    }
   ],
   "source": [
    "df.info()"
   ]
  },
  {
   "cell_type": "code",
   "execution_count": 4,
   "metadata": {},
   "outputs": [
    {
     "name": "stdout",
     "output_type": "stream",
     "text": [
      "<class 'pandas.core.frame.DataFrame'>\n",
      "Index: 205 entries, 0 to 264\n",
      "Data columns (total 14 columns):\n",
      " #   Column                         Non-Null Count  Dtype \n",
      "---  ------                         --------------  ----- \n",
      " 0   Maker                          205 non-null    object\n",
      " 1   Model                          205 non-null    object\n",
      " 2   Number of Cylinders            205 non-null    object\n",
      " 3   Engine Type                    205 non-null    object\n",
      " 4   Engine Horse Power             205 non-null    object\n",
      " 5   Engine Horse Power RPM         205 non-null    object\n",
      " 6   Transmission                   205 non-null    object\n",
      " 7   Mixed Fuel Consumption per Km  205 non-null    object\n",
      " 8   Fuel Tank Capacity             205 non-null    object\n",
      " 9   Acceleration 0 to 100 Km       205 non-null    object\n",
      " 10  Max Speed Km per Hour          205 non-null    object\n",
      " 11  Fuel Grade (in Octane)         205 non-null    object\n",
      " 12  Year                           205 non-null    int64 \n",
      " 13  Type of Car                    205 non-null    object\n",
      "dtypes: int64(1), object(13)\n",
      "memory usage: 24.0+ KB\n"
     ]
    }
   ],
   "source": [
    "df.dropna(inplace=True)\n",
    "df.info()"
   ]
  },
  {
   "cell_type": "markdown",
   "metadata": {},
   "source": [
    "Tipe Bensin\n",
    "- Gasoline = 0\n",
    "- Diesel = 1"
   ]
  },
  {
   "cell_type": "code",
   "execution_count": 5,
   "metadata": {},
   "outputs": [
    {
     "data": {
      "text/plain": [
       "array(['Turbocharged Gasoline Direct Injection',\n",
       "       'Gasoline Direct Injection', 'Petrol',\n",
       "       'Dual Variable Valve Timing-intelligent', 'Multi Point Injection',\n",
       "       'Turbocharged Diesel', 'Diesel/Petrol/Plug-in Hybrid',\n",
       "       'Diesel/Petrol/Mild Hybrid', 'Hybrid', 'Diesel',\n",
       "       'Direct Injection'], dtype=object)"
      ]
     },
     "execution_count": 5,
     "metadata": {},
     "output_type": "execute_result"
    }
   ],
   "source": [
    "df['Engine Type'].unique()"
   ]
  },
  {
   "cell_type": "markdown",
   "metadata": {},
   "source": [
    "Tipe Bensin\n",
    "- Turbocharged Gasoline Direct Injection = 0\n",
    "- Battery Electric (hapus)\n",
    "- Gasoline Direct Injection = 0\n",
    "- Petrol = 0\n",
    "- Electric (hapus)\n",
    "- Hybrid (hapus)\n",
    "- Dual Variable Valve Timing-intelligent = 0\n",
    "- Multi Point Injection = 0\n",
    "- Turbocharged Diesel = 1\n",
    "- Diesel/Petrol/Plug-in Hybrid = 1\n",
    "- Diesel/Petrol/Mild Hybrid = 1\n",
    "- Diesel = 1\n",
    "- Fuel Cell (hapus)"
   ]
  },
  {
   "cell_type": "code",
   "execution_count": 6,
   "metadata": {},
   "outputs": [
    {
     "data": {
      "text/plain": [
       "array(['Turbocharged Gasoline Direct Injection',\n",
       "       'Gasoline Direct Injection', 'Petrol',\n",
       "       'Dual Variable Valve Timing-intelligent', 'Multi Point Injection',\n",
       "       'Turbocharged Diesel', 'Diesel/Petrol/Plug-in Hybrid',\n",
       "       'Diesel/Petrol/Mild Hybrid', 'Diesel', 'Direct Injection'],\n",
       "      dtype=object)"
      ]
     },
     "execution_count": 6,
     "metadata": {},
     "output_type": "execute_result"
    }
   ],
   "source": [
    "engine_to_remove = ['Battery Electric', 'Electric', 'Hybrid', 'Fuel Cell']\n",
    "df = df[~df['Engine Type'].isin(engine_to_remove)]\n",
    "df['Engine Type'].unique()"
   ]
  },
  {
   "cell_type": "code",
   "execution_count": 7,
   "metadata": {},
   "outputs": [
    {
     "data": {
      "text/plain": [
       "array([0, 1], dtype=int64)"
      ]
     },
     "execution_count": 7,
     "metadata": {},
     "output_type": "execute_result"
    }
   ],
   "source": [
    "df['Engine Type'] = df['Engine Type'].replace({\n",
    "    'Turbocharged Gasoline Direct Injection' : 0,\n",
    "    'Gasoline Direct Injection' : 0,\n",
    "    'Petrol' : 0,\n",
    "    'Dual Variable Valve Timing-intelligent' : 0,\n",
    "    'Multi Point Injection' : 0,\n",
    "    'Turbocharged Diesel' : 1,\n",
    "    'Diesel/Petrol/Plug-in Hybrid' : 1,\n",
    "    'Diesel/Petrol/Mild Hybrid' : 1,\n",
    "    'Diesel' : 1,\n",
    "    'Direct Injection' : 0\n",
    "})\n",
    "\n",
    "df['Engine Type'].unique()"
   ]
  },
  {
   "cell_type": "markdown",
   "metadata": {},
   "source": [
    "Tipe Transmisi\n",
    "- Automatic = 0\n",
    "- Manual = 1"
   ]
  },
  {
   "cell_type": "code",
   "execution_count": 8,
   "metadata": {},
   "outputs": [
    {
     "data": {
      "text/plain": [
       "array(['7-speed dual clutch', '8-speed dual clutch', '8-speed automatic',\n",
       "       '6-speed automatic', '9-speed automatic', 'Automatic',\n",
       "       '4-speed automatic', 'Continuously Variable Transmission',\n",
       "       '10-speed automatic', '5-speed manual', '6-speed manual',\n",
       "       '6-speed dual clutch', '8-speed Automatic', '1-speed direct drive',\n",
       "       'Manual'], dtype=object)"
      ]
     },
     "execution_count": 8,
     "metadata": {},
     "output_type": "execute_result"
    }
   ],
   "source": [
    "df['Transmission'].unique()"
   ]
  },
  {
   "cell_type": "markdown",
   "metadata": {},
   "source": [
    "Tipe Transmisi\n",
    "- 7-speed dual clutch = 1\n",
    "- 8-speed dual clutch = 1\n",
    "- 8-speed automatic = 0\n",
    "- 2-speed direct drive = 1\n",
    "- 1-speed direct drive = 1\n",
    "- 6-speed automatic = 0\n",
    "- 9-speed automatic= 0\n",
    "- Automatic = 0\n",
    "- 4-speed automatic = 0\n",
    "- Continuously Variable Transmission (automatic) = 0\n",
    "- 10-speed automatic = 0\n",
    "- 5-speed manual = 1\n",
    "- 6-speed manual = 1\n",
    "- 6-speed dual clutch = 1\n",
    "- 8-speed Automatic = 0\n",
    "- 1-speed Automatic = 1\n",
    "- Manual = 1\n"
   ]
  },
  {
   "cell_type": "code",
   "execution_count": 9,
   "metadata": {},
   "outputs": [
    {
     "data": {
      "text/plain": [
       "array([1, 0], dtype=int64)"
      ]
     },
     "execution_count": 9,
     "metadata": {},
     "output_type": "execute_result"
    }
   ],
   "source": [
    "df['Transmission'] = df['Transmission'].replace({\n",
    "    '7-speed dual clutch': 1,\n",
    "    '8-speed dual clutch': 1,\n",
    "    '8-speed automatic': 0,\n",
    "    '6-speed automatic': 0,\n",
    "    '9-speed automatic': 0,\n",
    "    'Automatic': 0,\n",
    "    '4-speed automatic': 0,\n",
    "    'Continuously Variable Transmission': 0,\n",
    "    '10-speed automatic': 0,\n",
    "    '5-speed manual': 1,\n",
    "    '6-speed manual': 1,\n",
    "    '6-speed dual clutch': 1,\n",
    "    '8-speed Automatic': 0,\n",
    "    '1-speed direct drive': 0,\n",
    "    'Manual': 1\n",
    "})\n",
    "\n",
    "df['Transmission'].unique()"
   ]
  },
  {
   "cell_type": "code",
   "execution_count": 11,
   "metadata": {},
   "outputs": [
    {
     "name": "stdout",
     "output_type": "stream",
     "text": [
      "<class 'pandas.core.frame.DataFrame'>\n",
      "Index: 204 entries, 0 to 264\n",
      "Data columns (total 14 columns):\n",
      " #   Column                         Non-Null Count  Dtype \n",
      "---  ------                         --------------  ----- \n",
      " 0   Maker                          204 non-null    object\n",
      " 1   Model                          204 non-null    object\n",
      " 2   Number of Cylinders            204 non-null    object\n",
      " 3   Engine Type                    204 non-null    int64 \n",
      " 4   Engine Horse Power             204 non-null    object\n",
      " 5   Engine Horse Power RPM         204 non-null    object\n",
      " 6   Transmission                   204 non-null    int64 \n",
      " 7   Mixed Fuel Consumption per Km  204 non-null    object\n",
      " 8   Fuel Tank Capacity             204 non-null    object\n",
      " 9   Acceleration 0 to 100 Km       204 non-null    object\n",
      " 10  Max Speed Km per Hour          204 non-null    object\n",
      " 11  Fuel Grade (in Octane)         204 non-null    object\n",
      " 12  Year                           204 non-null    int64 \n",
      " 13  Type of Car                    204 non-null    object\n",
      "dtypes: int64(3), object(11)\n",
      "memory usage: 23.9+ KB\n"
     ]
    }
   ],
   "source": [
    "df.info()"
   ]
  }
 ],
 "metadata": {
  "kernelspec": {
   "display_name": "Python 3",
   "language": "python",
   "name": "python3"
  },
  "language_info": {
   "codemirror_mode": {
    "name": "ipython",
    "version": 3
   },
   "file_extension": ".py",
   "mimetype": "text/x-python",
   "name": "python",
   "nbconvert_exporter": "python",
   "pygments_lexer": "ipython3",
   "version": "3.10.10"
  }
 },
 "nbformat": 4,
 "nbformat_minor": 2
}
