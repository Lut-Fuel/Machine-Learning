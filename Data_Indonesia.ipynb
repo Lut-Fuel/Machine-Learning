{
 "cells": [
  {
   "cell_type": "code",
   "execution_count": 1,
   "metadata": {},
   "outputs": [],
   "source": [
    "import pandas as pd"
   ]
  },
  {
   "cell_type": "code",
   "execution_count": 2,
   "metadata": {},
   "outputs": [
    {
     "data": {
      "text/html": [
       "<div>\n",
       "<style scoped>\n",
       "    .dataframe tbody tr th:only-of-type {\n",
       "        vertical-align: middle;\n",
       "    }\n",
       "\n",
       "    .dataframe tbody tr th {\n",
       "        vertical-align: top;\n",
       "    }\n",
       "\n",
       "    .dataframe thead th {\n",
       "        text-align: right;\n",
       "    }\n",
       "</style>\n",
       "<table border=\"1\" class=\"dataframe\">\n",
       "  <thead>\n",
       "    <tr style=\"text-align: right;\">\n",
       "      <th></th>\n",
       "      <th>Maker</th>\n",
       "      <th>Model</th>\n",
       "      <th>Number of Cylinders</th>\n",
       "      <th>Engine Type</th>\n",
       "      <th>Engine Horse Power</th>\n",
       "      <th>Engine Horse Power RPM</th>\n",
       "      <th>Transmission</th>\n",
       "      <th>Mixed Fuel Consumption per Km</th>\n",
       "      <th>Fuel Tank Capacity</th>\n",
       "      <th>Acceleration 0 to 100 Km</th>\n",
       "      <th>Max Speed Km per Hour</th>\n",
       "      <th>Fuel Grade (in Octane)</th>\n",
       "      <th>Year</th>\n",
       "      <th>Type of Car</th>\n",
       "    </tr>\n",
       "  </thead>\n",
       "  <tbody>\n",
       "    <tr>\n",
       "      <th>0</th>\n",
       "      <td>Audi</td>\n",
       "      <td>A3</td>\n",
       "      <td>4.0</td>\n",
       "      <td>Turbocharged Gasoline Direct Injection</td>\n",
       "      <td>224</td>\n",
       "      <td>5000.0</td>\n",
       "      <td>7-speed dual clutch</td>\n",
       "      <td>6.2 L/100 km</td>\n",
       "      <td>50 L</td>\n",
       "      <td>6.2 s</td>\n",
       "      <td>250</td>\n",
       "      <td>95.0</td>\n",
       "      <td>2021</td>\n",
       "      <td>Hatchback</td>\n",
       "    </tr>\n",
       "    <tr>\n",
       "      <th>1</th>\n",
       "      <td>Audi</td>\n",
       "      <td>A3 Hybrid</td>\n",
       "      <td>4.0</td>\n",
       "      <td>Turbocharged Gasoline Direct Injection</td>\n",
       "      <td>224</td>\n",
       "      <td>5000.0</td>\n",
       "      <td>8-speed dual clutch</td>\n",
       "      <td>1.9 L/100 km</td>\n",
       "      <td>36 L</td>\n",
       "      <td>6.7 s</td>\n",
       "      <td>235</td>\n",
       "      <td>95.0</td>\n",
       "      <td>2021</td>\n",
       "      <td>Hatchback</td>\n",
       "    </tr>\n",
       "    <tr>\n",
       "      <th>2</th>\n",
       "      <td>Audi</td>\n",
       "      <td>A4</td>\n",
       "      <td>4.0</td>\n",
       "      <td>Turbocharged Gasoline Direct Injection</td>\n",
       "      <td>258</td>\n",
       "      <td>5000.0</td>\n",
       "      <td>8-speed automatic</td>\n",
       "      <td>6.4 L/100 km</td>\n",
       "      <td>59 L</td>\n",
       "      <td>5.8 s</td>\n",
       "      <td>250</td>\n",
       "      <td>95.0</td>\n",
       "      <td>2021</td>\n",
       "      <td>Sedan</td>\n",
       "    </tr>\n",
       "    <tr>\n",
       "      <th>3</th>\n",
       "      <td>Audi</td>\n",
       "      <td>A4 Hybrid</td>\n",
       "      <td>4.0</td>\n",
       "      <td>Turbocharged Gasoline Direct Injection</td>\n",
       "      <td>292</td>\n",
       "      <td>5000.0</td>\n",
       "      <td>8-speed automatic</td>\n",
       "      <td>1.7 L/100 km</td>\n",
       "      <td>40 L</td>\n",
       "      <td>5.9 s</td>\n",
       "      <td>230</td>\n",
       "      <td>95.0</td>\n",
       "      <td>2021</td>\n",
       "      <td>Sedan</td>\n",
       "    </tr>\n",
       "    <tr>\n",
       "      <th>4</th>\n",
       "      <td>Audi</td>\n",
       "      <td>A5</td>\n",
       "      <td>4.0</td>\n",
       "      <td>Turbocharged Gasoline Direct Injection</td>\n",
       "      <td>374</td>\n",
       "      <td>5500.0</td>\n",
       "      <td>8-speed automatic</td>\n",
       "      <td>7.8 L/100 km</td>\n",
       "      <td>59 L</td>\n",
       "      <td>4.1 s</td>\n",
       "      <td>250</td>\n",
       "      <td>95.0</td>\n",
       "      <td>2021</td>\n",
       "      <td>Coupe</td>\n",
       "    </tr>\n",
       "  </tbody>\n",
       "</table>\n",
       "</div>"
      ],
      "text/plain": [
       "  Maker      Model Number of Cylinders   \n",
       "0  Audi         A3                 4.0  \\\n",
       "1  Audi  A3 Hybrid                 4.0   \n",
       "2  Audi         A4                 4.0   \n",
       "3  Audi  A4 Hybrid                 4.0   \n",
       "4  Audi         A5                 4.0   \n",
       "\n",
       "                              Engine Type Engine Horse Power   \n",
       "0  Turbocharged Gasoline Direct Injection                224  \\\n",
       "1  Turbocharged Gasoline Direct Injection                224   \n",
       "2  Turbocharged Gasoline Direct Injection                258   \n",
       "3  Turbocharged Gasoline Direct Injection                292   \n",
       "4  Turbocharged Gasoline Direct Injection                374   \n",
       "\n",
       "  Engine Horse Power RPM         Transmission Mixed Fuel Consumption per Km   \n",
       "0                 5000.0  7-speed dual clutch                  6.2 L/100 km  \\\n",
       "1                 5000.0  8-speed dual clutch                  1.9 L/100 km   \n",
       "2                 5000.0    8-speed automatic                  6.4 L/100 km   \n",
       "3                 5000.0    8-speed automatic                  1.7 L/100 km   \n",
       "4                 5500.0    8-speed automatic                  7.8 L/100 km   \n",
       "\n",
       "  Fuel Tank Capacity Acceleration 0 to 100 Km Max Speed Km per Hour   \n",
       "0               50 L                    6.2 s                   250  \\\n",
       "1               36 L                    6.7 s                   235   \n",
       "2               59 L                    5.8 s                   250   \n",
       "3               40 L                    5.9 s                   230   \n",
       "4               59 L                    4.1 s                   250   \n",
       "\n",
       "  Fuel Grade (in Octane)  Year Type of Car  \n",
       "0                   95.0  2021   Hatchback  \n",
       "1                   95.0  2021   Hatchback  \n",
       "2                   95.0  2021       Sedan  \n",
       "3                   95.0  2021       Sedan  \n",
       "4                   95.0  2021       Coupe  "
      ]
     },
     "execution_count": 2,
     "metadata": {},
     "output_type": "execute_result"
    }
   ],
   "source": [
    "df = pd.read_csv('Dataset/Mobil Indonesia.csv')\n",
    "df.head(5)"
   ]
  },
  {
   "cell_type": "code",
   "execution_count": 3,
   "metadata": {},
   "outputs": [
    {
     "name": "stdout",
     "output_type": "stream",
     "text": [
      "<class 'pandas.core.frame.DataFrame'>\n",
      "RangeIndex: 265 entries, 0 to 264\n",
      "Data columns (total 14 columns):\n",
      " #   Column                         Non-Null Count  Dtype \n",
      "---  ------                         --------------  ----- \n",
      " 0   Maker                          265 non-null    object\n",
      " 1   Model                          265 non-null    object\n",
      " 2   Number of Cylinders            206 non-null    object\n",
      " 3   Engine Type                    265 non-null    object\n",
      " 4   Engine Horse Power             262 non-null    object\n",
      " 5   Engine Horse Power RPM         205 non-null    object\n",
      " 6   Transmission                   262 non-null    object\n",
      " 7   Mixed Fuel Consumption per Km  216 non-null    object\n",
      " 8   Fuel Tank Capacity             262 non-null    object\n",
      " 9   Acceleration 0 to 100 Km       262 non-null    object\n",
      " 10  Max Speed Km per Hour          262 non-null    object\n",
      " 11  Fuel Grade (in Octane)         206 non-null    object\n",
      " 12  Year                           265 non-null    int64 \n",
      " 13  Type of Car                    265 non-null    object\n",
      "dtypes: int64(1), object(13)\n",
      "memory usage: 29.1+ KB\n"
     ]
    }
   ],
   "source": [
    "df.info()"
   ]
  },
  {
   "cell_type": "code",
   "execution_count": 4,
   "metadata": {},
   "outputs": [
    {
     "name": "stdout",
     "output_type": "stream",
     "text": [
      "<class 'pandas.core.frame.DataFrame'>\n",
      "Index: 205 entries, 0 to 264\n",
      "Data columns (total 14 columns):\n",
      " #   Column                         Non-Null Count  Dtype \n",
      "---  ------                         --------------  ----- \n",
      " 0   Maker                          205 non-null    object\n",
      " 1   Model                          205 non-null    object\n",
      " 2   Number of Cylinders            205 non-null    object\n",
      " 3   Engine Type                    205 non-null    object\n",
      " 4   Engine Horse Power             205 non-null    object\n",
      " 5   Engine Horse Power RPM         205 non-null    object\n",
      " 6   Transmission                   205 non-null    object\n",
      " 7   Mixed Fuel Consumption per Km  205 non-null    object\n",
      " 8   Fuel Tank Capacity             205 non-null    object\n",
      " 9   Acceleration 0 to 100 Km       205 non-null    object\n",
      " 10  Max Speed Km per Hour          205 non-null    object\n",
      " 11  Fuel Grade (in Octane)         205 non-null    object\n",
      " 12  Year                           205 non-null    int64 \n",
      " 13  Type of Car                    205 non-null    object\n",
      "dtypes: int64(1), object(13)\n",
      "memory usage: 24.0+ KB\n"
     ]
    }
   ],
   "source": [
    "df.dropna(inplace=True)\n",
    "df.info()"
   ]
  },
  {
   "cell_type": "markdown",
   "metadata": {},
   "source": [
    "Tipe Bensin\n",
    "- Gasoline = 0\n",
    "- Diesel = 1"
   ]
  },
  {
   "cell_type": "code",
   "execution_count": 5,
   "metadata": {},
   "outputs": [
    {
     "data": {
      "text/plain": [
       "array(['Turbocharged Gasoline Direct Injection',\n",
       "       'Gasoline Direct Injection', 'Petrol',\n",
       "       'Dual Variable Valve Timing-intelligent', 'Multi Point Injection',\n",
       "       'Turbocharged Diesel', 'Diesel/Petrol/Plug-in Hybrid',\n",
       "       'Diesel/Petrol/Mild Hybrid', 'Hybrid', 'Diesel',\n",
       "       'Direct Injection'], dtype=object)"
      ]
     },
     "execution_count": 5,
     "metadata": {},
     "output_type": "execute_result"
    }
   ],
   "source": [
    "df['Engine Type'].unique()"
   ]
  },
  {
   "cell_type": "markdown",
   "metadata": {},
   "source": [
    "Tipe Bensin\n",
    "- Turbocharged Gasoline Direct Injection = 0\n",
    "- Battery Electric (hapus)\n",
    "- Gasoline Direct Injection = 0\n",
    "- Petrol = 0\n",
    "- Electric (hapus)\n",
    "- Hybrid (hapus)\n",
    "- Dual Variable Valve Timing-intelligent = 0\n",
    "- Multi Point Injection = 0\n",
    "- Turbocharged Diesel = 1\n",
    "- Diesel/Petrol/Plug-in Hybrid = 1\n",
    "- Diesel/Petrol/Mild Hybrid = 1\n",
    "- Diesel = 1\n",
    "- Fuel Cell (hapus)"
   ]
  },
  {
   "cell_type": "code",
   "execution_count": 6,
   "metadata": {},
   "outputs": [
    {
     "data": {
      "text/plain": [
       "array(['Turbocharged Gasoline Direct Injection',\n",
       "       'Gasoline Direct Injection', 'Petrol',\n",
       "       'Dual Variable Valve Timing-intelligent', 'Multi Point Injection',\n",
       "       'Turbocharged Diesel', 'Diesel/Petrol/Plug-in Hybrid',\n",
       "       'Diesel/Petrol/Mild Hybrid', 'Diesel', 'Direct Injection'],\n",
       "      dtype=object)"
      ]
     },
     "execution_count": 6,
     "metadata": {},
     "output_type": "execute_result"
    }
   ],
   "source": [
    "engine_to_remove = ['Battery Electric', 'Electric', 'Hybrid', 'Fuel Cell']\n",
    "df = df[~df['Engine Type'].isin(engine_to_remove)]\n",
    "df['Engine Type'].unique()"
   ]
  },
  {
   "cell_type": "code",
   "execution_count": 7,
   "metadata": {},
   "outputs": [
    {
     "data": {
      "text/plain": [
       "array([0, 1], dtype=int64)"
      ]
     },
     "execution_count": 7,
     "metadata": {},
     "output_type": "execute_result"
    }
   ],
   "source": [
    "df['Engine Type'] = df['Engine Type'].replace({\n",
    "    'Turbocharged Gasoline Direct Injection' : 0,\n",
    "    'Gasoline Direct Injection' : 0,\n",
    "    'Petrol' : 0,\n",
    "    'Dual Variable Valve Timing-intelligent' : 0,\n",
    "    'Multi Point Injection' : 0,\n",
    "    'Turbocharged Diesel' : 1,\n",
    "    'Diesel/Petrol/Plug-in Hybrid' : 1,\n",
    "    'Diesel/Petrol/Mild Hybrid' : 1,\n",
    "    'Diesel' : 1,\n",
    "    'Direct Injection' : 0\n",
    "})\n",
    "\n",
    "df['Engine Type'].unique()"
   ]
  },
  {
   "cell_type": "markdown",
   "metadata": {},
   "source": [
    "Tipe Transmisi\n",
    "- Automatic = 0\n",
    "- Manual = 1"
   ]
  },
  {
   "cell_type": "code",
   "execution_count": 8,
   "metadata": {},
   "outputs": [
    {
     "data": {
      "text/plain": [
       "array(['7-speed dual clutch', '8-speed dual clutch', '8-speed automatic',\n",
       "       '6-speed automatic', '9-speed automatic', 'Automatic',\n",
       "       '4-speed automatic', 'Continuously Variable Transmission',\n",
       "       '10-speed automatic', '5-speed manual', '6-speed manual',\n",
       "       '6-speed dual clutch', '8-speed Automatic', '1-speed direct drive',\n",
       "       'Manual'], dtype=object)"
      ]
     },
     "execution_count": 8,
     "metadata": {},
     "output_type": "execute_result"
    }
   ],
   "source": [
    "df['Transmission'].unique()"
   ]
  },
  {
   "cell_type": "markdown",
   "metadata": {},
   "source": [
    "Tipe Transmisi\n",
    "- 7-speed dual clutch = 1\n",
    "- 8-speed dual clutch = 1\n",
    "- 8-speed automatic = 0\n",
    "- 2-speed direct drive = 1\n",
    "- 1-speed direct drive = 1\n",
    "- 6-speed automatic = 0\n",
    "- 9-speed automatic= 0\n",
    "- Automatic = 0\n",
    "- 4-speed automatic = 0\n",
    "- Continuously Variable Transmission (automatic) = 0\n",
    "- 10-speed automatic = 0\n",
    "- 5-speed manual = 1\n",
    "- 6-speed manual = 1\n",
    "- 6-speed dual clutch = 1\n",
    "- 8-speed Automatic = 0\n",
    "- 1-speed Automatic = 1\n",
    "- Manual = 1\n"
   ]
  },
  {
   "cell_type": "code",
   "execution_count": 9,
   "metadata": {},
   "outputs": [
    {
     "data": {
      "text/plain": [
       "array([1, 0], dtype=int64)"
      ]
     },
     "execution_count": 9,
     "metadata": {},
     "output_type": "execute_result"
    }
   ],
   "source": [
    "df['Transmission'] = df['Transmission'].replace({\n",
    "    '7-speed dual clutch': 1,\n",
    "    '8-speed dual clutch': 1,\n",
    "    '8-speed automatic': 0,\n",
    "    '6-speed automatic': 0,\n",
    "    '9-speed automatic': 0,\n",
    "    'Automatic': 0,\n",
    "    '4-speed automatic': 0,\n",
    "    'Continuously Variable Transmission': 0,\n",
    "    '10-speed automatic': 0,\n",
    "    '5-speed manual': 1,\n",
    "    '6-speed manual': 1,\n",
    "    '6-speed dual clutch': 1,\n",
    "    '8-speed Automatic': 0,\n",
    "    '1-speed direct drive': 0,\n",
    "    'Manual': 1\n",
    "})\n",
    "\n",
    "df['Transmission'].unique()"
   ]
  },
  {
   "cell_type": "code",
   "execution_count": 10,
   "metadata": {},
   "outputs": [
    {
     "name": "stdout",
     "output_type": "stream",
     "text": [
      "<class 'pandas.core.frame.DataFrame'>\n",
      "Index: 204 entries, 0 to 264\n",
      "Data columns (total 14 columns):\n",
      " #   Column                         Non-Null Count  Dtype \n",
      "---  ------                         --------------  ----- \n",
      " 0   Maker                          204 non-null    object\n",
      " 1   Model                          204 non-null    object\n",
      " 2   Number of Cylinders            204 non-null    object\n",
      " 3   Engine Type                    204 non-null    int64 \n",
      " 4   Engine Horse Power             204 non-null    object\n",
      " 5   Engine Horse Power RPM         204 non-null    object\n",
      " 6   Transmission                   204 non-null    int64 \n",
      " 7   Mixed Fuel Consumption per Km  204 non-null    object\n",
      " 8   Fuel Tank Capacity             204 non-null    object\n",
      " 9   Acceleration 0 to 100 Km       204 non-null    object\n",
      " 10  Max Speed Km per Hour          204 non-null    object\n",
      " 11  Fuel Grade (in Octane)         204 non-null    object\n",
      " 12  Year                           204 non-null    int64 \n",
      " 13  Type of Car                    204 non-null    object\n",
      "dtypes: int64(3), object(11)\n",
      "memory usage: 23.9+ KB\n"
     ]
    }
   ],
   "source": [
    "df.info()"
   ]
  },
  {
   "cell_type": "markdown",
   "metadata": {},
   "source": [
    "**Type of Car**\n",
    "\n",
    "* Sedan + Saloon + Coupe + Convertible + Coupe/Convertible= Sedan = 0\n",
    "* SUV + Hatchback = Jeep = 1\n",
    "* MPV + Minivan + Van + Estate = Bus = 2\n",
    "* Pickup = 3"
   ]
  },
  {
   "cell_type": "code",
   "execution_count": 11,
   "metadata": {},
   "outputs": [
    {
     "data": {
      "text/plain": [
       "array(['Hatchback', 'Sedan', 'Coupe', 'SUV', 'MPV', 'Minivan', 'Pickup',\n",
       "       'Coupe/Convertible', 'Saloon', 'Convertible', 'Estate', 'Van'],\n",
       "      dtype=object)"
      ]
     },
     "execution_count": 11,
     "metadata": {},
     "output_type": "execute_result"
    }
   ],
   "source": [
    "df['Type of Car'].unique()"
   ]
  },
  {
   "cell_type": "code",
   "execution_count": 12,
   "metadata": {},
   "outputs": [],
   "source": [
    "df['Type of Car'] = df['Type of Car'].replace({\n",
    "    'Sedan': 0,\n",
    "    'Saloon': 0,\n",
    "    'Coupe': 0,\n",
    "    'Convertible': 0,\n",
    "    'Coupe/Convertible': 0,\n",
    "    'SUV': 1,\n",
    "    'Hatchback': 1,\n",
    "    'MPV': 2,\n",
    "    'Minivan': 2,\n",
    "    'Van': 2,\n",
    "    'Estate': 2,\n",
    "    'Pickup': 3\n",
    "})"
   ]
  },
  {
   "cell_type": "code",
   "execution_count": 13,
   "metadata": {},
   "outputs": [
    {
     "data": {
      "text/plain": [
       "array([1, 0, 2, 3])"
      ]
     },
     "execution_count": 13,
     "metadata": {},
     "output_type": "execute_result"
    }
   ],
   "source": [
    "df['Type of Car'] = df['Type of Car'].astype(int)\n",
    "df['Type of Car'].unique()"
   ]
  },
  {
   "cell_type": "code",
   "execution_count": 14,
   "metadata": {},
   "outputs": [
    {
     "name": "stdout",
     "output_type": "stream",
     "text": [
      "<class 'pandas.core.frame.DataFrame'>\n",
      "Index: 204 entries, 0 to 264\n",
      "Data columns (total 14 columns):\n",
      " #   Column                         Non-Null Count  Dtype \n",
      "---  ------                         --------------  ----- \n",
      " 0   Maker                          204 non-null    object\n",
      " 1   Model                          204 non-null    object\n",
      " 2   Number of Cylinders            204 non-null    object\n",
      " 3   Engine Type                    204 non-null    int64 \n",
      " 4   Engine Horse Power             204 non-null    object\n",
      " 5   Engine Horse Power RPM         204 non-null    object\n",
      " 6   Transmission                   204 non-null    int64 \n",
      " 7   Mixed Fuel Consumption per Km  204 non-null    object\n",
      " 8   Fuel Tank Capacity             204 non-null    object\n",
      " 9   Acceleration 0 to 100 Km       204 non-null    object\n",
      " 10  Max Speed Km per Hour          204 non-null    object\n",
      " 11  Fuel Grade (in Octane)         204 non-null    object\n",
      " 12  Year                           204 non-null    int64 \n",
      " 13  Type of Car                    204 non-null    int32 \n",
      "dtypes: int32(1), int64(3), object(10)\n",
      "memory usage: 23.1+ KB\n"
     ]
    }
   ],
   "source": [
    "df.info()"
   ]
  },
  {
   "cell_type": "markdown",
   "metadata": {},
   "source": [
    "**Processing the object datas to integers or floats**"
   ]
  },
  {
   "cell_type": "markdown",
   "metadata": {},
   "source": [
    "**Mixed Fuel Consumption per Km**\n",
    "\n",
    "- The original data is : x.x L/100 km.\n",
    "- Want to extract only the x.x number into float"
   ]
  },
  {
   "cell_type": "code",
   "execution_count": 15,
   "metadata": {},
   "outputs": [
    {
     "data": {
      "text/plain": [
       "array(['6.2 L/100 km', '1.9 L/100 km', '6.4 L/100 km', '1.7 L/100 km',\n",
       "       '7.8 L/100 km', '1.8 L/100 km', '8.3 L/100 km', '8.8 L/100 km',\n",
       "       '2.1 L/100 km', '11.3 L/100 km', '2.6 L/100 km', '13.3 L/100 km',\n",
       "       '6.3 L/100 km', '7.1 L/100 km', '10.7 L/100 km', '2.3 L/100 km',\n",
       "       '6.8 L/100 km', '9.1 L/100 km', '2.4 L/100 km', '7.6 L/100 km',\n",
       "       '7.9 L/100 km', '4.9 L', '5.6 L', '7.9 L', '5.4 L/100 km',\n",
       "       '8.4 L/100 km', '4.5 L/100 km', '5.9 L/100 km', '7.4 L/100 km',\n",
       "       '8.7 L/100 km', '5.6 L/100 km', '7.7 L/100 km', '4.9 L/100 km',\n",
       "       '11.2 L/100 km', '11.4 L/100 km', '5.3 L/100 km', '5.1 L/100 km',\n",
       "       '7.5 L/100 km', '3.4 L/100 km', '6.7 L/100 km', '1.4-7.9 L/100km',\n",
       "       '1.8-11.7 L/100km', '8.4-11.9 L/100km', '4.8-7.9 L/100km',\n",
       "       '9.6 L/100 km', '3.5 L/100 km', '4.3 L/100 km', '1.6 L/100 km',\n",
       "       '4.1 L/100 km', '4.7 L/100 km', '4.8 L/100 km', '5.8 L/100 km',\n",
       "       '11.6 L/100 km', '9.5 L/100 km', '4.6 L/100 km', '4.2 L/100 km',\n",
       "       '8.2 L/100 km', '9.8 L/100 km', '10.5 L/100 km', '6.6 L/100 km',\n",
       "       '1.4 L/100 km', '7.3 L/100 km', '1.5 L/100 km', '7.2 L/100 km',\n",
       "       '8.1 L/100 km', '2.5 L/100 km', '8.9 L/100 km', '9.4 L/100 km',\n",
       "       '5.5 L/100 km', '8.3 L', '7.2 L', '7.1 L', '5.2 L/100 km',\n",
       "       '1.3 L/100 km', '5.7 L/100 km', '13.6 L/100 km', '4.4 L/100 km',\n",
       "       '2.9 L/100 km', '16.8 L/100 km', '14.3 L/100 km', '6 L/100 km',\n",
       "       '6.5 L/100 km', '8 L/100 km', '8.5 L/100 km'], dtype=object)"
      ]
     },
     "execution_count": 15,
     "metadata": {},
     "output_type": "execute_result"
    }
   ],
   "source": [
    "df['Mixed Fuel Consumption per Km'].unique()"
   ]
  },
  {
   "cell_type": "code",
   "execution_count": 16,
   "metadata": {},
   "outputs": [],
   "source": [
    "df['Mixed Fuel Consumption per Km'] = df['Mixed Fuel Consumption per Km'].str.replace(' L/100 km', '')\n",
    "df['Mixed Fuel Consumption per Km'] = df['Mixed Fuel Consumption per Km'].str.replace(' L/100km', '')\n",
    "df['Mixed Fuel Consumption per Km'] = df['Mixed Fuel Consumption per Km'].str.replace(' L', '')"
   ]
  },
  {
   "cell_type": "code",
   "execution_count": 17,
   "metadata": {},
   "outputs": [
    {
     "data": {
      "text/plain": [
       "array(['6.2', '1.9', '6.4', '1.7', '7.8', '1.8', '8.3', '8.8', '2.1',\n",
       "       '11.3', '2.6', '13.3', '6.3', '7.1', '10.7', '2.3', '6.8', '9.1',\n",
       "       '2.4', '7.6', '7.9', '4.9', '5.6', '5.4', '8.4', '4.5', '5.9',\n",
       "       '7.4', '8.7', '7.7', '11.2', '11.4', '5.3', '5.1', '7.5', '3.4',\n",
       "       '6.7', '1.4-7.9', '1.8-11.7', '8.4-11.9', '4.8-7.9', '9.6', '3.5',\n",
       "       '4.3', '1.6', '4.1', '4.7', '4.8', '5.8', '11.6', '9.5', '4.6',\n",
       "       '4.2', '8.2', '9.8', '10.5', '6.6', '1.4', '7.3', '1.5', '7.2',\n",
       "       '8.1', '2.5', '8.9', '9.4', '5.5', '5.2', '1.3', '5.7', '13.6',\n",
       "       '4.4', '2.9', '16.8', '14.3', '6', '6.5', '8', '8.5'], dtype=object)"
      ]
     },
     "execution_count": 17,
     "metadata": {},
     "output_type": "execute_result"
    }
   ],
   "source": [
    "df['Mixed Fuel Consumption per Km'].unique()"
   ]
  },
  {
   "cell_type": "markdown",
   "metadata": {},
   "source": [
    "Need to replace the x.x-y.y data manually, changing it into the average of both values"
   ]
  },
  {
   "cell_type": "code",
   "execution_count": 18,
   "metadata": {},
   "outputs": [],
   "source": [
    "import numpy as np\n",
    "\n",
    "df['Mixed Fuel Consumption per Km'] = df['Mixed Fuel Consumption per Km'].replace({\n",
    "    '1.4-7.9': np.mean([1.4, 7.9]),\n",
    "    '1.8-11.7': np.mean([1.8, 11.7]),\n",
    "    '8.4-11.9': np.mean([8.4, 11.9]),\n",
    "    '4.8-7.9': np.mean([4.8, 7.9])\n",
    "})"
   ]
  },
  {
   "cell_type": "code",
   "execution_count": 19,
   "metadata": {},
   "outputs": [
    {
     "data": {
      "text/plain": [
       "array(['6.2', '1.9', '6.4', '1.7', '7.8', '1.8', '8.3', '8.8', '2.1',\n",
       "       '11.3', '2.6', '13.3', '6.3', '7.1', '10.7', '2.3', '6.8', '9.1',\n",
       "       '2.4', '7.6', '7.9', '4.9', '5.6', '5.4', '8.4', '4.5', '5.9',\n",
       "       '7.4', '8.7', '7.7', '11.2', '11.4', '5.3', '5.1', '7.5', '3.4',\n",
       "       '6.7', 4.65, 6.75, 10.15, 6.35, '9.6', '3.5', '4.3', '1.6', '4.1',\n",
       "       '4.7', '4.8', '5.8', '11.6', '9.5', '4.6', '4.2', '8.2', '9.8',\n",
       "       '10.5', '6.6', '1.4', '7.3', '1.5', '7.2', '8.1', '2.5', '8.9',\n",
       "       '9.4', '5.5', '5.2', '1.3', '5.7', '13.6', '4.4', '2.9', '16.8',\n",
       "       '14.3', '6', '6.5', '8', '8.5'], dtype=object)"
      ]
     },
     "execution_count": 19,
     "metadata": {},
     "output_type": "execute_result"
    }
   ],
   "source": [
    "df['Mixed Fuel Consumption per Km'].unique()"
   ]
  },
  {
   "cell_type": "code",
   "execution_count": 20,
   "metadata": {},
   "outputs": [],
   "source": [
    "df['Mixed Fuel Consumption per Km'] = df['Mixed Fuel Consumption per Km'].astype(float)"
   ]
  },
  {
   "cell_type": "code",
   "execution_count": 21,
   "metadata": {},
   "outputs": [
    {
     "name": "stdout",
     "output_type": "stream",
     "text": [
      "<class 'pandas.core.frame.DataFrame'>\n",
      "Index: 204 entries, 0 to 264\n",
      "Data columns (total 14 columns):\n",
      " #   Column                         Non-Null Count  Dtype  \n",
      "---  ------                         --------------  -----  \n",
      " 0   Maker                          204 non-null    object \n",
      " 1   Model                          204 non-null    object \n",
      " 2   Number of Cylinders            204 non-null    object \n",
      " 3   Engine Type                    204 non-null    int64  \n",
      " 4   Engine Horse Power             204 non-null    object \n",
      " 5   Engine Horse Power RPM         204 non-null    object \n",
      " 6   Transmission                   204 non-null    int64  \n",
      " 7   Mixed Fuel Consumption per Km  204 non-null    float64\n",
      " 8   Fuel Tank Capacity             204 non-null    object \n",
      " 9   Acceleration 0 to 100 Km       204 non-null    object \n",
      " 10  Max Speed Km per Hour          204 non-null    object \n",
      " 11  Fuel Grade (in Octane)         204 non-null    object \n",
      " 12  Year                           204 non-null    int64  \n",
      " 13  Type of Car                    204 non-null    int32  \n",
      "dtypes: float64(1), int32(1), int64(3), object(9)\n",
      "memory usage: 23.1+ KB\n"
     ]
    }
   ],
   "source": [
    "df.info()"
   ]
  },
  {
   "cell_type": "markdown",
   "metadata": {},
   "source": [
    "**Fuel Tank Capacity**\n",
    "- Original data is x L\n",
    "- Only need the x number"
   ]
  },
  {
   "cell_type": "code",
   "execution_count": 22,
   "metadata": {},
   "outputs": [
    {
     "data": {
      "text/plain": [
       "array(['50 L', '36 L', '59 L', '40 L', '68 L', '78 L', '46 L', '73 L',\n",
       "       '61 L', '65 L', '34 L', '57 L', '45 L', '53 L', '33 L', '30 L',\n",
       "       '58 L', '56 L', '47 L', '43 L', '74 L', '26 L', '67 L', '80 L',\n",
       "       '87 L', '56-69 L', '60-82 L', '63-70 L', '56-63 L', '81 L', '66 L',\n",
       "       '60 L', '82 L', '37 L', '51 L', '62 L', '48 L', '35 L', '85 L',\n",
       "       '55 L', '63 L', '42 L', '44 L', '39 L', '32 L', '93 L', '69 L',\n",
       "       '100 L', '144 L', '70 L'], dtype=object)"
      ]
     },
     "execution_count": 22,
     "metadata": {},
     "output_type": "execute_result"
    }
   ],
   "source": [
    "df['Fuel Tank Capacity'].unique()"
   ]
  },
  {
   "cell_type": "code",
   "execution_count": 23,
   "metadata": {},
   "outputs": [
    {
     "data": {
      "text/plain": [
       "array(['50', '36', '59', '40', '68', '78', '46', '73', '61', '65', '34',\n",
       "       '57', '45', '53', '33', '30', '58', '56', '47', '43', '74', '26',\n",
       "       '67', '80', '87', '56-69', '60-82', '63-70', '56-63', '81', '66',\n",
       "       '60', '82', '37', '51', '62', '48', '35', '85', '55', '63', '42',\n",
       "       '44', '39', '32', '93', '69', '100', '144', '70'], dtype=object)"
      ]
     },
     "execution_count": 23,
     "metadata": {},
     "output_type": "execute_result"
    }
   ],
   "source": [
    "df['Fuel Tank Capacity'] = df['Fuel Tank Capacity'].str.replace(' L', '')\n",
    "df['Fuel Tank Capacity'].unique()"
   ]
  },
  {
   "cell_type": "markdown",
   "metadata": {},
   "source": [
    "Just like the Max Fuel Consumption, need to manually average the x-y data"
   ]
  },
  {
   "cell_type": "code",
   "execution_count": 24,
   "metadata": {},
   "outputs": [],
   "source": [
    "df['Fuel Tank Capacity'] = df['Fuel Tank Capacity'].replace({\n",
    "    '56-69': np.mean([56, 69]),\n",
    "    '60-82': np.mean([60, 82]),\n",
    "    '63-70': np.mean([63, 70]),\n",
    "    '56-63': np.mean([56, 63])\n",
    "})\n",
    "df['Fuel Tank Capacity'] = df['Fuel Tank Capacity'].astype(int)"
   ]
  },
  {
   "cell_type": "code",
   "execution_count": 25,
   "metadata": {},
   "outputs": [
    {
     "name": "stdout",
     "output_type": "stream",
     "text": [
      "<class 'pandas.core.frame.DataFrame'>\n",
      "Index: 204 entries, 0 to 264\n",
      "Data columns (total 14 columns):\n",
      " #   Column                         Non-Null Count  Dtype  \n",
      "---  ------                         --------------  -----  \n",
      " 0   Maker                          204 non-null    object \n",
      " 1   Model                          204 non-null    object \n",
      " 2   Number of Cylinders            204 non-null    object \n",
      " 3   Engine Type                    204 non-null    int64  \n",
      " 4   Engine Horse Power             204 non-null    object \n",
      " 5   Engine Horse Power RPM         204 non-null    object \n",
      " 6   Transmission                   204 non-null    int64  \n",
      " 7   Mixed Fuel Consumption per Km  204 non-null    float64\n",
      " 8   Fuel Tank Capacity             204 non-null    int32  \n",
      " 9   Acceleration 0 to 100 Km       204 non-null    object \n",
      " 10  Max Speed Km per Hour          204 non-null    object \n",
      " 11  Fuel Grade (in Octane)         204 non-null    object \n",
      " 12  Year                           204 non-null    int64  \n",
      " 13  Type of Car                    204 non-null    int32  \n",
      "dtypes: float64(1), int32(2), int64(3), object(8)\n",
      "memory usage: 22.3+ KB\n"
     ]
    }
   ],
   "source": [
    "df.info()"
   ]
  },
  {
   "cell_type": "markdown",
   "metadata": {},
   "source": [
    "**Acceleration 0 to 100 km**\n",
    "- Original data is x.x s\n",
    "- Only need x.x float data"
   ]
  },
  {
   "cell_type": "code",
   "execution_count": 26,
   "metadata": {},
   "outputs": [
    {
     "data": {
      "text/plain": [
       "array(['6.2 s', '6.7 s', '5.8 s', '5.9 s', '4.1 s', '5.1 s', '5.2 s',\n",
       "       '5.3 s', '5.4 s', '4.2 s', '5 s', '3.2 s', '6.1 s', '4.4 s',\n",
       "       '4.8 s', '3.8 s', '6.5 s', '6.9 s', '4.9 s', '6.8 s', '5.6 s',\n",
       "       '9.8 s', '8.8 s', '9.9 s', '9.4 s', '8.2 s', '14.6 s', '13.6 s',\n",
       "       '13.9 s', '11.4 s', '13.5 s', '11.8 s', '10.6 s', '12.5 s',\n",
       "       '11.2 s', '7.6 s', '7.5 s', '8.6 s', '7.7 s', '6.4 s', '8.1 s',\n",
       "       '10.4 s', '10.8 s', '9.3 s', '9.5 s', '12.9 s', '12.7 s',\n",
       "       '6.4-10.2 s', '4.0-10.5 s', '3.7-5.7 s', '6.5-8.2 s', '6 s',\n",
       "       '11.5 s', '8.7 s', '8.4 s', '10.3 s', '8.9 s', '8.5 s', '7.1 s',\n",
       "       '4.7 s', '9.7 s', '6.6 s', '7.3 s', '5.7 s', '5.5 s', '12.4 s',\n",
       "       '7.9 s', '9.6 s', '10.5 s', '12.6 s', '13.8 s', '11.3 s', '10.1 s',\n",
       "       '6.3 s', '11.9 s', '11.1 s', '8.3 s', '7.8 s', '9.2 s', '11 s',\n",
       "       '7.2 s', '12.8 s', '10 s', '15.5 s', '14.8 s'], dtype=object)"
      ]
     },
     "execution_count": 26,
     "metadata": {},
     "output_type": "execute_result"
    }
   ],
   "source": [
    "df['Acceleration 0 to 100 Km'].unique()"
   ]
  },
  {
   "cell_type": "code",
   "execution_count": 27,
   "metadata": {},
   "outputs": [
    {
     "data": {
      "text/plain": [
       "array(['6.2', '6.7', '5.8', '5.9', '4.1', '5.1', '5.2', '5.3', '5.4',\n",
       "       '4.2', '5', '3.2', '6.1', '4.4', '4.8', '3.8', '6.5', '6.9', '4.9',\n",
       "       '6.8', '5.6', '9.8', '8.8', '9.9', '9.4', '8.2', '14.6', '13.6',\n",
       "       '13.9', '11.4', '13.5', '11.8', '10.6', '12.5', '11.2', '7.6',\n",
       "       '7.5', '8.6', '7.7', '6.4', '8.1', '10.4', '10.8', '9.3', '9.5',\n",
       "       '12.9', '12.7', '6.4-10.2', '4.0-10.5', '3.7-5.7', '6.5-8.2', '6',\n",
       "       '11.5', '8.7', '8.4', '10.3', '8.9', '8.5', '7.1', '4.7', '9.7',\n",
       "       '6.6', '7.3', '5.7', '5.5', '12.4', '7.9', '9.6', '10.5', '12.6',\n",
       "       '13.8', '11.3', '10.1', '6.3', '11.9', '11.1', '8.3', '7.8', '9.2',\n",
       "       '11', '7.2', '12.8', '10', '15.5', '14.8'], dtype=object)"
      ]
     },
     "execution_count": 27,
     "metadata": {},
     "output_type": "execute_result"
    }
   ],
   "source": [
    "df['Acceleration 0 to 100 Km'] = df['Acceleration 0 to 100 Km'].str.replace(' s', '')\n",
    "df['Acceleration 0 to 100 Km'].unique()"
   ]
  },
  {
   "cell_type": "code",
   "execution_count": 28,
   "metadata": {},
   "outputs": [],
   "source": [
    "df['Acceleration 0 to 100 Km'] = df['Acceleration 0 to 100 Km'].replace({\n",
    "    '6.4-10.2': np.mean([6.4, 10.2]),\n",
    "    '4.0-10.5': np.mean([4.0, 10.5]),\n",
    "    '3.7-5.7': np.mean([3.7, 5.7]),\n",
    "    '6.5-8.2': np.mean([6.5, 8.2])\n",
    "})\n",
    "df['Acceleration 0 to 100 Km'] = df['Acceleration 0 to 100 Km'].astype(float)"
   ]
  },
  {
   "cell_type": "code",
   "execution_count": 29,
   "metadata": {},
   "outputs": [
    {
     "name": "stdout",
     "output_type": "stream",
     "text": [
      "<class 'pandas.core.frame.DataFrame'>\n",
      "Index: 204 entries, 0 to 264\n",
      "Data columns (total 14 columns):\n",
      " #   Column                         Non-Null Count  Dtype  \n",
      "---  ------                         --------------  -----  \n",
      " 0   Maker                          204 non-null    object \n",
      " 1   Model                          204 non-null    object \n",
      " 2   Number of Cylinders            204 non-null    object \n",
      " 3   Engine Type                    204 non-null    int64  \n",
      " 4   Engine Horse Power             204 non-null    object \n",
      " 5   Engine Horse Power RPM         204 non-null    object \n",
      " 6   Transmission                   204 non-null    int64  \n",
      " 7   Mixed Fuel Consumption per Km  204 non-null    float64\n",
      " 8   Fuel Tank Capacity             204 non-null    int32  \n",
      " 9   Acceleration 0 to 100 Km       204 non-null    float64\n",
      " 10  Max Speed Km per Hour          204 non-null    object \n",
      " 11  Fuel Grade (in Octane)         204 non-null    object \n",
      " 12  Year                           204 non-null    int64  \n",
      " 13  Type of Car                    204 non-null    int32  \n",
      "dtypes: float64(2), int32(2), int64(3), object(7)\n",
      "memory usage: 22.3+ KB\n"
     ]
    }
   ],
   "source": [
    "df.info()"
   ]
  }
 ],
 "metadata": {
  "kernelspec": {
   "display_name": "Python 3",
   "language": "python",
   "name": "python3"
  },
  "language_info": {
   "codemirror_mode": {
    "name": "ipython",
    "version": 3
   },
   "file_extension": ".py",
   "mimetype": "text/x-python",
   "name": "python",
   "nbconvert_exporter": "python",
   "pygments_lexer": "ipython3",
   "version": "3.10.10"
  }
 },
 "nbformat": 4,
 "nbformat_minor": 2
}
